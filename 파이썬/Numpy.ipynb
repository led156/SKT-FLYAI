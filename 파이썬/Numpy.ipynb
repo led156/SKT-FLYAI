{
 "cells": [
  {
   "cell_type": "markdown",
   "metadata": {
    "id": "3Bst_mefG4zr"
   },
   "source": [
    "# Numpy"
   ]
  },
  {
   "cell_type": "code",
   "execution_count": null,
   "metadata": {
    "id": "oOsojIoUKhGv"
   },
   "outputs": [],
   "source": [
    "!pip install numpy # 넘파이 사용하기 위한 패키지 설치 (코랩 환경에서 생략 가능), ! : 로컬말고 ..."
   ]
  },
  {
   "cell_type": "code",
   "execution_count": null,
   "metadata": {
    "colab": {
     "base_uri": "https://localhost:8080/"
    },
    "id": "zO3ZzhaLG7No",
    "outputId": "387fa591-7aa3-4b06-a7e9-c42049704503"
   },
   "outputs": [
    {
     "name": "stdout",
     "output_type": "stream",
     "text": [
      "1.21.6\n"
     ]
    }
   ],
   "source": [
    "import numpy as np # 사용할 패키지 불러오기\n",
    "print(np.__version__) # 버전이 달라서 안 되는 경우 있기 때문에 확인. + docs 확인."
   ]
  },
  {
   "cell_type": "markdown",
   "metadata": {
    "id": "NXTtZ_xSKPOs"
   },
   "source": [
    "# 다차원 배열 (N-Dimensional Array) 생성"
   ]
  },
  {
   "cell_type": "markdown",
   "metadata": {
    "id": "JYk_V5fwKe-a"
   },
   "source": [
    "## 1-D Array 생성\n",
    "\n"
   ]
  },
  {
   "cell_type": "code",
   "execution_count": null,
   "metadata": {
    "colab": {
     "base_uri": "https://localhost:8080/"
    },
    "id": "XNdllwGCKLGX",
    "outputId": "29b91c75-d5ab-4dd0-f8a0-e4c0bc18ab39"
   },
   "outputs": [
    {
     "name": "stdout",
     "output_type": "stream",
     "text": [
      "[1 2 3 4]\n",
      "<class 'numpy.ndarray'>\n",
      "(4,)\n"
     ]
    }
   ],
   "source": [
    "arr = np.array([1, 2, 3, 4])\n",
    "\n",
    "print(arr) # [1 2 3 4]\n",
    "print(type(arr)) # <class 'numpy.ndarray'>\n",
    "print(arr.shape) # (4,)"
   ]
  },
  {
   "cell_type": "markdown",
   "metadata": {
    "id": "zfwEhu6_K9RS"
   },
   "source": [
    "## 2-D Array 생성"
   ]
  },
  {
   "cell_type": "code",
   "execution_count": null,
   "metadata": {
    "colab": {
     "base_uri": "https://localhost:8080/"
    },
    "id": "Jr48UVcCDyV8",
    "outputId": "192cfb2f-95bd-4fc5-9086-9a7a7ea22392"
   },
   "outputs": [
    {
     "name": "stdout",
     "output_type": "stream",
     "text": [
      "[[1 2 3 4]\n",
      " [5 6 7 8]]\n",
      "<class 'numpy.ndarray'>\n",
      "(2, 4)\n"
     ]
    }
   ],
   "source": [
    "arr = np.array([[1, 2, 3, 4], [5, 6, 7, 8]])\n",
    "\n",
    "print(arr) # [[1 2 3 4]\n",
    "           # [5 6 7 8]]\n",
    "print(type(arr)) # <class 'numpy.ndarray'>\n",
    "print(arr.shape) # (2, 4)"
   ]
  },
  {
   "cell_type": "markdown",
   "metadata": {
    "id": "rklvyQLBLi9H"
   },
   "source": [
    "## 3-D Array 생성"
   ]
  },
  {
   "cell_type": "code",
   "execution_count": null,
   "metadata": {
    "colab": {
     "base_uri": "https://localhost:8080/"
    },
    "id": "K3fpF9F4Ga7D",
    "outputId": "20bb91e4-bf93-402e-f694-321810b3623b"
   },
   "outputs": [
    {
     "name": "stdout",
     "output_type": "stream",
     "text": [
      "[[[ 1  2  3  4]\n",
      "  [ 5  6  7  8]]\n",
      "\n",
      " [[ 9 10 11 12]\n",
      "  [13 14 15 16]]\n",
      "\n",
      " [[17 18 19 20]\n",
      "  [21 22 23 24]]]\n",
      "<class 'numpy.ndarray'>\n",
      "(3, 2, 4)\n"
     ]
    }
   ],
   "source": [
    "arr = np.array([[[1, 2, 3, 4], [5, 6, 7, 8]],\n",
    "                [[9, 10, 11, 12], [13, 14, 15, 16]],\n",
    "                [[17, 18, 19, 20], [21, 22, 23, 24]]])\n",
    "\n",
    "print(arr)\n",
    "# [[[ 1  2  3  4]\n",
    "#  [ 5  6  7  8]]\n",
    "# [[ 9 10 11 12]\n",
    "#  [13 14 15 16]]\n",
    "# [[17 18 19 20]\n",
    "#  [21 22 23 24]]]\n",
    "\n",
    "print(type(arr))\n",
    "print(arr.shape) # (3, 2, 4)"
   ]
  },
  {
   "cell_type": "markdown",
   "metadata": {
    "id": "cRUk6AmlOXpO"
   },
   "source": [
    "# 배열의 속성"
   ]
  },
  {
   "cell_type": "code",
   "execution_count": null,
   "metadata": {
    "colab": {
     "base_uri": "https://localhost:8080/"
    },
    "id": "fErO1aa_L1r2",
    "outputId": "3a8f4526-f03c-4468-f121-ba449a05c2ac"
   },
   "outputs": [
    {
     "data": {
      "text/plain": [
       "(3, 2, 4)"
      ]
     },
     "execution_count": 19,
     "metadata": {},
     "output_type": "execute_result"
    }
   ],
   "source": [
    "# 빠르게 데이터 구조를 파악할 때\n",
    "arr.shape "
   ]
  },
  {
   "cell_type": "code",
   "execution_count": null,
   "metadata": {
    "colab": {
     "base_uri": "https://localhost:8080/"
    },
    "id": "a-aeGXURRNM6",
    "outputId": "f43de660-60f3-4852-be43-7f7c0a34b4e6"
   },
   "outputs": [
    {
     "data": {
      "text/plain": [
       "3"
      ]
     },
     "execution_count": 20,
     "metadata": {},
     "output_type": "execute_result"
    }
   ],
   "source": [
    "# 차원 갯수 확인\n",
    "arr.ndim # 3"
   ]
  },
  {
   "cell_type": "code",
   "execution_count": null,
   "metadata": {
    "colab": {
     "base_uri": "https://localhost:8080/"
    },
    "id": "y_tYlApcROHB",
    "outputId": "54f94e1a-9baa-442f-f98a-825a8067d80d"
   },
   "outputs": [
    {
     "data": {
      "text/plain": [
       "24"
      ]
     },
     "execution_count": 21,
     "metadata": {},
     "output_type": "execute_result"
    }
   ],
   "source": [
    "# 전체 데이터(원소) 개수 확인\n",
    "arr.size # 24"
   ]
  },
  {
   "cell_type": "code",
   "execution_count": null,
   "metadata": {
    "colab": {
     "base_uri": "https://localhost:8080/"
    },
    "id": "pFkE5btfROlX",
    "outputId": "8ea29c39-29fb-42a6-8193-e627350aced1"
   },
   "outputs": [
    {
     "data": {
      "text/plain": [
       "dtype('int64')"
      ]
     },
     "execution_count": 22,
     "metadata": {},
     "output_type": "execute_result"
    }
   ],
   "source": [
    "# 데이터 타입 확인\n",
    "arr.dtype # (3, 2, 4)"
   ]
  },
  {
   "cell_type": "code",
   "execution_count": null,
   "metadata": {
    "colab": {
     "base_uri": "https://localhost:8080/"
    },
    "id": "V5H4rD8ZRu4C",
    "outputId": "a98605cc-d276-4621-c881-0b09c16a89ef"
   },
   "outputs": [
    {
     "data": {
      "text/plain": [
       "8"
      ]
     },
     "execution_count": 23,
     "metadata": {},
     "output_type": "execute_result"
    }
   ],
   "source": [
    "# ex. 3차원 데이터에서는 2차원 데이터 하나하나가 아이템!\n",
    "arr.itemsize # 8"
   ]
  },
  {
   "cell_type": "markdown",
   "metadata": {
    "id": "lCkiv0yfR8j0"
   },
   "source": [
    "# 배열의 자료형 (Data Type)"
   ]
  },
  {
   "cell_type": "code",
   "execution_count": null,
   "metadata": {
    "id": "Z7XpYBHIRws6"
   },
   "outputs": [],
   "source": [
    "# 명시적으로 자료형 지정\n",
    "arr = np.array([1, 2, 3], dtype=np.float64)"
   ]
  },
  {
   "cell_type": "markdown",
   "metadata": {
    "id": "9X15dX-TS4vv"
   },
   "source": [
    "# 배열의 형태(Shape)와 축(Axis)"
   ]
  },
  {
   "cell_type": "markdown",
   "metadata": {
    "id": "RUQr0RTuVAW5"
   },
   "source": [
    "# 배열 생성함수"
   ]
  },
  {
   "cell_type": "code",
   "execution_count": null,
   "metadata": {
    "colab": {
     "base_uri": "https://localhost:8080/"
    },
    "id": "f8ntrlmFS8Y5",
    "outputId": "c08facda-6335-4ade-93bd-eb7a9ddf9e01"
   },
   "outputs": [
    {
     "name": "stdout",
     "output_type": "stream",
     "text": [
      "(2001,)\n"
     ]
    }
   ],
   "source": [
    "arr = np.arange(0, 10001, 5)\n",
    "print(arr.shape)"
   ]
  },
  {
   "cell_type": "code",
   "execution_count": null,
   "metadata": {
    "colab": {
     "base_uri": "https://localhost:8080/"
    },
    "id": "CippYl63VrUv",
    "outputId": "382f9687-828a-4796-eb6e-4332152fc4ab"
   },
   "outputs": [
    {
     "data": {
      "text/plain": [
       "array([0., 1., 2., 3., 4.])"
      ]
     },
     "execution_count": 28,
     "metadata": {},
     "output_type": "execute_result"
    }
   ],
   "source": [
    "np.linspace(0, 4, 5)"
   ]
  },
  {
   "cell_type": "code",
   "execution_count": null,
   "metadata": {
    "colab": {
     "base_uri": "https://localhost:8080/"
    },
    "id": "5GzGleS2WOnJ",
    "outputId": "a39c4170-d1ea-46c9-ad41-b53ef24f9282"
   },
   "outputs": [
    {
     "data": {
      "text/plain": [
       "array([0., 2., 4.])"
      ]
     },
     "execution_count": 29,
     "metadata": {},
     "output_type": "execute_result"
    }
   ],
   "source": [
    "np.linspace(0, 4, 3)"
   ]
  },
  {
   "cell_type": "code",
   "execution_count": null,
   "metadata": {
    "colab": {
     "base_uri": "https://localhost:8080/"
    },
    "id": "Xlpzmfl4hw4p",
    "outputId": "7a74bef6-3d3e-4f9b-ce21-53c41b78b21a"
   },
   "outputs": [
    {
     "data": {
      "text/plain": [
       "array([0.  , 0.25, 0.5 , 0.75, 1.  ])"
      ]
     },
     "execution_count": 45,
     "metadata": {},
     "output_type": "execute_result"
    }
   ],
   "source": [
    "np.linspace(0, 1, 5)"
   ]
  },
  {
   "cell_type": "code",
   "execution_count": null,
   "metadata": {
    "colab": {
     "base_uri": "https://localhost:8080/"
    },
    "id": "e7EWEGy6WP8k",
    "outputId": "a2e50fbb-b906-4858-aeba-6e2d26d97f1c"
   },
   "outputs": [
    {
     "data": {
      "text/plain": [
       "array([  0.        ,   5.26315789,  10.52631579,  15.78947368,\n",
       "        21.05263158,  26.31578947,  31.57894737,  36.84210526,\n",
       "        42.10526316,  47.36842105,  52.63157895,  57.89473684,\n",
       "        63.15789474,  68.42105263,  73.68421053,  78.94736842,\n",
       "        84.21052632,  89.47368421,  94.73684211, 100.        ])"
      ]
     },
     "execution_count": 30,
     "metadata": {},
     "output_type": "execute_result"
    }
   ],
   "source": [
    "np.linspace(0, 100, 20) # min 0에서 max 100 안의, 일정한 값들을 필요로 할 때"
   ]
  },
  {
   "cell_type": "code",
   "execution_count": null,
   "metadata": {
    "colab": {
     "base_uri": "https://localhost:8080/"
    },
    "id": "iFvR15fxWh0O",
    "outputId": "390ce04e-955a-4229-ce06-6263697b4cee"
   },
   "outputs": [
    {
     "data": {
      "text/plain": [
       "array([[0., 0., 0.],\n",
       "       [0., 0., 0.]])"
      ]
     },
     "execution_count": 31,
     "metadata": {},
     "output_type": "execute_result"
    }
   ],
   "source": [
    "np.zeros((2, 3))\n",
    "\n",
    "# * (2,3) 을 튜플로 받아감!"
   ]
  },
  {
   "cell_type": "code",
   "execution_count": null,
   "metadata": {
    "colab": {
     "base_uri": "https://localhost:8080/"
    },
    "id": "sY5O3_M5Wumh",
    "outputId": "0e6db9fa-4deb-43b3-8cb3-0c583b47ca12"
   },
   "outputs": [
    {
     "data": {
      "text/plain": [
       "array([[[1., 1., 1., 1.],\n",
       "        [1., 1., 1., 1.]],\n",
       "\n",
       "       [[1., 1., 1., 1.],\n",
       "        [1., 1., 1., 1.]],\n",
       "\n",
       "       [[1., 1., 1., 1.],\n",
       "        [1., 1., 1., 1.]]])"
      ]
     },
     "execution_count": 32,
     "metadata": {},
     "output_type": "execute_result"
    }
   ],
   "source": [
    "np.ones((3, 2, 4))"
   ]
  },
  {
   "cell_type": "code",
   "execution_count": null,
   "metadata": {
    "colab": {
     "base_uri": "https://localhost:8080/"
    },
    "id": "BLR4p6t4W-Q4",
    "outputId": "20eb83cc-cbdc-479c-ffa3-941f5ced77d2"
   },
   "outputs": [
    {
     "data": {
      "text/plain": [
       "array([[5., 5., 5.],\n",
       "       [5., 5., 5.]])"
      ]
     },
     "execution_count": 34,
     "metadata": {},
     "output_type": "execute_result"
    }
   ],
   "source": [
    "np.full((2, 3), 5.0)"
   ]
  },
  {
   "cell_type": "markdown",
   "metadata": {
    "id": "K5aMx8DZj_Pa"
   },
   "source": [
    "---"
   ]
  },
  {
   "cell_type": "code",
   "execution_count": null,
   "metadata": {
    "id": "JbmGfZRngezl"
   },
   "outputs": [],
   "source": [
    "a1 = np.array([1, 2, 3, 4, 5])\n",
    "print(a1)\n",
    "print(type(a1))\n",
    "print(a1.shape)\n",
    "print(a1[0], a1[1], a1[2], a1[3], a1[4])\n",
    "a1[0] = 4\n",
    "a1[1] = 5\n",
    "a1[2] = 6\n",
    "print(a1)"
   ]
  },
  {
   "cell_type": "code",
   "execution_count": null,
   "metadata": {
    "colab": {
     "base_uri": "https://localhost:8080/"
    },
    "id": "sVaa7nW2XFIt",
    "outputId": "25cd2c37-11dc-4763-8231-60201af23359"
   },
   "outputs": [
    {
     "name": "stdout",
     "output_type": "stream",
     "text": [
      "[[1 2 3]\n",
      " [4 5 6]\n",
      " [7 8 9]]\n",
      "(3, 3)\n",
      "1 5 9\n"
     ]
    }
   ],
   "source": [
    "a2 = np.array([ [1,2,3], [4,5,6], [7,8,9]])\n",
    "print(a2)\n",
    "print(a2.shape)\n",
    "print(a2[0,0], a2[1, 1], a2[2,2])"
   ]
  },
  {
   "cell_type": "code",
   "execution_count": null,
   "metadata": {
    "colab": {
     "base_uri": "https://localhost:8080/"
    },
    "id": "8Y0D2YZ1gfq4",
    "outputId": "9a715328-2c0e-4801-c182-560092a90130"
   },
   "outputs": [
    {
     "name": "stdout",
     "output_type": "stream",
     "text": [
      "[[[1 2 3]\n",
      "  [4 5 6]\n",
      "  [7 8 9]]\n",
      "\n",
      " [[1 2 3]\n",
      "  [4 5 6]\n",
      "  [7 8 9]]\n",
      "\n",
      " [[1 2 3]\n",
      "  [4 5 6]\n",
      "  [7 8 9]]]\n",
      "(3, 3, 3)\n"
     ]
    }
   ],
   "source": [
    "a3 = np.array([[[1, 2, 3], [4, 5, 6], [7, 8, 9]],\n",
    "             [[1, 2, 3], [4, 5, 6], [7, 8, 9]],\n",
    "             [[1, 2, 3], [4, 5, 6], [7, 8, 9]]])\n",
    "print(a3)\n",
    "print(a3.shape)"
   ]
  },
  {
   "cell_type": "markdown",
   "metadata": {
    "id": "GReDZdRNBkT6"
   },
   "source": [
    "# eye : 단위행렬"
   ]
  },
  {
   "cell_type": "code",
   "execution_count": null,
   "metadata": {
    "colab": {
     "base_uri": "https://localhost:8080/"
    },
    "id": "iZnZmG3ogoTj",
    "outputId": "77345c70-73fd-4558-d565-41975410af92"
   },
   "outputs": [
    {
     "data": {
      "text/plain": [
       "array([[1., 0., 0.],\n",
       "       [0., 1., 0.],\n",
       "       [0., 0., 1.]])"
      ]
     },
     "execution_count": 38,
     "metadata": {},
     "output_type": "execute_result"
    }
   ],
   "source": [
    "# eye() : 단위행렬(identity matrix) 생성\n",
    "np.eye(3)"
   ]
  },
  {
   "cell_type": "markdown",
   "metadata": {
    "id": "p13AchuRBoe4"
   },
   "source": [
    "# tri : 삼각행렬"
   ]
  },
  {
   "cell_type": "code",
   "execution_count": null,
   "metadata": {
    "colab": {
     "base_uri": "https://localhost:8080/"
    },
    "id": "6UucWAf_g4aC",
    "outputId": "d55a38a4-4d04-4c87-a2d6-21cedeb874a6"
   },
   "outputs": [
    {
     "data": {
      "text/plain": [
       "array([[1., 0., 0.],\n",
       "       [1., 1., 0.],\n",
       "       [1., 1., 1.]])"
      ]
     },
     "execution_count": 39,
     "metadata": {},
     "output_type": "execute_result"
    }
   ],
   "source": [
    "np.tri(3)"
   ]
  },
  {
   "cell_type": "markdown",
   "metadata": {
    "id": "x7acy8QEBqMM"
   },
   "source": [
    "# empty"
   ]
  },
  {
   "cell_type": "code",
   "execution_count": null,
   "metadata": {
    "colab": {
     "base_uri": "https://localhost:8080/"
    },
    "id": "E9rS9KEpgu2g",
    "outputId": "3e233f84-e2e3-4728-e69d-0e30390a6f2d"
   },
   "outputs": [
    {
     "data": {
      "text/plain": [
       "array([3.38329514e-316, 1.77863633e-322, 0.00000000e+000, 0.00000000e+000,\n",
       "       0.00000000e+000, 1.22309266e+161, 5.92934620e-038, 6.81518361e-091,\n",
       "       1.25581582e-071, 4.24373103e-315])"
      ]
     },
     "execution_count": 40,
     "metadata": {},
     "output_type": "execute_result"
    }
   ],
   "source": [
    "np.empty(10)"
   ]
  },
  {
   "cell_type": "code",
   "execution_count": null,
   "metadata": {
    "colab": {
     "base_uri": "https://localhost:8080/"
    },
    "id": "pVHPkXOrhH9Q",
    "outputId": "3eba3926-1961-48b7-a389-4f00d909753d"
   },
   "outputs": [
    {
     "name": "stdout",
     "output_type": "stream",
     "text": [
      "[4 5 6 4 5]\n"
     ]
    }
   ],
   "source": [
    "print(a1)"
   ]
  },
  {
   "cell_type": "markdown",
   "metadata": {
    "id": "uFcmA83KBs1O"
   },
   "source": [
    "# like"
   ]
  },
  {
   "cell_type": "code",
   "execution_count": null,
   "metadata": {
    "colab": {
     "base_uri": "https://localhost:8080/"
    },
    "id": "W0Yrm_KthN3u",
    "outputId": "baa6beb9-2b2b-4dc4-cf88-7e79039c8a72"
   },
   "outputs": [
    {
     "data": {
      "text/plain": [
       "array([0, 0, 0, 0, 0])"
      ]
     },
     "execution_count": 42,
     "metadata": {},
     "output_type": "execute_result"
    }
   ],
   "source": [
    "np.zeros_like(a1) # a1 과 자릿수가 똑같은 행렬이 0으로 초기화되어 만들어짐."
   ]
  },
  {
   "cell_type": "code",
   "execution_count": null,
   "metadata": {
    "colab": {
     "base_uri": "https://localhost:8080/"
    },
    "id": "4HA7p3YZhgN1",
    "outputId": "d81963ca-78ec-4549-ce51-aea6b2f760f6"
   },
   "outputs": [
    {
     "data": {
      "text/plain": [
       "array([[0, 0, 0],\n",
       "       [0, 0, 0],\n",
       "       [0, 0, 0]])"
      ]
     },
     "execution_count": 43,
     "metadata": {},
     "output_type": "execute_result"
    }
   ],
   "source": [
    "np.zeros_like(a2)"
   ]
  },
  {
   "cell_type": "code",
   "execution_count": null,
   "metadata": {
    "colab": {
     "base_uri": "https://localhost:8080/"
    },
    "id": "2Ge6NYBMho92",
    "outputId": "7b256b3b-1806-4e40-f305-7ca340e68255"
   },
   "outputs": [
    {
     "data": {
      "text/plain": [
       "array([[[10, 10, 10],\n",
       "        [10, 10, 10],\n",
       "        [10, 10, 10]],\n",
       "\n",
       "       [[10, 10, 10],\n",
       "        [10, 10, 10],\n",
       "        [10, 10, 10]],\n",
       "\n",
       "       [[10, 10, 10],\n",
       "        [10, 10, 10],\n",
       "        [10, 10, 10]]])"
      ]
     },
     "execution_count": 44,
     "metadata": {},
     "output_type": "execute_result"
    }
   ],
   "source": [
    "np.full_like(a3, 10)"
   ]
  },
  {
   "cell_type": "markdown",
   "metadata": {
    "id": "t4R2MznGB8cx"
   },
   "source": [
    "# random"
   ]
  },
  {
   "cell_type": "code",
   "execution_count": null,
   "metadata": {
    "colab": {
     "base_uri": "https://localhost:8080/"
    },
    "id": "PMEAhHoPh6EL",
    "outputId": "ef25f1c0-6117-4a33-cf06-c154d8173a82"
   },
   "outputs": [
    {
     "data": {
      "text/plain": [
       "array([[0.92847266, 0.66982719, 0.43979053],\n",
       "       [0.32961728, 0.24375423, 0.66235165],\n",
       "       [0.86374113, 0.33952094, 0.76736192]])"
      ]
     },
     "execution_count": 47,
     "metadata": {},
     "output_type": "execute_result"
    }
   ],
   "source": [
    "np.random.random((3, 3))"
   ]
  },
  {
   "cell_type": "code",
   "execution_count": null,
   "metadata": {
    "colab": {
     "base_uri": "https://localhost:8080/"
    },
    "id": "GftQYk8miC0d",
    "outputId": "e7b978ae-13f0-4929-8914-6982de934f13"
   },
   "outputs": [
    {
     "data": {
      "text/plain": [
       "array([[0, 5, 2],\n",
       "       [6, 6, 8],\n",
       "       [9, 9, 1]])"
      ]
     },
     "execution_count": 50,
     "metadata": {},
     "output_type": "execute_result"
    }
   ],
   "source": [
    "np.random.randint(0, 10, (3, 3))"
   ]
  },
  {
   "cell_type": "code",
   "execution_count": null,
   "metadata": {
    "colab": {
     "base_uri": "https://localhost:8080/"
    },
    "id": "ONqLLG6kiI0l",
    "outputId": "a95388f0-0597-452d-fa16-7757625802b8"
   },
   "outputs": [
    {
     "data": {
      "text/plain": [
       "array([[ 0.58200513, -0.81838983,  1.87163284],\n",
       "       [-2.23865225,  0.53169764,  0.4140869 ],\n",
       "       [ 0.2061664 ,  2.06779136,  0.41011321]])"
      ]
     },
     "execution_count": 51,
     "metadata": {},
     "output_type": "execute_result"
    }
   ],
   "source": [
    "np.random.normal(0, 1, (3, 3)) # 정규분포를 고려한 랜덤한 수의 배열 생성, 평균 = 0, 표준편차 = 1.3 * 3 배열"
   ]
  },
  {
   "cell_type": "code",
   "execution_count": null,
   "metadata": {
    "colab": {
     "base_uri": "https://localhost:8080/"
    },
    "id": "A-jEO1vPiQQq",
    "outputId": "e5050f1b-a09a-4359-c51b-b1f640673dcc"
   },
   "outputs": [
    {
     "data": {
      "text/plain": [
       "array([[0.28512384, 0.41890424, 0.0195678 ],\n",
       "       [0.34358843, 0.16744489, 0.34482238],\n",
       "       [0.38594809, 0.48748505, 0.35481209]])"
      ]
     },
     "execution_count": 52,
     "metadata": {},
     "output_type": "execute_result"
    }
   ],
   "source": [
    "np.random.rand(3, 3) # 균등분포를 고려한 랜덤한 수의 배열 생성"
   ]
  },
  {
   "cell_type": "code",
   "execution_count": null,
   "metadata": {
    "colab": {
     "base_uri": "https://localhost:8080/"
    },
    "id": "tfd-Uu5Vih3r",
    "outputId": "0bc482c4-3f08-45b2-e626-8288af2958e1"
   },
   "outputs": [
    {
     "data": {
      "text/plain": [
       "array([[-1.00024492,  0.45781263,  1.25900942],\n",
       "       [ 0.95819174, -1.51542518, -0.10888116],\n",
       "       [ 0.15817179, -0.16681152, -0.47257975]])"
      ]
     },
     "execution_count": 53,
     "metadata": {},
     "output_type": "execute_result"
    }
   ],
   "source": [
    "# 표준 정규 분포를 고려한 랜덤한 수의 배열 생성\n",
    "np.random.randn(3, 3)"
   ]
  },
  {
   "cell_type": "markdown",
   "metadata": {
    "id": "sTF0nsSwCDrM"
   },
   "source": [
    "# ones, dtype=bool"
   ]
  },
  {
   "cell_type": "code",
   "execution_count": null,
   "metadata": {
    "colab": {
     "base_uri": "https://localhost:8080/"
    },
    "id": "9r91SL5Oi_3J",
    "outputId": "61159f18-1f88-40d6-9793-7ba99be9ea43"
   },
   "outputs": [
    {
     "data": {
      "text/plain": [
       "array([[ True,  True,  True],\n",
       "       [ True,  True,  True],\n",
       "       [ True,  True,  True]])"
      ]
     },
     "execution_count": 56,
     "metadata": {},
     "output_type": "execute_result"
    }
   ],
   "source": [
    "np.ones((3, 3), dtype=bool)\n",
    "\n",
    "# 예를 들어.. 데이터를 수집했을 때, 들어온 데이터에 값이 있으면 True, 없으면 False. -> 문제가 되는 데이터들을 추출할 수 있는 방법."
   ]
  },
  {
   "cell_type": "markdown",
   "metadata": {
    "id": "oyZ35HuGAgKV"
   },
   "source": [
    "###넘파이(Numpy)에서 날짜와 시간\n",
    "넘파이에서 날짜와 시간은 datetime64 객체로 표현한다. 기존 파이썬의 datetime.datetime과 넘파이의 datetime64의 차이점은 시간 단위이다. datetime.datetime은 시간을 마이크로초(10-6)단위까지 관리하며, 넘파이의 datetime64는 아토초(10-18)단위까지 관리한다"
   ]
  },
  {
   "cell_type": "code",
   "execution_count": null,
   "metadata": {
    "id": "-ML5D19MApMG"
   },
   "outputs": [],
   "source": [
    "import numpy as np\n",
    "np.datetime64('2021-12-21') # 문자열 형식으로 전달해서 생성하는 방법"
   ]
  },
  {
   "cell_type": "code",
   "execution_count": null,
   "metadata": {
    "id": "dF_fBNqfAp-t"
   },
   "outputs": [],
   "source": [
    "import numpy as np\n",
    "np.datetime64(1000,'ns')\t\t#나노초\n",
    "np.datetime64(10000,'D')\t\t#일\n",
    "np.datetime64(1000000000,'s')\t#초\n",
    "# 유닉스 시간을 이용하는 방법\n",
    "# np.datetime64함수의 첫번째 인자로 수치 데이터를, 두번째 인자로 단위를 넣어주면 된다."
   ]
  },
  {
   "cell_type": "code",
   "execution_count": null,
   "metadata": {
    "id": "LvO86GppAqOg"
   },
   "outputs": [],
   "source": [
    "import numpy as np\n",
    "np.array(['2000-05-05', '2007-01-11', '2013-08-15'], dtype='datetime64')\n",
    "# array()함수를 사용하는 방법\n",
    "# np.array()함수에 첫번째 인자로 str타입의 날짜 리스트를 넣고, 두번째 인자로 dtype(데이터 타입)을 'datetime64'로 설정하면 첫번째 인자로 넣은 리스트의 타입이 날짜로 변경된다."
   ]
  },
  {
   "cell_type": "code",
   "execution_count": null,
   "metadata": {
    "id": "6Nl1Q0ipBPEo"
   },
   "outputs": [],
   "source": [
    "import numpy as np\n",
    "np.arange('2005-05', '2006-02', dtype='datetime64[M]') # 월단위\n",
    "# arange()함수를 사용해 범위를 통해 날짜를 생성하는 방법\n",
    "# np.arange()함수에 첫번째 인자로는 시작하는 날짜, 두번째 인자로는 종료하는 날짜, 마지막 인자로 dtype을 넣어주면 주어진 범위에 맞는 날짜 배열을 생성한다. dtype의 경우 방법3에서 설명한 것처럼 '[]'안에 어떤 값을 넣는지에 따라 날짜 단위를 지정할 수 있다."
   ]
  },
  {
   "cell_type": "markdown",
   "metadata": {
    "id": "AK5A0hSOwo8E"
   },
   "source": [
    "**단위코드**<br>\n",
    "Y : 년<br>\n",
    "M : 월<br>\n",
    "W : 주<br>\n",
    "D : 일<br>\n",
    "h : 시간<br>\n",
    "m : 분<br>\n",
    "s : 초<br>\n",
    "ms : 밀리초<br>\n",
    "us : 마이크로초<br>\n",
    "ns : 나노초<br>\n",
    "ps : 피코초<br>\n",
    "fs : 펨토초<br>\n",
    "as : 아토초"
   ]
  },
  {
   "cell_type": "code",
   "execution_count": null,
   "metadata": {
    "colab": {
     "base_uri": "https://localhost:8080/"
    },
    "id": "rpaj7uybjK-7",
    "outputId": "720cfbd0-2eec-48d2-d67f-ecb7f6aab008"
   },
   "outputs": [
    {
     "data": {
      "text/plain": [
       "array('2023-01-01', dtype='datetime64[D]')"
      ]
     },
     "execution_count": 58,
     "metadata": {},
     "output_type": "execute_result"
    }
   ],
   "source": [
    "data = np.array('2023-01-01', dtype=np.datetime64)\n",
    "data"
   ]
  },
  {
   "cell_type": "code",
   "execution_count": null,
   "metadata": {
    "colab": {
     "base_uri": "https://localhost:8080/"
    },
    "id": "IlAMIM8wjy28",
    "outputId": "0941b6f3-7887-4454-d2a8-121aa3f51950"
   },
   "outputs": [
    {
     "data": {
      "text/plain": [
       "array(['2023-01-01', '2023-01-02', '2023-01-03', '2023-01-04',\n",
       "       '2023-01-05', '2023-01-06', '2023-01-07', '2023-01-08',\n",
       "       '2023-01-09', '2023-01-10', '2023-01-11', '2023-01-12',\n",
       "       '2023-01-13', '2023-01-14', '2023-01-15', '2023-01-16',\n",
       "       '2023-01-17', '2023-01-18', '2023-01-19', '2023-01-20',\n",
       "       '2023-01-21', '2023-01-22', '2023-01-23', '2023-01-24',\n",
       "       '2023-01-25', '2023-01-26', '2023-01-27', '2023-01-28',\n",
       "       '2023-01-29', '2023-01-30', '2023-01-31', '2023-02-01',\n",
       "       '2023-02-02', '2023-02-03', '2023-02-04', '2023-02-05',\n",
       "       '2023-02-06', '2023-02-07', '2023-02-08', '2023-02-09',\n",
       "       '2023-02-10', '2023-02-11', '2023-02-12', '2023-02-13',\n",
       "       '2023-02-14', '2023-02-15', '2023-02-16', '2023-02-17',\n",
       "       '2023-02-18', '2023-02-19'], dtype='datetime64[D]')"
      ]
     },
     "execution_count": 61,
     "metadata": {},
     "output_type": "execute_result"
    }
   ],
   "source": [
    "data + np.arange(50) # 초기값이 data 가 되고, 나머지는 1단위로 증가. 타입이 날짜이므로, 달도 넘어감. -> 가짜의 날짜 데이터를 만들 수 있음."
   ]
  },
  {
   "cell_type": "markdown",
   "metadata": {
    "id": "BfdpbznMBDqP"
   },
   "source": [
    "# insert, true/false"
   ]
  },
  {
   "cell_type": "code",
   "execution_count": null,
   "metadata": {
    "colab": {
     "base_uri": "https://localhost:8080/"
    },
    "id": "IFgvGDBKj7a5",
    "outputId": "20a0fe14-b7d9-4d18-bf3e-b240b7664b65"
   },
   "outputs": [
    {
     "name": "stdout",
     "output_type": "stream",
     "text": [
      "[4 5 6 4 5]\n"
     ]
    }
   ],
   "source": [
    "print(a1)"
   ]
  },
  {
   "cell_type": "code",
   "execution_count": null,
   "metadata": {
    "colab": {
     "base_uri": "https://localhost:8080/"
    },
    "id": "V_qF39kwkYB5",
    "outputId": "064d1d8b-9f8b-494f-d246-4b12ad6a789a"
   },
   "outputs": [
    {
     "name": "stdout",
     "output_type": "stream",
     "text": [
      "[5 6 5]\n"
     ]
    }
   ],
   "source": [
    "bi = [False, True, True, False, True]\n",
    "print(a1[bi]) # True 에 해당하는 idx 의 값만 추출."
   ]
  },
  {
   "cell_type": "code",
   "execution_count": null,
   "metadata": {
    "colab": {
     "base_uri": "https://localhost:8080/"
    },
    "id": "8VCVSRyhkiVx",
    "outputId": "bde996df-3181-4562-99a5-2c0a8bb20c38"
   },
   "outputs": [
    {
     "data": {
      "text/plain": [
       "array([10,  4,  5,  6,  4,  5])"
      ]
     },
     "execution_count": 65,
     "metadata": {},
     "output_type": "execute_result"
    }
   ],
   "source": [
    "b1 = np.insert(a1, 0, 10) # 0번째 idx에 값 10을 넣음.\n",
    "b1"
   ]
  },
  {
   "cell_type": "code",
   "execution_count": null,
   "metadata": {
    "id": "kgzel6Ubk2qM"
   },
   "outputs": [],
   "source": []
  }
 ],
 "metadata": {
  "colab": {
   "provenance": []
  },
  "kernelspec": {
   "display_name": "Python 3 (ipykernel)",
   "language": "python",
   "name": "python3"
  },
  "language_info": {
   "codemirror_mode": {
    "name": "ipython",
    "version": 3
   },
   "file_extension": ".py",
   "mimetype": "text/x-python",
   "name": "python",
   "nbconvert_exporter": "python",
   "pygments_lexer": "ipython3",
   "version": "3.10.8"
  }
 },
 "nbformat": 4,
 "nbformat_minor": 1
}
