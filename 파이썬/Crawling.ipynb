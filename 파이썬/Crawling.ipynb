{
  "nbformat": 4,
  "nbformat_minor": 0,
  "metadata": {
    "colab": {
      "provenance": [],
      "toc_visible": true
    },
    "kernelspec": {
      "name": "python3",
      "display_name": "Python 3"
    },
    "language_info": {
      "name": "python"
    }
  },
  "cells": [
    {
      "cell_type": "markdown",
      "source": [
        "# 크롤링"
      ],
      "metadata": {
        "id": "R4r7iC5TRj8L"
      }
    },
    {
      "cell_type": "code",
      "source": [
        "!pip install requests\n",
        "!pip install BeautifulSoup4"
      ],
      "metadata": {
        "colab": {
          "base_uri": "https://localhost:8080/"
        },
        "id": "I-YTBeSeRk-h",
        "outputId": "56ea9e2d-e4fd-4003-9af2-f2cf4f26521b"
      },
      "execution_count": 2,
      "outputs": [
        {
          "output_type": "stream",
          "name": "stdout",
          "text": [
            "Looking in indexes: https://pypi.org/simple, https://us-python.pkg.dev/colab-wheels/public/simple/\n",
            "Requirement already satisfied: requests in /usr/local/lib/python3.8/dist-packages (2.23.0)\n",
            "Requirement already satisfied: chardet<4,>=3.0.2 in /usr/local/lib/python3.8/dist-packages (from requests) (3.0.4)\n",
            "Requirement already satisfied: certifi>=2017.4.17 in /usr/local/lib/python3.8/dist-packages (from requests) (2022.12.7)\n",
            "Requirement already satisfied: urllib3!=1.25.0,!=1.25.1,<1.26,>=1.21.1 in /usr/local/lib/python3.8/dist-packages (from requests) (1.24.3)\n",
            "Requirement already satisfied: idna<3,>=2.5 in /usr/local/lib/python3.8/dist-packages (from requests) (2.10)\n",
            "Looking in indexes: https://pypi.org/simple, https://us-python.pkg.dev/colab-wheels/public/simple/\n",
            "Requirement already satisfied: BeautifulSoup4 in /usr/local/lib/python3.8/dist-packages (4.6.3)\n"
          ]
        }
      ]
    },
    {
      "cell_type": "markdown",
      "source": [
        "* F12 : 개발자 도구\n",
        "  - F1 → disable javascript\n",
        "---\n",
        "* Tag\n",
        "* Id\n",
        "* Class ```.```\n",
        "\n",
        "\n",
        "  - ex) class=\"ball645 ball1\" : ball645 아래의 ball1"
      ],
      "metadata": {
        "id": "wXp9kbb4S4U2"
      }
    },
    {
      "cell_type": "markdown",
      "source": [
        "## 기초"
      ],
      "metadata": {
        "id": "bZWk615EcbM-"
      }
    },
    {
      "cell_type": "code",
      "source": [
        "import requests\n",
        "from bs4 import BeautifulSoup as bs # 여러개의 패키지 중 하나만"
      ],
      "metadata": {
        "id": "w0USprq5SAaI"
      },
      "execution_count": 5,
      "outputs": []
    },
    {
      "cell_type": "code",
      "source": [
        "res = requests.get('https://dhlottery.co.kr/common.do?method=main') # 통신 결과를 res 에 담음.\n",
        "res # res.content -> body"
      ],
      "metadata": {
        "colab": {
          "base_uri": "https://localhost:8080/"
        },
        "id": "RQbUVNaxUdHa",
        "outputId": "d9428a75-80d5-4f9a-d6f7-1b9116123605"
      },
      "execution_count": 6,
      "outputs": [
        {
          "output_type": "execute_result",
          "data": {
            "text/plain": [
              "<Response [200]>"
            ]
          },
          "metadata": {},
          "execution_count": 6
        }
      ]
    },
    {
      "cell_type": "code",
      "source": [
        "soup = bs(res.content, 'html.parser') # 가져온 res의 content 를"
      ],
      "metadata": {
        "id": "JdH-t4zWUv1D"
      },
      "execution_count": null,
      "outputs": []
    },
    {
      "cell_type": "code",
      "source": [
        "result = soup.select('.ball_645') # ball_645 클래스인것만 가져와 리스트 생성"
      ],
      "metadata": {
        "id": "M9lUJ_PEVKJr"
      },
      "execution_count": 12,
      "outputs": []
    },
    {
      "cell_type": "code",
      "source": [
        "for num in result:\n",
        "  print(num.text, end='번 ') # tag 를 빼고 text 만 꺼내옴"
      ],
      "metadata": {
        "colab": {
          "base_uri": "https://localhost:8080/"
        },
        "id": "I_c3Zm6LWEfa",
        "outputId": "98d3d441-3feb-452c-b8e4-05c22cf08315"
      },
      "execution_count": 39,
      "outputs": [
        {
          "output_type": "stream",
          "name": "stdout",
          "text": [
            "7번 16번 25번 29번 35번 36번 28번 "
          ]
        }
      ]
    },
    {
      "cell_type": "code",
      "source": [
        "nums = []\n",
        "for num in result:\n",
        "  nums.append(int(num.text))"
      ],
      "metadata": {
        "id": "FlgtoWCFX3Jd"
      },
      "execution_count": 40,
      "outputs": []
    },
    {
      "cell_type": "code",
      "source": [
        "# series 형태로 담기\n",
        "import pandas as pd\n",
        "ser = pd.Series(nums)\n",
        "ser"
      ],
      "metadata": {
        "colab": {
          "base_uri": "https://localhost:8080/"
        },
        "id": "_-VzkQmdWU--",
        "outputId": "9fb630df-2451-4a76-938d-940ea5683045"
      },
      "execution_count": 42,
      "outputs": [
        {
          "output_type": "execute_result",
          "data": {
            "text/plain": [
              "0     7\n",
              "1    16\n",
              "2    25\n",
              "3    29\n",
              "4    35\n",
              "5    36\n",
              "6    28\n",
              "dtype: int64"
            ]
          },
          "metadata": {},
          "execution_count": 42
        }
      ]
    },
    {
      "cell_type": "code",
      "source": [
        "# bar 형태로 출력하기\n",
        "import matplotlib.pyplot as plt\n",
        "y = [i for i in range(7)]\n",
        "plt.bar(y, ser)\n",
        "plt.show()"
      ],
      "metadata": {
        "colab": {
          "base_uri": "https://localhost:8080/",
          "height": 265
        },
        "id": "v3RYd6slW3tx",
        "outputId": "7735a90d-fd54-4990-b624-1e826218785b"
      },
      "execution_count": 44,
      "outputs": [
        {
          "output_type": "display_data",
          "data": {
            "text/plain": [
              "<Figure size 432x288 with 1 Axes>"
            ],
            "image/png": "[encoded data removed]"
          },
          "metadata": {
            "needs_background": "light"
          }
        }
      ]
    },
    {
      "cell_type": "markdown",
      "source": [
        "## 뉴스 수집"
      ],
      "metadata": {
        "id": "vA0aU4GdcdYW"
      }
    },
    {
      "cell_type": "code",
      "source": [
        "!pip install newspaper3k"
      ],
      "metadata": {
        "colab": {
          "base_uri": "https://localhost:8080/"
        },
        "id": "YSSUGBuVcRVa",
        "outputId": "0896f51a-73ea-4afb-8bab-1c92bb4e186d"
      },
      "execution_count": 50,
      "outputs": [
        {
          "output_type": "stream",
          "name": "stdout",
          "text": [
            "Looking in indexes: https://pypi.org/simple, https://us-python.pkg.dev/colab-wheels/public/simple/\n",
            "Collecting newspaper3k\n",
            "  Downloading newspaper3k-0.2.8-py3-none-any.whl (211 kB)\n",
            "\u001b[K     |████████████████████████████████| 211 kB 29.3 MB/s \n",
            "\u001b[?25hCollecting tldextract>=2.0.1\n",
            "  Downloading tldextract-3.4.0-py3-none-any.whl (93 kB)\n",
            "\u001b[K     |████████████████████████████████| 93 kB 2.7 MB/s \n",
            "\u001b[?25hCollecting tinysegmenter==0.3\n",
            "  Downloading tinysegmenter-0.3.tar.gz (16 kB)\n",
            "Collecting cssselect>=0.9.2\n",
            "  Downloading cssselect-1.2.0-py2.py3-none-any.whl (18 kB)\n",
            "Requirement already satisfied: PyYAML>=3.11 in /usr/local/lib/python3.8/dist-packages (from newspaper3k) (6.0)\n",
            "Requirement already satisfied: beautifulsoup4>=4.4.1 in /usr/local/lib/python3.8/dist-packages (from newspaper3k) (4.6.3)\n",
            "Requirement already satisfied: lxml>=3.6.0 in /usr/local/lib/python3.8/dist-packages (from newspaper3k) (4.9.2)\n",
            "Requirement already satisfied: requests>=2.10.0 in /usr/local/lib/python3.8/dist-packages (from newspaper3k) (2.23.0)\n",
            "Collecting feedparser>=5.2.1\n",
            "  Downloading feedparser-6.0.10-py3-none-any.whl (81 kB)\n",
            "\u001b[K     |████████████████████████████████| 81 kB 9.5 MB/s \n",
            "\u001b[?25hRequirement already satisfied: Pillow>=3.3.0 in /usr/local/lib/python3.8/dist-packages (from newspaper3k) (7.1.2)\n",
            "Collecting jieba3k>=0.35.1\n",
            "  Downloading jieba3k-0.35.1.zip (7.4 MB)\n",
            "\u001b[K     |████████████████████████████████| 7.4 MB 46.1 MB/s \n",
            "\u001b[?25hCollecting feedfinder2>=0.0.4\n",
            "  Downloading feedfinder2-0.0.4.tar.gz (3.3 kB)\n",
            "Requirement already satisfied: nltk>=3.2.1 in /usr/local/lib/python3.8/dist-packages (from newspaper3k) (3.7)\n",
            "Requirement already satisfied: python-dateutil>=2.5.3 in /usr/local/lib/python3.8/dist-packages (from newspaper3k) (2.8.2)\n",
            "Requirement already satisfied: six in /usr/local/lib/python3.8/dist-packages (from feedfinder2>=0.0.4->newspaper3k) (1.15.0)\n",
            "Collecting sgmllib3k\n",
            "  Downloading sgmllib3k-1.0.0.tar.gz (5.8 kB)\n",
            "Requirement already satisfied: joblib in /usr/local/lib/python3.8/dist-packages (from nltk>=3.2.1->newspaper3k) (1.2.0)\n",
            "Requirement already satisfied: tqdm in /usr/local/lib/python3.8/dist-packages (from nltk>=3.2.1->newspaper3k) (4.64.1)\n",
            "Requirement already satisfied: click in /usr/local/lib/python3.8/dist-packages (from nltk>=3.2.1->newspaper3k) (7.1.2)\n",
            "Requirement already satisfied: regex>=2021.8.3 in /usr/local/lib/python3.8/dist-packages (from nltk>=3.2.1->newspaper3k) (2022.6.2)\n",
            "Requirement already satisfied: idna<3,>=2.5 in /usr/local/lib/python3.8/dist-packages (from requests>=2.10.0->newspaper3k) (2.10)\n",
            "Requirement already satisfied: certifi>=2017.4.17 in /usr/local/lib/python3.8/dist-packages (from requests>=2.10.0->newspaper3k) (2022.12.7)\n",
            "Requirement already satisfied: chardet<4,>=3.0.2 in /usr/local/lib/python3.8/dist-packages (from requests>=2.10.0->newspaper3k) (3.0.4)\n",
            "Requirement already satisfied: urllib3!=1.25.0,!=1.25.1,<1.26,>=1.21.1 in /usr/local/lib/python3.8/dist-packages (from requests>=2.10.0->newspaper3k) (1.24.3)\n",
            "Requirement already satisfied: filelock>=3.0.8 in /usr/local/lib/python3.8/dist-packages (from tldextract>=2.0.1->newspaper3k) (3.8.2)\n",
            "Collecting requests-file>=1.4\n",
            "  Downloading requests_file-1.5.1-py2.py3-none-any.whl (3.7 kB)\n",
            "Building wheels for collected packages: tinysegmenter, feedfinder2, jieba3k, sgmllib3k\n",
            "  Building wheel for tinysegmenter (setup.py) ... \u001b[?25l\u001b[?25hdone\n",
            "  Created wheel for tinysegmenter: filename=tinysegmenter-0.3-py3-none-any.whl size=13552 sha256=636e32f999a703295092dfd7da06a3e53b2d0bef635709d57d57e32f1a83f42d\n",
            "  Stored in directory: /root/.cache/pip/wheels/99/74/83/8fac1c8d9c648cfabebbbffe97a889f6624817f3aa0bbe6c09\n",
            "  Building wheel for feedfinder2 (setup.py) ... \u001b[?25l\u001b[?25hdone\n",
            "  Created wheel for feedfinder2: filename=feedfinder2-0.0.4-py3-none-any.whl size=3354 sha256=da195d0abacde243430bd4e9a030f7c8227fdfd76f012c8a55c4364f02ba3690\n",
            "  Stored in directory: /root/.cache/pip/wheels/b6/09/68/a9f15498ac02c23dde29f18745bc6a6f574ba4ab41861a3575\n",
            "  Building wheel for jieba3k (setup.py) ... \u001b[?25l\u001b[?25hdone\n",
            "  Created wheel for jieba3k: filename=jieba3k-0.35.1-py3-none-any.whl size=7398405 sha256=7c1df6fb5015f3fe743003f247e6ceeaa7e4acbab2d6bda5627ef2f53c2d46a8\n",
            "  Stored in directory: /root/.cache/pip/wheels/1f/7e/0c/54f3b0f5164278677899f2db08f2b07943ce2d024a3c862afb\n",
            "  Building wheel for sgmllib3k (setup.py) ... \u001b[?25l\u001b[?25hdone\n",
            "  Created wheel for sgmllib3k: filename=sgmllib3k-1.0.0-py3-none-any.whl size=6066 sha256=59d193c9d4881a46b7c8d31d2a276859eaa017e2bc6185d7d3c43aef00f0e24d\n",
            "  Stored in directory: /root/.cache/pip/wheels/83/63/2f/117884c3b19d46b64d3d61690333aa80c88dc14050e269c546\n",
            "Successfully built tinysegmenter feedfinder2 jieba3k sgmllib3k\n",
            "Installing collected packages: sgmllib3k, requests-file, tldextract, tinysegmenter, jieba3k, feedparser, feedfinder2, cssselect, newspaper3k\n",
            "Successfully installed cssselect-1.2.0 feedfinder2-0.0.4 feedparser-6.0.10 jieba3k-0.35.1 newspaper3k-0.2.8 requests-file-1.5.1 sgmllib3k-1.0.0 tinysegmenter-0.3 tldextract-3.4.0\n"
          ]
        }
      ]
    },
    {
      "cell_type": "code",
      "source": [
        "# 기사 본문 가져오기\n",
        "import newspaper as news\n",
        "\n",
        "link = 'https://n.news.naver.com/mnews/article/001/0013653044?sid=105'\n",
        "\n",
        "article = news.Article(link, language='ko')\n",
        "article.download()\n",
        "article.parse()\n",
        "\n",
        "print(article.text) # article.text : 본문만"
      ],
      "metadata": {
        "colab": {
          "base_uri": "https://localhost:8080/"
        },
        "id": "q4WN2iSHepUL",
        "outputId": "6afd8b5e-030e-4d3d-ef24-4a639e223992"
      },
      "execution_count": 52,
      "outputs": [
        {
          "output_type": "stream",
          "name": "stdout",
          "text": [
            "\n",
            "\n",
            "[이노스페이스 제공. 재판매 및 DB 금지] [2022.12.18 송고] [이노스페이스 제공. 재판매 및 DB 금지] [2022.12.18 송고]\n",
            "\n",
            "(서울=연합뉴스) 문다영 기자 = 국내 우주 스타트업 이노스페이스가 20일 오후 6시께 발사할 예정이었던 독자개발 엔진검증용 시험발사체 '한빛-TLV'의 발사가 기술적 문제로 인해 무산됐다.지난 18일 비 예보로 한 차례 연기한 데 이어 두 번째 발사 일정 변경이다.당초 한빛-TLV는 브라질 알칸타라 우주센터에서 현지시간 20일 오전 6시(한국시간 20일 오후 6시)께 발사될 예정이었다.한빛-TLV는 이노스페이스가 독자 개발한 추력 15t급 하이브리드 엔진의 비행 성능을 검증하려는 목적으로 만들어진 1단형 시험발사체다.이노스페이스는 \"브라질 현지시간 20일 오전 4시께 막바지 발사 준비 중 펌프 냉각계 밸브에 이상을 감지했다\"며 \"필요한 기술적 조치를 취한 뒤에 다시 발사를 시도하겠다\"고 말했다.이노스페이스에 따르면 기술진은 현지시간 19일 오후 4시부터 조립동에서 발사대로 시험발사체 '한빛-TLV'를 이송해 발사대에 정상적으로 안착시켰다.이후 기립 전 점검을 하다가 펌프 냉각계 밸브에 문제가 있다는 사실을 확인하고 해결하려고 노력했으나 결국 발사 일정을 미루기로 결론내렸다.현재 이노스페이스 연구진들은 한빛-TLV를 조립동으로 이송해 원인을 확인하고 있다.이노스페이스가 브라질 측과 협의한 한빛-TLV의 발사 예비기간은 21일까지로 아직 하루 남아있다.이노스페이스 관계자는 \"내일(21일) 하루가 남아있어서, 오늘(20일) 조치가 잘 되길 바라고 있다\"고 말했다.만일 21일까지도 문제가 해결되지 않으면, 이노스페이스는 브라질 측과 다시 발사 예비기간을 협의해야 한다.기상이나 기술적 결함으로 발사체의 발사 일정이 미뤄지는 일은 흔하다.한국형 발사체 누리호 2차 발사 때도 기상 문제와 기계적 결함이 각각 발생하며 두 차례 발사가 미뤄진 바 있다.2차 발사 첫 예정일이었던 6월 15일을 하루 앞둔 14일, 나로우주센터 일대에 강한 바람이 불면서 누리호를 조립동에서 발사대로 옮기는 일정과 발사 일정이 하루씩 늦춰졌다.비바람이 가라앉고 날씨가 좋아진 15일 누리호는 조립동에서 발사대로 순조롭게 이송됐지만, 기립 후 1단 산화제 탱크 레벨센서에 이상이 감지됨에 따라 문제 파악을 위해 다시 조립동으로 돌아와야 했다.당시 한국항공우주연구원 기술진은 레벨센서를 교체했으며, 21일 발사를 시도해 성공했다.최근 해외 사례를 보면 미국의 달탐사 프로그램 아르테미스Ⅰ 임무 로켓인 '우주발사시스템'(SLS)도 기술적 문제와 기상 악화로 연거푸 발사가 연기됐다.올해 8월 29일과 9월 3일의 1·2차 발사 시도는 로켓 엔진의 온도 센서 결함, 수소연료 누출 문제 때문에 각각 연기됐다.9월 27일의 3차 발사 시도는 허리케인 이언의 북상으로 취소된 뒤, 11월 14일에 4차 발사를 하려 했으나 열대성 폭풍 '니콜'의 영향으로 또다시 이틀 미뤄졌다.이후 SLS는 11월 16일에 성공적으로 발사됐으며, 이 로켓에 탑재됐던 미국의 달 탐사 캡슐 '오리온'도 목표대로 달 궤도 비행을 마치고 지구로 귀환했다.zero@yna.co.kr\n"
          ]
        }
      ]
    },
    {
      "cell_type": "markdown",
      "source": [
        "### 기사목록에서 링크를 추출해서, 개별 기사 본문 보여주기"
      ],
      "metadata": {
        "id": "dBu5DkHHfzt7"
      }
    },
    {
      "cell_type": "code",
      "source": [
        "# 기사 목록 가져오기\n",
        "res = requests.get('https://news.naver.com/main/main.naver?mode=LSD&mid=shm&sid1=105', headers={'User-agent': 'Mozilla/5.0'}) # 통신 결과를 res 에 담음.\n",
        "# res.content -> body\n",
        "\n",
        "soup = bs(res.content, 'html.parser') # 가져온 res의 content 를 parse\n",
        "\n",
        "result = soup.select('.cluster_text_headline')\n",
        "#result\n",
        "#cluster_text_headline nclicks(cls_sci.clsart)"
      ],
      "metadata": {
        "id": "wXJ4ZNI6fLqi"
      },
      "execution_count": 80,
      "outputs": []
    },
    {
      "cell_type": "code",
      "source": [
        "# 링크 추출\n",
        "links = []\n",
        "for href in result:\n",
        "  links.append((href.text, href.attrs['href'])) # [(title, link), ...]"
      ],
      "metadata": {
        "id": "x9TjGpsNgQ49"
      },
      "execution_count": 98,
      "outputs": []
    },
    {
      "cell_type": "code",
      "source": [
        "for lik in links:\n",
        "  article = news.Article(lik[1], language='ko')\n",
        "  article.download()\n",
        "  article.parse()\n",
        "  print(f'title : {lik[0]}')\n",
        "  print(f'content : {article.text}')"
      ],
      "metadata": {
        "id": "zLvYF9c2kGVC"
      },
      "execution_count": null,
      "outputs": []
    },
    {
      "cell_type": "code",
      "source": [],
      "metadata": {
        "id": "pXatbj34lCrV"
      },
      "execution_count": null,
      "outputs": []
    }
  ]
}