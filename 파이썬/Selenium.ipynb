{
 "cells": [
  {
   "cell_type": "markdown",
   "id": "0710f119",
   "metadata": {},
   "source": [
    "# Selenium"
   ]
  },
  {
   "cell_type": "markdown",
   "id": "4efd66fc",
   "metadata": {},
   "source": [
    "## 4.X version"
   ]
  },
  {
   "cell_type": "code",
   "execution_count": 22,
   "id": "2915d61a",
   "metadata": {
    "scrolled": true
   },
   "outputs": [],
   "source": [
    "from selenium import webdriver\n",
    "from selenium.webdriver.common.by import By\n",
    "from selenium.webdriver.chrome.service import Service\n",
    "from webdriver_manager.chrome import ChromeDriverManager"
   ]
  },
  {
   "cell_type": "code",
   "execution_count": 52,
   "id": "9aa87534",
   "metadata": {
    "scrolled": true
   },
   "outputs": [
    {
     "name": "stderr",
     "output_type": "stream",
     "text": [
      "C:\\Users\\043\\AppData\\Local\\Temp\\ipykernel_17812\\3429015639.py:3: DeprecationWarning: executable_path has been deprecated, please pass in a Service object\n",
      "  driver = webdriver.Chrome('./chromedriver')\n"
     ]
    },
    {
     "ename": "NoSuchElementException",
     "evalue": "Message: no such element: Unable to locate element: {\"method\":\"css selector\",\"selector\":\"[id=\"mainFrame\"]\"}\n  (Session info: chrome=108.0.5359.125)\nStacktrace:\nBacktrace:\n\t(No symbol) [0x00B0F243]\n\t(No symbol) [0x00A97FD1]\n\t(No symbol) [0x0098D04D]\n\t(No symbol) [0x009BC0B0]\n\t(No symbol) [0x009BC22B]\n\t(No symbol) [0x009EE612]\n\t(No symbol) [0x009D85D4]\n\t(No symbol) [0x009EC9EB]\n\t(No symbol) [0x009D8386]\n\t(No symbol) [0x009B163C]\n\t(No symbol) [0x009B269D]\n\tGetHandleVerifier [0x00DA9A22+2655074]\n\tGetHandleVerifier [0x00D9CA24+2601828]\n\tGetHandleVerifier [0x00BB8C0A+619850]\n\tGetHandleVerifier [0x00BB7830+614768]\n\t(No symbol) [0x00AA05FC]\n\t(No symbol) [0x00AA5968]\n\t(No symbol) [0x00AA5A55]\n\t(No symbol) [0x00AB051B]\n\tBaseThreadInitThunk [0x766A7D69+25]\n\tRtlInitializeExceptionChain [0x7794BB9B+107]\n\tRtlClearBits [0x7794BB1F+191]\n",
     "output_type": "error",
     "traceback": [
      "\u001b[1;31m---------------------------------------------------------------------------\u001b[0m",
      "\u001b[1;31mNoSuchElementException\u001b[0m                    Traceback (most recent call last)",
      "\u001b[1;32m~\\AppData\\Local\\Temp\\ipykernel_17812\\3429015639.py\u001b[0m in \u001b[0;36m<module>\u001b[1;34m\u001b[0m\n\u001b[0;32m     31\u001b[0m \u001b[1;33m\u001b[0m\u001b[0m\n\u001b[0;32m     32\u001b[0m \u001b[1;31m# 첫번째 글의 제목 가져오기\u001b[0m\u001b[1;33m\u001b[0m\u001b[1;33m\u001b[0m\u001b[0m\n\u001b[1;32m---> 33\u001b[1;33m \u001b[0mprint\u001b[0m\u001b[1;33m(\u001b[0m\u001b[0mfunc2\u001b[0m\u001b[1;33m(\u001b[0m\u001b[0mdriver\u001b[0m\u001b[1;33m)\u001b[0m\u001b[1;33m)\u001b[0m\u001b[1;33m\u001b[0m\u001b[1;33m\u001b[0m\u001b[0m\n\u001b[0m\u001b[0;32m     34\u001b[0m \u001b[1;33m\u001b[0m\u001b[0m\n",
      "\u001b[1;32m~\\AppData\\Local\\Temp\\ipykernel_17812\\1898937897.py\u001b[0m in \u001b[0;36mfunc2\u001b[1;34m(driver)\u001b[0m\n\u001b[0;32m      3\u001b[0m     \u001b[1;31m#river.switch_to.window(driver.window_handles[1])\u001b[0m\u001b[1;33m\u001b[0m\u001b[1;33m\u001b[0m\u001b[0m\n\u001b[0;32m      4\u001b[0m \u001b[1;33m\u001b[0m\u001b[0m\n\u001b[1;32m----> 5\u001b[1;33m     \u001b[0mdriver\u001b[0m\u001b[1;33m.\u001b[0m\u001b[0mswitch_to\u001b[0m\u001b[1;33m.\u001b[0m\u001b[0mframe\u001b[0m\u001b[1;33m(\u001b[0m\u001b[0mdriver\u001b[0m\u001b[1;33m.\u001b[0m\u001b[0mfind_element\u001b[0m\u001b[1;33m(\u001b[0m\u001b[0mBy\u001b[0m\u001b[1;33m.\u001b[0m\u001b[0mID\u001b[0m\u001b[1;33m,\u001b[0m \u001b[1;34m'mainFrame'\u001b[0m\u001b[1;33m)\u001b[0m\u001b[1;33m)\u001b[0m\u001b[1;33m\u001b[0m\u001b[1;33m\u001b[0m\u001b[0m\n\u001b[0m\u001b[0;32m      6\u001b[0m     \u001b[1;32mreturn\u001b[0m \u001b[0mdriver\u001b[0m\u001b[1;33m.\u001b[0m\u001b[0mfind_element\u001b[0m\u001b[1;33m(\u001b[0m\u001b[0mBy\u001b[0m\u001b[1;33m.\u001b[0m\u001b[0mCLASS_NAME\u001b[0m\u001b[1;33m,\u001b[0m \u001b[1;34m'se-component-content'\u001b[0m\u001b[1;33m)\u001b[0m\u001b[1;33m.\u001b[0m\u001b[0mfind_element\u001b[0m\u001b[1;33m(\u001b[0m\u001b[0mBy\u001b[0m\u001b[1;33m.\u001b[0m\u001b[0mTAG_NAME\u001b[0m\u001b[1;33m,\u001b[0m \u001b[1;34m'span'\u001b[0m\u001b[1;33m)\u001b[0m\u001b[1;33m.\u001b[0m\u001b[0mtext\u001b[0m\u001b[1;33m\u001b[0m\u001b[1;33m\u001b[0m\u001b[0m\n",
      "\u001b[1;32m~\\anaconda3\\lib\\site-packages\\selenium\\webdriver\\remote\\webdriver.py\u001b[0m in \u001b[0;36mfind_element\u001b[1;34m(self, by, value)\u001b[0m\n\u001b[0;32m    859\u001b[0m             \u001b[0mvalue\u001b[0m \u001b[1;33m=\u001b[0m \u001b[1;34m'[name=\"%s\"]'\u001b[0m \u001b[1;33m%\u001b[0m \u001b[0mvalue\u001b[0m\u001b[1;33m\u001b[0m\u001b[1;33m\u001b[0m\u001b[0m\n\u001b[0;32m    860\u001b[0m \u001b[1;33m\u001b[0m\u001b[0m\n\u001b[1;32m--> 861\u001b[1;33m         \u001b[1;32mreturn\u001b[0m \u001b[0mself\u001b[0m\u001b[1;33m.\u001b[0m\u001b[0mexecute\u001b[0m\u001b[1;33m(\u001b[0m\u001b[0mCommand\u001b[0m\u001b[1;33m.\u001b[0m\u001b[0mFIND_ELEMENT\u001b[0m\u001b[1;33m,\u001b[0m \u001b[1;33m{\u001b[0m\u001b[1;34m\"using\"\u001b[0m\u001b[1;33m:\u001b[0m \u001b[0mby\u001b[0m\u001b[1;33m,\u001b[0m \u001b[1;34m\"value\"\u001b[0m\u001b[1;33m:\u001b[0m \u001b[0mvalue\u001b[0m\u001b[1;33m}\u001b[0m\u001b[1;33m)\u001b[0m\u001b[1;33m[\u001b[0m\u001b[1;34m\"value\"\u001b[0m\u001b[1;33m]\u001b[0m\u001b[1;33m\u001b[0m\u001b[1;33m\u001b[0m\u001b[0m\n\u001b[0m\u001b[0;32m    862\u001b[0m \u001b[1;33m\u001b[0m\u001b[0m\n\u001b[0;32m    863\u001b[0m     \u001b[1;32mdef\u001b[0m \u001b[0mfind_elements\u001b[0m\u001b[1;33m(\u001b[0m\u001b[0mself\u001b[0m\u001b[1;33m,\u001b[0m \u001b[0mby\u001b[0m\u001b[1;33m=\u001b[0m\u001b[0mBy\u001b[0m\u001b[1;33m.\u001b[0m\u001b[0mID\u001b[0m\u001b[1;33m,\u001b[0m \u001b[0mvalue\u001b[0m\u001b[1;33m:\u001b[0m \u001b[0mOptional\u001b[0m\u001b[1;33m[\u001b[0m\u001b[0mstr\u001b[0m\u001b[1;33m]\u001b[0m \u001b[1;33m=\u001b[0m \u001b[1;32mNone\u001b[0m\u001b[1;33m)\u001b[0m \u001b[1;33m->\u001b[0m \u001b[0mList\u001b[0m\u001b[1;33m[\u001b[0m\u001b[0mWebElement\u001b[0m\u001b[1;33m]\u001b[0m\u001b[1;33m:\u001b[0m\u001b[1;33m\u001b[0m\u001b[1;33m\u001b[0m\u001b[0m\n",
      "\u001b[1;32m~\\anaconda3\\lib\\site-packages\\selenium\\webdriver\\remote\\webdriver.py\u001b[0m in \u001b[0;36mexecute\u001b[1;34m(self, driver_command, params)\u001b[0m\n\u001b[0;32m    442\u001b[0m         \u001b[0mresponse\u001b[0m \u001b[1;33m=\u001b[0m \u001b[0mself\u001b[0m\u001b[1;33m.\u001b[0m\u001b[0mcommand_executor\u001b[0m\u001b[1;33m.\u001b[0m\u001b[0mexecute\u001b[0m\u001b[1;33m(\u001b[0m\u001b[0mdriver_command\u001b[0m\u001b[1;33m,\u001b[0m \u001b[0mparams\u001b[0m\u001b[1;33m)\u001b[0m\u001b[1;33m\u001b[0m\u001b[1;33m\u001b[0m\u001b[0m\n\u001b[0;32m    443\u001b[0m         \u001b[1;32mif\u001b[0m \u001b[0mresponse\u001b[0m\u001b[1;33m:\u001b[0m\u001b[1;33m\u001b[0m\u001b[1;33m\u001b[0m\u001b[0m\n\u001b[1;32m--> 444\u001b[1;33m             \u001b[0mself\u001b[0m\u001b[1;33m.\u001b[0m\u001b[0merror_handler\u001b[0m\u001b[1;33m.\u001b[0m\u001b[0mcheck_response\u001b[0m\u001b[1;33m(\u001b[0m\u001b[0mresponse\u001b[0m\u001b[1;33m)\u001b[0m\u001b[1;33m\u001b[0m\u001b[1;33m\u001b[0m\u001b[0m\n\u001b[0m\u001b[0;32m    445\u001b[0m             \u001b[0mresponse\u001b[0m\u001b[1;33m[\u001b[0m\u001b[1;34m\"value\"\u001b[0m\u001b[1;33m]\u001b[0m \u001b[1;33m=\u001b[0m \u001b[0mself\u001b[0m\u001b[1;33m.\u001b[0m\u001b[0m_unwrap_value\u001b[0m\u001b[1;33m(\u001b[0m\u001b[0mresponse\u001b[0m\u001b[1;33m.\u001b[0m\u001b[0mget\u001b[0m\u001b[1;33m(\u001b[0m\u001b[1;34m\"value\"\u001b[0m\u001b[1;33m,\u001b[0m \u001b[1;32mNone\u001b[0m\u001b[1;33m)\u001b[0m\u001b[1;33m)\u001b[0m\u001b[1;33m\u001b[0m\u001b[1;33m\u001b[0m\u001b[0m\n\u001b[0;32m    446\u001b[0m             \u001b[1;32mreturn\u001b[0m \u001b[0mresponse\u001b[0m\u001b[1;33m\u001b[0m\u001b[1;33m\u001b[0m\u001b[0m\n",
      "\u001b[1;32m~\\anaconda3\\lib\\site-packages\\selenium\\webdriver\\remote\\errorhandler.py\u001b[0m in \u001b[0;36mcheck_response\u001b[1;34m(self, response)\u001b[0m\n\u001b[0;32m    247\u001b[0m                 \u001b[0malert_text\u001b[0m \u001b[1;33m=\u001b[0m \u001b[0mvalue\u001b[0m\u001b[1;33m[\u001b[0m\u001b[1;34m\"alert\"\u001b[0m\u001b[1;33m]\u001b[0m\u001b[1;33m.\u001b[0m\u001b[0mget\u001b[0m\u001b[1;33m(\u001b[0m\u001b[1;34m\"text\"\u001b[0m\u001b[1;33m)\u001b[0m\u001b[1;33m\u001b[0m\u001b[1;33m\u001b[0m\u001b[0m\n\u001b[0;32m    248\u001b[0m             \u001b[1;32mraise\u001b[0m \u001b[0mexception_class\u001b[0m\u001b[1;33m(\u001b[0m\u001b[0mmessage\u001b[0m\u001b[1;33m,\u001b[0m \u001b[0mscreen\u001b[0m\u001b[1;33m,\u001b[0m \u001b[0mstacktrace\u001b[0m\u001b[1;33m,\u001b[0m \u001b[0malert_text\u001b[0m\u001b[1;33m)\u001b[0m  \u001b[1;31m# type: ignore[call-arg]  # mypy is not smart enough here\u001b[0m\u001b[1;33m\u001b[0m\u001b[1;33m\u001b[0m\u001b[0m\n\u001b[1;32m--> 249\u001b[1;33m         \u001b[1;32mraise\u001b[0m \u001b[0mexception_class\u001b[0m\u001b[1;33m(\u001b[0m\u001b[0mmessage\u001b[0m\u001b[1;33m,\u001b[0m \u001b[0mscreen\u001b[0m\u001b[1;33m,\u001b[0m \u001b[0mstacktrace\u001b[0m\u001b[1;33m)\u001b[0m\u001b[1;33m\u001b[0m\u001b[1;33m\u001b[0m\u001b[0m\n\u001b[0m",
      "\u001b[1;31mNoSuchElementException\u001b[0m: Message: no such element: Unable to locate element: {\"method\":\"css selector\",\"selector\":\"[id=\"mainFrame\"]\"}\n  (Session info: chrome=108.0.5359.125)\nStacktrace:\nBacktrace:\n\t(No symbol) [0x00B0F243]\n\t(No symbol) [0x00A97FD1]\n\t(No symbol) [0x0098D04D]\n\t(No symbol) [0x009BC0B0]\n\t(No symbol) [0x009BC22B]\n\t(No symbol) [0x009EE612]\n\t(No symbol) [0x009D85D4]\n\t(No symbol) [0x009EC9EB]\n\t(No symbol) [0x009D8386]\n\t(No symbol) [0x009B163C]\n\t(No symbol) [0x009B269D]\n\tGetHandleVerifier [0x00DA9A22+2655074]\n\tGetHandleVerifier [0x00D9CA24+2601828]\n\tGetHandleVerifier [0x00BB8C0A+619850]\n\tGetHandleVerifier [0x00BB7830+614768]\n\t(No symbol) [0x00AA05FC]\n\t(No symbol) [0x00AA5968]\n\t(No symbol) [0x00AA5A55]\n\t(No symbol) [0x00AB051B]\n\tBaseThreadInitThunk [0x766A7D69+25]\n\tRtlInitializeExceptionChain [0x7794BB9B+107]\n\tRtlClearBits [0x7794BB1F+191]\n"
     ]
    }
   ],
   "source": [
    "import time\n",
    "\n",
    "driver = webdriver.Chrome('./chromedriver')\n",
    "#driver = webdriver.Chrome(service=Service(ChromeDrivermanager().install()))\n",
    "\n",
    "# 사이트 접속하기 #\n",
    "driver.implicitly_wait(3) # 3초 기다리기\n",
    "driver.get('https://www.naver.com')\n",
    "\n",
    "time.sleep(1) # 1초 기다리기\n",
    "\n",
    "# 검색어 입력하기 #\n",
    "query = driver.find_element('id', 'query')\n",
    "query.send_keys('fly ai')\n",
    "\n",
    "time.sleep(1) # 1초 기다리기\n",
    "\n",
    "# 검색버튼 클릭하기 #\n",
    "btn = driver.find_element('id', 'search_btn')\n",
    "btn.click()\n",
    "\n",
    "##########################################################################\n",
    "# 네이버 검색 후 view 메뉴에 들어가, 첫 번째 글 가져오기\n",
    "##########################################################################\n",
    "\n",
    "time.sleep(1) # 1초 기다리기\n",
    "\n",
    "# view 클릭하기\n",
    "view = driver.find_element(By.XPATH, '//*[@id=\"lnb\"]/div[1]/div/ul/li[2]/a')\n",
    "view.click()\n",
    "\n",
    "# 첫번째 글의 제목 가져오기\n",
    "print(func2(driver))\n",
    "\n"
   ]
  },
  {
   "cell_type": "code",
   "execution_count": 64,
   "id": "331b106a",
   "metadata": {
    "scrolled": false
   },
   "outputs": [
    {
     "name": "stderr",
     "output_type": "stream",
     "text": [
      "C:\\Users\\043\\AppData\\Local\\Temp\\ipykernel_17812\\3310411260.py:1: DeprecationWarning: executable_path has been deprecated, please pass in a Service object\n",
      "  driver = webdriver.Chrome('./chromedriver')\n"
     ]
    },
    {
     "name": "stdout",
     "output_type": "stream",
     "text": [
      "AI 메디테크 기업 웨이센, 'FLY ASIA AWARDS 2022 Top 50' 선정 쾌거\n",
      "https://postfiles.pstatic.net/MjAyMjExMjNfNTAg/MDAxNjY5MjAxODM3Njgz.Nl5WMP7udXB7-HTa1jLvL3J67NixQg8gMX9PpqmfmYsg.PSR8ipVlcVyyAkbqMR3OV-RI52tI9B7_UYN1w7PQOjIg.JPEG.vsquare1/1669107604942.jpeg?type=w966\n"
     ]
    }
   ],
   "source": [
    "driver = webdriver.Chrome('./chromedriver')\n",
    "#driver = webdriver.Chrome(service=Service(ChromeDrivermanager().install()))\n",
    "\n",
    "# 사이트 접속하기 #\n",
    "driver.implicitly_wait(3) # 3초 기다리기\n",
    "driver.get('https://www.naver.com')\n",
    "\n",
    "time.sleep(1) # 1초 기다리기\n",
    "\n",
    "# 검색어 입력하기 #\n",
    "query = driver.find_element('id', 'query')\n",
    "query.send_keys('fly ai')\n",
    "\n",
    "time.sleep(1) # 1초 기다리기\n",
    "\n",
    "# 검색버튼 클릭하기 #\n",
    "btn = driver.find_element('id', 'search_btn')\n",
    "btn.click()\n",
    "\n",
    "time.sleep(1) # 1초 기다리기\n",
    "# 첫번쨰 View\n",
    "driver.find_element(\n",
    "    By.XPATH, '//*[@id=\"main_pack\"]/section[2]/div/div[2]/panel-list/div/ul/li[1]/div/div/a').click()\n",
    "\n",
    "# 탭전환\n",
    "driver.switch_to.window(driver.window_handles[1])\n",
    "# iFrame 전환\n",
    "driver.switch_to.frame(driver.find_element(By.ID, 'mainFrame'))\n",
    "\n",
    "text = driver.find_element(By.CLASS_NAME, 'se-component-content').find_element(By.TAG_NAME, 'span').text\n",
    "print(text)\n",
    "\n",
    "##\n",
    "imgs = driver.find_element(By.CLASS_NAME, 'se-section-image').find_elements(By.TAG_NAME, 'img')\n",
    "\n",
    "for img in imgs:\n",
    "    print(img.get_attribute('src'))\n",
    "    \n",
    "    \n",
    "result = []\n",
    "for img in imgs:\n",
    "    #print(img.get_attribute('src'))\n",
    "    result.append(img.get_attribute('src'))\n",
    "    \n",
    "for index, link in enumerate(result):           #리스트에 있는 원소만큼 반복, 인덱스는 index에, 원소들은 link를 통해 접근 가능\n",
    "    start = link.rfind('.')         #.을 시작으로\n",
    "    end = link.rfind('?')           #?를 끝으로\n",
    "    filetype = link[start:end]      #확장자명을 잘라서 filetype변수에 저장 (ex -> .jpg)\n",
    "    urlretrieve(link, './{}{}'.format(index, filetype)) \n"
   ]
  },
  {
   "cell_type": "code",
   "execution_count": 63,
   "id": "cc7135cb",
   "metadata": {},
   "outputs": [],
   "source": [
    "import os\n",
    "from urllib.request import urlretrieve\n",
    "\n"
   ]
  },
  {
   "cell_type": "markdown",
   "id": "8f3640f1",
   "metadata": {},
   "source": [
    "## 3.X version"
   ]
  },
  {
   "cell_type": "code",
   "execution_count": 14,
   "id": "1a7d1939",
   "metadata": {},
   "outputs": [
    {
     "name": "stdout",
     "output_type": "stream",
     "text": [
      "^C\n",
      "^C\n"
     ]
    }
   ],
   "source": [
    "!pip uninstall selenium\n",
    "!pip install selenium==3.14.1"
   ]
  },
  {
   "cell_type": "code",
   "execution_count": null,
   "id": "92af9170",
   "metadata": {},
   "outputs": [],
   "source": []
  }
 ],
 "metadata": {
  "kernelspec": {
   "display_name": "Python 3 (ipykernel)",
   "language": "python",
   "name": "python3"
  },
  "language_info": {
   "codemirror_mode": {
    "name": "ipython",
    "version": 3
   },
   "file_extension": ".py",
   "mimetype": "text/x-python",
   "name": "python",
   "nbconvert_exporter": "python",
   "pygments_lexer": "ipython3",
   "version": "3.9.13"
  }
 },
 "nbformat": 4,
 "nbformat_minor": 5
}
