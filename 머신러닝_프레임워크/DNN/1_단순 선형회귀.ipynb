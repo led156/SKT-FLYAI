{
 "cells": [
  {
   "cell_type": "markdown",
   "id": "90bc0836",
   "metadata": {},
   "source": [
    "# 데이터"
   ]
  },
  {
   "cell_type": "markdown",
   "id": "c18aa85b",
   "metadata": {},
   "source": [
    "## 데이터 준비"
   ]
  },
  {
   "cell_type": "code",
   "execution_count": 10,
   "id": "90f07dd1",
   "metadata": {},
   "outputs": [
    {
     "name": "stdout",
     "output_type": "stream",
     "text": [
      "(6,) (6,)\n"
     ]
    }
   ],
   "source": [
    "import numpy as np\n",
    "\n",
    "X = np.array([-1.0, 0.0, 1.0, 2.0, 3.0, 4.0])\n",
    "y = np.array([5.0, 6.0, 7.0, 8.0, 9.0, 10.0])\n",
    "\n",
    "print(X.shape, y.shape)"
   ]
  },
  {
   "cell_type": "markdown",
   "id": "895113ea",
   "metadata": {},
   "source": [
    "## 데이터 시각화\n",
    "- 산점도를 그려 데이터의 분포 확인"
   ]
  },
  {
   "cell_type": "code",
   "execution_count": 2,
   "id": "e19eefbc",
   "metadata": {},
   "outputs": [
    {
     "data": {
      "image/png": "[encoded data removed]",
      "text/plain": [
       "<Figure size 640x480 with 1 Axes>"
      ]
     },
     "metadata": {},
     "output_type": "display_data"
    }
   ],
   "source": [
    "import matplotlib.pyplot as plt\n",
    "\n",
    "plt.plot(X, y, 'ro')\n",
    "plt.show()"
   ]
  },
  {
   "cell_type": "markdown",
   "id": "cca99790",
   "metadata": {},
   "source": [
    "## 모델 만들기"
   ]
  },
  {
   "cell_type": "code",
   "execution_count": 3,
   "id": "4239261c",
   "metadata": {
    "scrolled": false
   },
   "outputs": [
    {
     "name": "stderr",
     "output_type": "stream",
     "text": [
      "2023-01-02 10:38:39.364600: I tensorflow/core/platform/cpu_feature_guard.cc:193] This TensorFlow binary is optimized with oneAPI Deep Neural Network Library (oneDNN) to use the following CPU instructions in performance-critical operations:  SSE4.1 SSE4.2\n",
      "To enable them in other operations, rebuild TensorFlow with the appropriate compiler flags.\n"
     ]
    },
    {
     "name": "stdout",
     "output_type": "stream",
     "text": [
      "Model: \"sequential\"\n",
      "_________________________________________________________________\n",
      " Layer (type)                Output Shape              Param #   \n",
      "=================================================================\n",
      " dense (Dense)               (None, 1)                 2         \n",
      "                                                                 \n",
      "=================================================================\n",
      "Total params: 2\n",
      "Trainable params: 2\n",
      "Non-trainable params: 0\n",
      "_________________________________________________________________\n"
     ]
    },
    {
     "name": "stderr",
     "output_type": "stream",
     "text": [
      "2023-01-02 10:40:22.472255: I tensorflow/core/platform/cpu_feature_guard.cc:193] This TensorFlow binary is optimized with oneAPI Deep Neural Network Library (oneDNN) to use the following CPU instructions in performance-critical operations:  SSE4.1 SSE4.2\n",
      "To enable them in other operations, rebuild TensorFlow with the appropriate compiler flags.\n"
     ]
    }
   ],
   "source": [
    "# 케라스를 사용해서 Unit(Dense)이 1개인 모델을 만든다.\n",
    "\n",
    "from tensorflow import keras\n",
    "from tensorflow.keras import layers\n",
    "\n",
    "model = keras.Sequential([\n",
    "    layers.Dense(1, input_shape=(1,)),\n",
    "])\n",
    "\n",
    "model.summary()"
   ]
  },
  {
   "cell_type": "markdown",
   "id": "97103802",
   "metadata": {},
   "source": [
    "### 모델의 컴파일\n",
    "- keras는 모델의 학습 전에 컴파일, 손실함수와 옵티마이저, 메트릭스를 설정"
   ]
  },
  {
   "cell_type": "code",
   "execution_count": 4,
   "id": "26cae09e",
   "metadata": {},
   "outputs": [],
   "source": [
    "model.compile(optimizer='sgd', loss='mse', metrics=['mae'])"
   ]
  },
  {
   "cell_type": "markdown",
   "id": "5a4166f8",
   "metadata": {},
   "source": [
    "## 학습"
   ]
  },
  {
   "cell_type": "code",
   "execution_count": 5,
   "id": "9ceb5cca",
   "metadata": {},
   "outputs": [
    {
     "name": "stdout",
     "output_type": "stream",
     "text": [
      "Epoch 1/30\n",
      "1/1 [==============================] - 0s 375ms/step - loss: 28.5822 - mae: 5.2837\n",
      "Epoch 2/30\n",
      "1/1 [==============================] - 0s 3ms/step - loss: 25.8993 - mae: 4.9820\n",
      "Epoch 3/30\n",
      "1/1 [==============================] - 0s 3ms/step - loss: 23.7184 - mae: 4.7114\n",
      "Epoch 4/30\n",
      "1/1 [==============================] - 0s 3ms/step - loss: 21.9340 - mae: 4.4683\n",
      "Epoch 5/30\n",
      "1/1 [==============================] - 0s 2ms/step - loss: 20.4629 - mae: 4.2498\n",
      "Epoch 6/30\n",
      "1/1 [==============================] - 0s 2ms/step - loss: 19.2396 - mae: 4.0529\n",
      "Epoch 7/30\n",
      "1/1 [==============================] - 0s 4ms/step - loss: 18.2126 - mae: 3.8754\n",
      "Epoch 8/30\n",
      "1/1 [==============================] - 0s 3ms/step - loss: 17.3415 - mae: 3.7151\n",
      "Epoch 9/30\n",
      "1/1 [==============================] - 0s 2ms/step - loss: 16.5943 - mae: 3.5700\n",
      "Epoch 10/30\n",
      "1/1 [==============================] - 0s 4ms/step - loss: 15.9458 - mae: 3.4385\n",
      "Epoch 11/30\n",
      "1/1 [==============================] - 0s 3ms/step - loss: 15.3762 - mae: 3.3190\n",
      "Epoch 12/30\n",
      "1/1 [==============================] - 0s 3ms/step - loss: 14.8699 - mae: 3.2103\n",
      "Epoch 13/30\n",
      "1/1 [==============================] - 0s 4ms/step - loss: 14.4147 - mae: 3.1359\n",
      "Epoch 14/30\n",
      "1/1 [==============================] - 0s 3ms/step - loss: 14.0007 - mae: 3.0913\n",
      "Epoch 15/30\n",
      "1/1 [==============================] - 0s 3ms/step - loss: 13.6204 - mae: 3.0485\n",
      "Epoch 16/30\n",
      "1/1 [==============================] - 0s 4ms/step - loss: 13.2677 - mae: 3.0074\n",
      "Epoch 17/30\n",
      "1/1 [==============================] - 0s 3ms/step - loss: 12.9378 - mae: 2.9677\n",
      "Epoch 18/30\n",
      "1/1 [==============================] - 0s 3ms/step - loss: 12.6269 - mae: 2.9295\n",
      "Epoch 19/30\n",
      "1/1 [==============================] - 0s 3ms/step - loss: 12.3320 - mae: 2.8925\n",
      "Epoch 20/30\n",
      "1/1 [==============================] - 0s 3ms/step - loss: 12.0507 - mae: 2.8567\n",
      "Epoch 21/30\n",
      "1/1 [==============================] - 0s 3ms/step - loss: 11.7812 - mae: 2.8219\n",
      "Epoch 22/30\n",
      "1/1 [==============================] - 0s 4ms/step - loss: 11.5219 - mae: 2.7881\n",
      "Epoch 23/30\n",
      "1/1 [==============================] - 0s 3ms/step - loss: 11.2716 - mae: 2.7551\n",
      "Epoch 24/30\n",
      "1/1 [==============================] - 0s 3ms/step - loss: 11.0294 - mae: 2.7230\n",
      "Epoch 25/30\n",
      "1/1 [==============================] - 0s 4ms/step - loss: 10.7944 - mae: 2.6916\n",
      "Epoch 26/30\n",
      "1/1 [==============================] - 0s 4ms/step - loss: 10.5660 - mae: 2.6609\n",
      "Epoch 27/30\n",
      "1/1 [==============================] - 0s 3ms/step - loss: 10.3438 - mae: 2.6308\n",
      "Epoch 28/30\n",
      "1/1 [==============================] - 0s 4ms/step - loss: 10.1272 - mae: 2.6014\n",
      "Epoch 29/30\n",
      "1/1 [==============================] - 0s 4ms/step - loss: 9.9160 - mae: 2.5725\n",
      "Epoch 30/30\n",
      "1/1 [==============================] - 0s 3ms/step - loss: 9.7098 - mae: 2.5441\n"
     ]
    }
   ],
   "source": [
    "history = model.fit(X, y, epochs=30, verbose=1)"
   ]
  },
  {
   "cell_type": "markdown",
   "id": "730ac049",
   "metadata": {},
   "source": [
    "### 학습 결과의 시각화"
   ]
  },
  {
   "cell_type": "code",
   "execution_count": 6,
   "id": "adf363dd",
   "metadata": {
    "scrolled": true
   },
   "outputs": [
    {
     "data": {
      "image/png": "[encoded data removed]",
      "text/plain": [
       "<Figure size 640x480 with 1 Axes>"
      ]
     },
     "metadata": {},
     "output_type": "display_data"
    }
   ],
   "source": [
    "import matplotlib.pyplot as plt\n",
    "\n",
    "loss = history.history['loss']\n",
    "epochs = range(1, len(loss) + 1)\n",
    "plt.plot(epochs, loss, color = 'blue', label = 'train_loss')\n",
    "plt.xlabel('epochs')\n",
    "plt.ylabel('loss')\n",
    "plt.legend()\n",
    "plt.show()"
   ]
  },
  {
   "cell_type": "markdown",
   "id": "de8fcf09",
   "metadata": {},
   "source": [
    "## 예측하기"
   ]
  },
  {
   "cell_type": "code",
   "execution_count": 7,
   "id": "bbaf6001",
   "metadata": {},
   "outputs": [
    {
     "name": "stdout",
     "output_type": "stream",
     "text": [
      "1/1 [==============================] - 0s 84ms/step\n",
      "[[24.713173]]\n"
     ]
    }
   ],
   "source": [
    "X_test = [[10.0]]\n",
    "y_pred = model.predict(X_test)\n",
    "print(y_pred)"
   ]
  },
  {
   "cell_type": "markdown",
   "id": "138982db",
   "metadata": {},
   "source": [
    "## 가중치의 출력"
   ]
  },
  {
   "cell_type": "code",
   "execution_count": 8,
   "id": "2c72982d",
   "metadata": {},
   "outputs": [
    {
     "name": "stdout",
     "output_type": "stream",
     "text": [
      "w : [[2.280778]]\n",
      "b : [1.905394]\n"
     ]
    }
   ],
   "source": [
    "w, b = model.get_weights()\n",
    "print('w :', w)\n",
    "print('b :', b)"
   ]
  },
  {
   "cell_type": "markdown",
   "id": "5d02a080",
   "metadata": {},
   "source": [
    "## 예측값의 시각화"
   ]
  },
  {
   "cell_type": "code",
   "execution_count": 14,
   "id": "f673214c",
   "metadata": {},
   "outputs": [],
   "source": [
    "X = np.array([[-1.0], [0.0], [1.0], [2.0], [3.0], [4.0]])"
   ]
  },
  {
   "cell_type": "code",
   "execution_count": 15,
   "id": "0d6f4e66",
   "metadata": {},
   "outputs": [
    {
     "name": "stdout",
     "output_type": "stream",
     "text": [
      "1/1 [==============================] - 0s 22ms/step\n",
      "[[-0.37538397]\n",
      " [ 1.905394  ]\n",
      " [ 4.186172  ]\n",
      " [ 6.46695   ]\n",
      " [ 8.747727  ]\n",
      " [11.028505  ]]\n"
     ]
    }
   ],
   "source": [
    "y_pred = model.predict(X)\n",
    "print(y_pred)"
   ]
  },
  {
   "cell_type": "markdown",
   "id": "ae31f344",
   "metadata": {},
   "source": [
    "## 시각화"
   ]
  },
  {
   "cell_type": "code",
   "execution_count": 16,
   "id": "574a3925",
   "metadata": {},
   "outputs": [
    {
     "data": {
      "image/png": "[encoded data removed]",
      "text/plain": [
       "<Figure size 640x480 with 1 Axes>"
      ]
     },
     "metadata": {},
     "output_type": "display_data"
    }
   ],
   "source": [
    "plt.plot(X, y, 'ro')\n",
    "plt.plot(X, y_pred, 'g--')\n",
    "plt.show()"
   ]
  },
  {
   "cell_type": "code",
   "execution_count": null,
   "id": "4327f337",
   "metadata": {},
   "outputs": [],
   "source": []
  }
 ],
 "metadata": {
  "kernelspec": {
   "display_name": "Python 3 (ipykernel)",
   "language": "python",
   "name": "python3"
  },
  "language_info": {
   "codemirror_mode": {
    "name": "ipython",
    "version": 3
   },
   "file_extension": ".py",
   "mimetype": "text/x-python",
   "name": "python",
   "nbconvert_exporter": "python",
   "pygments_lexer": "ipython3",
   "version": "3.10.8"
  }
 },
 "nbformat": 4,
 "nbformat_minor": 5
}
