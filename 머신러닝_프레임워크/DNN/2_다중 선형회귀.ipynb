{
 "cells": [
  {
   "cell_type": "markdown",
   "id": "fd5ff458",
   "metadata": {},
   "source": [
    "# 데이터셋 : Auto MPG\n",
    "\n",
    "- mpg(miles per gallon)의 약자. = 연비\n",
    "- 자동차의 연비와 관련된 데이터를 담고 있는 데이터셋\n",
    "\n",
    "=> 연비 데이터를 예측하는 모델을 학습하는 과정을 확인"
   ]
  },
  {
   "cell_type": "markdown",
   "id": "2eef5e45",
   "metadata": {},
   "source": [
    "## 데이터 준비"
   ]
  },
  {
   "cell_type": "code",
   "execution_count": 5,
   "id": "d52e3ff0",
   "metadata": {
    "scrolled": false
   },
   "outputs": [
    {
     "data": {
      "text/html": [
       "<div>\n",
       "<style scoped>\n",
       "    .dataframe tbody tr th:only-of-type {\n",
       "        vertical-align: middle;\n",
       "    }\n",
       "\n",
       "    .dataframe tbody tr th {\n",
       "        vertical-align: top;\n",
       "    }\n",
       "\n",
       "    .dataframe thead th {\n",
       "        text-align: right;\n",
       "    }\n",
       "</style>\n",
       "<table border=\"1\" class=\"dataframe\">\n",
       "  <thead>\n",
       "    <tr style=\"text-align: right;\">\n",
       "      <th></th>\n",
       "      <th>mpg</th>\n",
       "      <th>cylinders</th>\n",
       "      <th>displacement</th>\n",
       "      <th>horsepower</th>\n",
       "      <th>weight</th>\n",
       "      <th>acceleration</th>\n",
       "      <th>model year</th>\n",
       "      <th>origin</th>\n",
       "      <th>car name</th>\n",
       "    </tr>\n",
       "  </thead>\n",
       "  <tbody>\n",
       "    <tr>\n",
       "      <th>0</th>\n",
       "      <td>18.0</td>\n",
       "      <td>8</td>\n",
       "      <td>307.0</td>\n",
       "      <td>130.0</td>\n",
       "      <td>3504</td>\n",
       "      <td>12.0</td>\n",
       "      <td>70</td>\n",
       "      <td>1</td>\n",
       "      <td>chevrolet chevelle malibu</td>\n",
       "    </tr>\n",
       "    <tr>\n",
       "      <th>1</th>\n",
       "      <td>15.0</td>\n",
       "      <td>8</td>\n",
       "      <td>350.0</td>\n",
       "      <td>165.0</td>\n",
       "      <td>3693</td>\n",
       "      <td>11.5</td>\n",
       "      <td>70</td>\n",
       "      <td>1</td>\n",
       "      <td>buick skylark 320</td>\n",
       "    </tr>\n",
       "    <tr>\n",
       "      <th>2</th>\n",
       "      <td>18.0</td>\n",
       "      <td>8</td>\n",
       "      <td>318.0</td>\n",
       "      <td>150.0</td>\n",
       "      <td>3436</td>\n",
       "      <td>11.0</td>\n",
       "      <td>70</td>\n",
       "      <td>1</td>\n",
       "      <td>plymouth satellite</td>\n",
       "    </tr>\n",
       "    <tr>\n",
       "      <th>3</th>\n",
       "      <td>16.0</td>\n",
       "      <td>8</td>\n",
       "      <td>304.0</td>\n",
       "      <td>150.0</td>\n",
       "      <td>3433</td>\n",
       "      <td>12.0</td>\n",
       "      <td>70</td>\n",
       "      <td>1</td>\n",
       "      <td>amc rebel sst</td>\n",
       "    </tr>\n",
       "    <tr>\n",
       "      <th>4</th>\n",
       "      <td>17.0</td>\n",
       "      <td>8</td>\n",
       "      <td>302.0</td>\n",
       "      <td>140.0</td>\n",
       "      <td>3449</td>\n",
       "      <td>10.5</td>\n",
       "      <td>70</td>\n",
       "      <td>1</td>\n",
       "      <td>ford torino</td>\n",
       "    </tr>\n",
       "  </tbody>\n",
       "</table>\n",
       "</div>"
      ],
      "text/plain": [
       "    mpg  cylinders  displacement  horsepower  weight  acceleration  \\\n",
       "0  18.0          8         307.0       130.0    3504          12.0   \n",
       "1  15.0          8         350.0       165.0    3693          11.5   \n",
       "2  18.0          8         318.0       150.0    3436          11.0   \n",
       "3  16.0          8         304.0       150.0    3433          12.0   \n",
       "4  17.0          8         302.0       140.0    3449          10.5   \n",
       "\n",
       "   model year  origin                   car name  \n",
       "0          70       1  chevrolet chevelle malibu  \n",
       "1          70       1          buick skylark 320  \n",
       "2          70       1         plymouth satellite  \n",
       "3          70       1              amc rebel sst  \n",
       "4          70       1                ford torino  "
      ]
     },
     "execution_count": 5,
     "metadata": {},
     "output_type": "execute_result"
    }
   ],
   "source": [
    "import pandas as pd\n",
    "mpg = pd.read_csv('../datasets/auto-mpg.csv', na_values = \"?\")\n",
    "mpg.head()"
   ]
  },
  {
   "cell_type": "markdown",
   "id": "6f1a8235",
   "metadata": {},
   "source": [
    "## 데이터 정보 확인"
   ]
  },
  {
   "cell_type": "code",
   "execution_count": 6,
   "id": "170a11c7",
   "metadata": {
    "scrolled": true
   },
   "outputs": [
    {
     "name": "stdout",
     "output_type": "stream",
     "text": [
      "<class 'pandas.core.frame.DataFrame'>\n",
      "RangeIndex: 398 entries, 0 to 397\n",
      "Data columns (total 9 columns):\n",
      " #   Column        Non-Null Count  Dtype  \n",
      "---  ------        --------------  -----  \n",
      " 0   mpg           398 non-null    float64\n",
      " 1   cylinders     398 non-null    int64  \n",
      " 2   displacement  398 non-null    float64\n",
      " 3   horsepower    392 non-null    float64\n",
      " 4   weight        398 non-null    int64  \n",
      " 5   acceleration  398 non-null    float64\n",
      " 6   model year    398 non-null    int64  \n",
      " 7   origin        398 non-null    int64  \n",
      " 8   car name      398 non-null    object \n",
      "dtypes: float64(4), int64(4), object(1)\n",
      "memory usage: 28.1+ KB\n"
     ]
    }
   ],
   "source": [
    "mpg.info()"
   ]
  },
  {
   "cell_type": "markdown",
   "id": "d3d4f9ae",
   "metadata": {},
   "source": [
    "## 결측치 확인"
   ]
  },
  {
   "cell_type": "code",
   "execution_count": 7,
   "id": "6bbd946b",
   "metadata": {
    "scrolled": false
   },
   "outputs": [
    {
     "data": {
      "text/plain": [
       "mpg             0\n",
       "cylinders       0\n",
       "displacement    0\n",
       "horsepower      6\n",
       "weight          0\n",
       "acceleration    0\n",
       "model year      0\n",
       "origin          0\n",
       "car name        0\n",
       "dtype: int64"
      ]
     },
     "execution_count": 7,
     "metadata": {},
     "output_type": "execute_result"
    }
   ],
   "source": [
    "mpg.isna().sum(axis=0)"
   ]
  },
  {
   "cell_type": "code",
   "execution_count": 8,
   "id": "235da052",
   "metadata": {
    "scrolled": true
   },
   "outputs": [
    {
     "data": {
      "text/html": [
       "<div>\n",
       "<style scoped>\n",
       "    .dataframe tbody tr th:only-of-type {\n",
       "        vertical-align: middle;\n",
       "    }\n",
       "\n",
       "    .dataframe tbody tr th {\n",
       "        vertical-align: top;\n",
       "    }\n",
       "\n",
       "    .dataframe thead th {\n",
       "        text-align: right;\n",
       "    }\n",
       "</style>\n",
       "<table border=\"1\" class=\"dataframe\">\n",
       "  <thead>\n",
       "    <tr style=\"text-align: right;\">\n",
       "      <th></th>\n",
       "      <th>mpg</th>\n",
       "      <th>cylinders</th>\n",
       "      <th>displacement</th>\n",
       "      <th>horsepower</th>\n",
       "      <th>weight</th>\n",
       "      <th>acceleration</th>\n",
       "      <th>model year</th>\n",
       "      <th>origin</th>\n",
       "      <th>car name</th>\n",
       "    </tr>\n",
       "  </thead>\n",
       "  <tbody>\n",
       "    <tr>\n",
       "      <th>32</th>\n",
       "      <td>25.0</td>\n",
       "      <td>4</td>\n",
       "      <td>98.0</td>\n",
       "      <td>NaN</td>\n",
       "      <td>2046</td>\n",
       "      <td>19.0</td>\n",
       "      <td>71</td>\n",
       "      <td>1</td>\n",
       "      <td>ford pinto</td>\n",
       "    </tr>\n",
       "    <tr>\n",
       "      <th>126</th>\n",
       "      <td>21.0</td>\n",
       "      <td>6</td>\n",
       "      <td>200.0</td>\n",
       "      <td>NaN</td>\n",
       "      <td>2875</td>\n",
       "      <td>17.0</td>\n",
       "      <td>74</td>\n",
       "      <td>1</td>\n",
       "      <td>ford maverick</td>\n",
       "    </tr>\n",
       "    <tr>\n",
       "      <th>330</th>\n",
       "      <td>40.9</td>\n",
       "      <td>4</td>\n",
       "      <td>85.0</td>\n",
       "      <td>NaN</td>\n",
       "      <td>1835</td>\n",
       "      <td>17.3</td>\n",
       "      <td>80</td>\n",
       "      <td>2</td>\n",
       "      <td>renault lecar deluxe</td>\n",
       "    </tr>\n",
       "    <tr>\n",
       "      <th>336</th>\n",
       "      <td>23.6</td>\n",
       "      <td>4</td>\n",
       "      <td>140.0</td>\n",
       "      <td>NaN</td>\n",
       "      <td>2905</td>\n",
       "      <td>14.3</td>\n",
       "      <td>80</td>\n",
       "      <td>1</td>\n",
       "      <td>ford mustang cobra</td>\n",
       "    </tr>\n",
       "    <tr>\n",
       "      <th>354</th>\n",
       "      <td>34.5</td>\n",
       "      <td>4</td>\n",
       "      <td>100.0</td>\n",
       "      <td>NaN</td>\n",
       "      <td>2320</td>\n",
       "      <td>15.8</td>\n",
       "      <td>81</td>\n",
       "      <td>2</td>\n",
       "      <td>renault 18i</td>\n",
       "    </tr>\n",
       "    <tr>\n",
       "      <th>374</th>\n",
       "      <td>23.0</td>\n",
       "      <td>4</td>\n",
       "      <td>151.0</td>\n",
       "      <td>NaN</td>\n",
       "      <td>3035</td>\n",
       "      <td>20.5</td>\n",
       "      <td>82</td>\n",
       "      <td>1</td>\n",
       "      <td>amc concord dl</td>\n",
       "    </tr>\n",
       "  </tbody>\n",
       "</table>\n",
       "</div>"
      ],
      "text/plain": [
       "      mpg  cylinders  displacement  horsepower  weight  acceleration  \\\n",
       "32   25.0          4          98.0         NaN    2046          19.0   \n",
       "126  21.0          6         200.0         NaN    2875          17.0   \n",
       "330  40.9          4          85.0         NaN    1835          17.3   \n",
       "336  23.6          4         140.0         NaN    2905          14.3   \n",
       "354  34.5          4         100.0         NaN    2320          15.8   \n",
       "374  23.0          4         151.0         NaN    3035          20.5   \n",
       "\n",
       "     model year  origin              car name  \n",
       "32           71       1            ford pinto  \n",
       "126          74       1         ford maverick  \n",
       "330          80       2  renault lecar deluxe  \n",
       "336          80       1    ford mustang cobra  \n",
       "354          81       2           renault 18i  \n",
       "374          82       1        amc concord dl  "
      ]
     },
     "execution_count": 8,
     "metadata": {},
     "output_type": "execute_result"
    }
   ],
   "source": [
    "# horsepower의 6개의 결측치를 확인\n",
    "df = mpg[mpg['horsepower'].isna()]\n",
    "df"
   ]
  },
  {
   "cell_type": "code",
   "execution_count": 9,
   "id": "f0602a56",
   "metadata": {
    "scrolled": true
   },
   "outputs": [
    {
     "data": {
      "text/plain": [
       "mpg             0\n",
       "cylinders       0\n",
       "displacement    0\n",
       "horsepower      0\n",
       "weight          0\n",
       "acceleration    0\n",
       "model year      0\n",
       "origin          0\n",
       "car name        0\n",
       "dtype: int64"
      ]
     },
     "execution_count": 9,
     "metadata": {},
     "output_type": "execute_result"
    }
   ],
   "source": [
    "# 결측치 처리\n",
    "mpg = mpg.dropna()\n",
    "\n",
    "# 결측치 확인\n",
    "mpg.isna().sum(axis=0)"
   ]
  },
  {
   "cell_type": "markdown",
   "id": "3ec00a77",
   "metadata": {},
   "source": [
    "## 특성과 레이블 분리"
   ]
  },
  {
   "cell_type": "code",
   "execution_count": 10,
   "id": "5df61cda",
   "metadata": {
    "scrolled": true
   },
   "outputs": [
    {
     "data": {
      "text/html": [
       "<div>\n",
       "<style scoped>\n",
       "    .dataframe tbody tr th:only-of-type {\n",
       "        vertical-align: middle;\n",
       "    }\n",
       "\n",
       "    .dataframe tbody tr th {\n",
       "        vertical-align: top;\n",
       "    }\n",
       "\n",
       "    .dataframe thead th {\n",
       "        text-align: right;\n",
       "    }\n",
       "</style>\n",
       "<table border=\"1\" class=\"dataframe\">\n",
       "  <thead>\n",
       "    <tr style=\"text-align: right;\">\n",
       "      <th></th>\n",
       "      <th>cylinders</th>\n",
       "      <th>displacement</th>\n",
       "      <th>horsepower</th>\n",
       "      <th>weight</th>\n",
       "      <th>acceleration</th>\n",
       "      <th>model year</th>\n",
       "      <th>origin</th>\n",
       "    </tr>\n",
       "  </thead>\n",
       "  <tbody>\n",
       "    <tr>\n",
       "      <th>0</th>\n",
       "      <td>8</td>\n",
       "      <td>307.0</td>\n",
       "      <td>130.0</td>\n",
       "      <td>3504</td>\n",
       "      <td>12.0</td>\n",
       "      <td>70</td>\n",
       "      <td>1</td>\n",
       "    </tr>\n",
       "    <tr>\n",
       "      <th>1</th>\n",
       "      <td>8</td>\n",
       "      <td>350.0</td>\n",
       "      <td>165.0</td>\n",
       "      <td>3693</td>\n",
       "      <td>11.5</td>\n",
       "      <td>70</td>\n",
       "      <td>1</td>\n",
       "    </tr>\n",
       "    <tr>\n",
       "      <th>2</th>\n",
       "      <td>8</td>\n",
       "      <td>318.0</td>\n",
       "      <td>150.0</td>\n",
       "      <td>3436</td>\n",
       "      <td>11.0</td>\n",
       "      <td>70</td>\n",
       "      <td>1</td>\n",
       "    </tr>\n",
       "    <tr>\n",
       "      <th>3</th>\n",
       "      <td>8</td>\n",
       "      <td>304.0</td>\n",
       "      <td>150.0</td>\n",
       "      <td>3433</td>\n",
       "      <td>12.0</td>\n",
       "      <td>70</td>\n",
       "      <td>1</td>\n",
       "    </tr>\n",
       "    <tr>\n",
       "      <th>4</th>\n",
       "      <td>8</td>\n",
       "      <td>302.0</td>\n",
       "      <td>140.0</td>\n",
       "      <td>3449</td>\n",
       "      <td>10.5</td>\n",
       "      <td>70</td>\n",
       "      <td>1</td>\n",
       "    </tr>\n",
       "  </tbody>\n",
       "</table>\n",
       "</div>"
      ],
      "text/plain": [
       "   cylinders  displacement  horsepower  weight  acceleration  model year  \\\n",
       "0          8         307.0       130.0    3504          12.0          70   \n",
       "1          8         350.0       165.0    3693          11.5          70   \n",
       "2          8         318.0       150.0    3436          11.0          70   \n",
       "3          8         304.0       150.0    3433          12.0          70   \n",
       "4          8         302.0       140.0    3449          10.5          70   \n",
       "\n",
       "   origin  \n",
       "0       1  \n",
       "1       1  \n",
       "2       1  \n",
       "3       1  \n",
       "4       1  "
      ]
     },
     "execution_count": 10,
     "metadata": {},
     "output_type": "execute_result"
    }
   ],
   "source": [
    "X_data = mpg.drop(['mpg', 'car name'], axis=1)\n",
    "X_data.head()"
   ]
  },
  {
   "cell_type": "code",
   "execution_count": 11,
   "id": "a2d44c62",
   "metadata": {},
   "outputs": [
    {
     "data": {
      "text/plain": [
       "0    18.0\n",
       "1    15.0\n",
       "2    18.0\n",
       "3    16.0\n",
       "4    17.0\n",
       "Name: mpg, dtype: float64"
      ]
     },
     "execution_count": 11,
     "metadata": {},
     "output_type": "execute_result"
    }
   ],
   "source": [
    "y_data = mpg['mpg']\n",
    "y_data.head()"
   ]
  },
  {
   "cell_type": "markdown",
   "id": "b2c1e9c8",
   "metadata": {},
   "source": [
    "## train, test 분할\n",
    "- train 8 : test 2"
   ]
  },
  {
   "cell_type": "code",
   "execution_count": 14,
   "id": "a0fb10ff",
   "metadata": {
    "scrolled": true
   },
   "outputs": [
    {
     "name": "stdout",
     "output_type": "stream",
     "text": [
      "(313, 7) (79, 7)\n",
      "(313,) (79,)\n"
     ]
    }
   ],
   "source": [
    "from sklearn.model_selection import train_test_split\n",
    "\n",
    "X_train, X_test, y_train, y_test = train_test_split(\n",
    "                  X_data, y_data, test_size=0.2, random_state=42)\n",
    "print(X_train.shape, X_test.shape)\n",
    "print(y_train.shape, y_test.shape)"
   ]
  },
  {
   "cell_type": "markdown",
   "id": "5ac08e90",
   "metadata": {},
   "source": [
    "### 데이터 정규화"
   ]
  },
  {
   "cell_type": "code",
   "execution_count": 15,
   "id": "6a92eb7e",
   "metadata": {},
   "outputs": [
    {
     "name": "stdout",
     "output_type": "stream",
     "text": [
      "[[ 0.30486156  0.28457757  0.14142863  0.75480297  1.1217589   0.49452752\n",
      "  -0.68982474]\n",
      " [-0.87318372 -0.53588042 -0.32949862 -0.49312922 -0.22893966 -0.0572982\n",
      "  -0.68982474]\n",
      " [ 0.30486156 -0.23665456 -0.19868549 -0.00252992 -0.37111846 -0.33321105\n",
      "  -0.68982474]\n",
      " [ 1.48290683  1.18225513  1.18793363  1.3680521  -0.72656545 -1.16094962\n",
      "  -0.68982474]\n",
      " [-0.87318372 -1.05711255 -1.06205212 -1.32309939  0.30423083  1.32226608\n",
      "  -0.68982474]]\n"
     ]
    }
   ],
   "source": [
    "from sklearn.preprocessing import StandardScaler\n",
    "scaler = StandardScaler()\n",
    "X_train_s = scaler.fit_transform(X_train)\n",
    "X_test_s = scaler.transform(X_test)\n",
    "\n",
    "print(X_train_s[:5])"
   ]
  },
  {
   "cell_type": "markdown",
   "id": "d9366514",
   "metadata": {},
   "source": [
    "### 넘파이 배열로 변환\n",
    "- 모델의 입력 데이터로 사용학 위해서 변환 필요"
   ]
  },
  {
   "cell_type": "code",
   "execution_count": 16,
   "id": "8eb9bb7c",
   "metadata": {},
   "outputs": [
    {
     "name": "stdout",
     "output_type": "stream",
     "text": [
      "<class 'numpy.ndarray'> <class 'numpy.ndarray'>\n"
     ]
    }
   ],
   "source": [
    "y_train = y_train.values\n",
    "y_test = y_test.values\n",
    "print(type(y_train), type(y_test))"
   ]
  },
  {
   "cell_type": "markdown",
   "id": "d0221c22",
   "metadata": {},
   "source": [
    "# 모델"
   ]
  },
  {
   "cell_type": "markdown",
   "id": "f51bbe38",
   "metadata": {},
   "source": [
    "## 만들기"
   ]
  },
  {
   "cell_type": "code",
   "execution_count": 51,
   "id": "43368caa",
   "metadata": {},
   "outputs": [
    {
     "name": "stdout",
     "output_type": "stream",
     "text": [
      "Model: \"sequential_3\"\n",
      "_________________________________________________________________\n",
      " Layer (type)                Output Shape              Param #   \n",
      "=================================================================\n",
      " dense_14 (Dense)            (None, 64)                512       \n",
      "                                                                 \n",
      " dense_15 (Dense)            (None, 64)                4160      \n",
      "                                                                 \n",
      " dense_16 (Dense)            (None, 1)                 65        \n",
      "                                                                 \n",
      "=================================================================\n",
      "Total params: 4,737\n",
      "Trainable params: 4,737\n",
      "Non-trainable params: 0\n",
      "_________________________________________________________________\n"
     ]
    }
   ],
   "source": [
    "import tensorflow as tf\n",
    "from tensorflow import keras\n",
    "from tensorflow.keras import layers\n",
    "model = keras.Sequential([\n",
    "  layers.Dense(64, activation='relu', input_shape=(7,)),\n",
    "  layers.Dense(64, activation='relu'), # Fully connected 이므로, 7 - 7\n",
    "  # layers.Dense(32, activation='relu'),\n",
    "  layers.Dense(1)\n",
    "])\n",
    "model.summary()"
   ]
  },
  {
   "cell_type": "markdown",
   "id": "5bf28fa6",
   "metadata": {},
   "source": [
    "## 컴파일"
   ]
  },
  {
   "cell_type": "code",
   "execution_count": 53,
   "id": "63d74eb9",
   "metadata": {},
   "outputs": [],
   "source": [
    "model.compile(loss='mse', optimizer='adam',\n",
    "              metrics=['mae', 'mse'])"
   ]
  },
  {
   "cell_type": "markdown",
   "id": "b62cd1ce",
   "metadata": {},
   "source": [
    "## 학습"
   ]
  },
  {
   "cell_type": "code",
   "execution_count": 54,
   "id": "819caf97",
   "metadata": {
    "scrolled": true
   },
   "outputs": [
    {
     "name": "stdout",
     "output_type": "stream",
     "text": [
      "Epoch 1/200\n",
      "8/8 [==============================] - 0s 22ms/step - loss: 593.0030 - mae: 22.9638 - mse: 593.0030 - val_loss: 660.0351 - val_mae: 24.4548 - val_mse: 660.0351\n",
      "Epoch 2/200\n",
      "8/8 [==============================] - 0s 5ms/step - loss: 565.0525 - mae: 22.3708 - mse: 565.0525 - val_loss: 630.0641 - val_mae: 23.8530 - val_mse: 630.0641\n",
      "Epoch 3/200\n",
      "8/8 [==============================] - 0s 5ms/step - loss: 536.5482 - mae: 21.7183 - mse: 536.5482 - val_loss: 595.7982 - val_mae: 23.1473 - val_mse: 595.7982\n",
      "Epoch 4/200\n",
      "8/8 [==============================] - 0s 5ms/step - loss: 501.7526 - mae: 20.9329 - mse: 501.7526 - val_loss: 553.9838 - val_mae: 22.2549 - val_mse: 553.9838\n",
      "Epoch 5/200\n",
      "8/8 [==============================] - 0s 5ms/step - loss: 459.8128 - mae: 19.9062 - mse: 459.8128 - val_loss: 500.4112 - val_mae: 21.0692 - val_mse: 500.4112\n",
      "Epoch 6/200\n",
      "8/8 [==============================] - 0s 5ms/step - loss: 405.8295 - mae: 18.5500 - mse: 405.8295 - val_loss: 435.6044 - val_mae: 19.5474 - val_mse: 435.6044\n",
      "Epoch 7/200\n",
      "8/8 [==============================] - 0s 5ms/step - loss: 342.7253 - mae: 16.8404 - mse: 342.7253 - val_loss: 361.2919 - val_mae: 17.6509 - val_mse: 361.2919\n",
      "Epoch 8/200\n",
      "8/8 [==============================] - 0s 5ms/step - loss: 273.5022 - mae: 14.8342 - mse: 273.5022 - val_loss: 280.9338 - val_mae: 15.4251 - val_mse: 280.9338\n",
      "Epoch 9/200\n",
      "8/8 [==============================] - 0s 5ms/step - loss: 202.4414 - mae: 12.6482 - mse: 202.4414 - val_loss: 200.8625 - val_mae: 13.0080 - val_mse: 200.8625\n",
      "Epoch 10/200\n",
      "8/8 [==============================] - 0s 5ms/step - loss: 137.8194 - mae: 10.3215 - mse: 137.8194 - val_loss: 129.4707 - val_mae: 10.3197 - val_mse: 129.4707\n",
      "Epoch 11/200\n",
      "8/8 [==============================] - 0s 5ms/step - loss: 84.2309 - mae: 7.9415 - mse: 84.2309 - val_loss: 78.3378 - val_mae: 7.7596 - val_mse: 78.3378\n",
      "Epoch 12/200\n",
      "8/8 [==============================] - 0s 5ms/step - loss: 50.9592 - mae: 5.9733 - mse: 50.9592 - val_loss: 50.8063 - val_mae: 5.8561 - val_mse: 50.8063\n",
      "Epoch 13/200\n",
      "8/8 [==============================] - 0s 5ms/step - loss: 37.0762 - mae: 4.9608 - mse: 37.0762 - val_loss: 41.1040 - val_mae: 5.2414 - val_mse: 41.1040\n",
      "Epoch 14/200\n",
      "8/8 [==============================] - 0s 6ms/step - loss: 33.2772 - mae: 4.6309 - mse: 33.2772 - val_loss: 37.9469 - val_mae: 4.9801 - val_mse: 37.9469\n",
      "Epoch 15/200\n",
      "8/8 [==============================] - 0s 6ms/step - loss: 31.4377 - mae: 4.4870 - mse: 31.4377 - val_loss: 35.2122 - val_mae: 4.7671 - val_mse: 35.2122\n",
      "Epoch 16/200\n",
      "8/8 [==============================] - 0s 5ms/step - loss: 28.7044 - mae: 4.2792 - mse: 28.7044 - val_loss: 32.2095 - val_mae: 4.5196 - val_mse: 32.2095\n",
      "Epoch 17/200\n",
      "8/8 [==============================] - 0s 5ms/step - loss: 26.3331 - mae: 4.0658 - mse: 26.3331 - val_loss: 29.8259 - val_mae: 4.3139 - val_mse: 29.8259\n",
      "Epoch 18/200\n",
      "8/8 [==============================] - 0s 5ms/step - loss: 24.3794 - mae: 3.8894 - mse: 24.3794 - val_loss: 27.8574 - val_mae: 4.1467 - val_mse: 27.8574\n",
      "Epoch 19/200\n",
      "8/8 [==============================] - 0s 5ms/step - loss: 22.8268 - mae: 3.7491 - mse: 22.8268 - val_loss: 26.1166 - val_mae: 3.9921 - val_mse: 26.1166\n",
      "Epoch 20/200\n",
      "8/8 [==============================] - 0s 5ms/step - loss: 21.5277 - mae: 3.6337 - mse: 21.5277 - val_loss: 24.2758 - val_mae: 3.8179 - val_mse: 24.2758\n",
      "Epoch 21/200\n",
      "8/8 [==============================] - 0s 5ms/step - loss: 20.3977 - mae: 3.5283 - mse: 20.3977 - val_loss: 22.7202 - val_mae: 3.6715 - val_mse: 22.7202\n",
      "Epoch 22/200\n",
      "8/8 [==============================] - 0s 5ms/step - loss: 19.3724 - mae: 3.4315 - mse: 19.3724 - val_loss: 21.3743 - val_mae: 3.5363 - val_mse: 21.3743\n",
      "Epoch 23/200\n",
      "8/8 [==============================] - 0s 5ms/step - loss: 18.5692 - mae: 3.3454 - mse: 18.5692 - val_loss: 20.2345 - val_mae: 3.4273 - val_mse: 20.2345\n",
      "Epoch 24/200\n",
      "8/8 [==============================] - 0s 5ms/step - loss: 17.8236 - mae: 3.2669 - mse: 17.8236 - val_loss: 19.1387 - val_mae: 3.3154 - val_mse: 19.1387\n",
      "Epoch 25/200\n",
      "8/8 [==============================] - 0s 5ms/step - loss: 17.1655 - mae: 3.2015 - mse: 17.1655 - val_loss: 18.2378 - val_mae: 3.2193 - val_mse: 18.2378\n",
      "Epoch 26/200\n",
      "8/8 [==============================] - 0s 5ms/step - loss: 16.5950 - mae: 3.1455 - mse: 16.5950 - val_loss: 17.4295 - val_mae: 3.1500 - val_mse: 17.4295\n",
      "Epoch 27/200\n",
      "8/8 [==============================] - 0s 5ms/step - loss: 16.0958 - mae: 3.0843 - mse: 16.0958 - val_loss: 16.7024 - val_mae: 3.0769 - val_mse: 16.7024\n",
      "Epoch 28/200\n",
      "8/8 [==============================] - 0s 5ms/step - loss: 15.6036 - mae: 3.0292 - mse: 15.6036 - val_loss: 16.0591 - val_mae: 3.0205 - val_mse: 16.0591\n",
      "Epoch 29/200\n",
      "8/8 [==============================] - 0s 5ms/step - loss: 15.1803 - mae: 2.9772 - mse: 15.1803 - val_loss: 15.4855 - val_mae: 2.9639 - val_mse: 15.4855\n",
      "Epoch 30/200\n",
      "8/8 [==============================] - 0s 5ms/step - loss: 14.8144 - mae: 2.9267 - mse: 14.8144 - val_loss: 14.9510 - val_mae: 2.9123 - val_mse: 14.9510\n",
      "Epoch 31/200\n",
      "8/8 [==============================] - 0s 5ms/step - loss: 14.4592 - mae: 2.8853 - mse: 14.4592 - val_loss: 14.3794 - val_mae: 2.8423 - val_mse: 14.3794\n",
      "Epoch 32/200\n",
      "8/8 [==============================] - 0s 5ms/step - loss: 14.1188 - mae: 2.8511 - mse: 14.1188 - val_loss: 13.8891 - val_mae: 2.7860 - val_mse: 13.8891\n",
      "Epoch 33/200\n",
      "8/8 [==============================] - 0s 6ms/step - loss: 13.8410 - mae: 2.8216 - mse: 13.8410 - val_loss: 13.4968 - val_mae: 2.7417 - val_mse: 13.4968\n",
      "Epoch 34/200\n",
      "8/8 [==============================] - 0s 5ms/step - loss: 13.5948 - mae: 2.7800 - mse: 13.5948 - val_loss: 13.1272 - val_mae: 2.7184 - val_mse: 13.1272\n",
      "Epoch 35/200\n",
      "8/8 [==============================] - 0s 5ms/step - loss: 13.3170 - mae: 2.7387 - mse: 13.3170 - val_loss: 12.7854 - val_mae: 2.6749 - val_mse: 12.7854\n",
      "Epoch 36/200\n",
      "8/8 [==============================] - 0s 5ms/step - loss: 13.0554 - mae: 2.7084 - mse: 13.0554 - val_loss: 12.4402 - val_mae: 2.6422 - val_mse: 12.4402\n",
      "Epoch 37/200\n",
      "8/8 [==============================] - 0s 5ms/step - loss: 12.8780 - mae: 2.6890 - mse: 12.8780 - val_loss: 12.0578 - val_mae: 2.5892 - val_mse: 12.0578\n",
      "Epoch 38/200\n",
      "8/8 [==============================] - 0s 5ms/step - loss: 12.6744 - mae: 2.6538 - mse: 12.6744 - val_loss: 11.8938 - val_mae: 2.5888 - val_mse: 11.8938\n",
      "Epoch 39/200\n",
      "8/8 [==============================] - 0s 5ms/step - loss: 12.4445 - mae: 2.6170 - mse: 12.4445 - val_loss: 11.6351 - val_mae: 2.5549 - val_mse: 11.6351\n",
      "Epoch 40/200\n",
      "8/8 [==============================] - 0s 5ms/step - loss: 12.2644 - mae: 2.5995 - mse: 12.2644 - val_loss: 11.2960 - val_mae: 2.4998 - val_mse: 11.2960\n",
      "Epoch 41/200\n",
      "8/8 [==============================] - 0s 5ms/step - loss: 12.0988 - mae: 2.5811 - mse: 12.0988 - val_loss: 11.1032 - val_mae: 2.4750 - val_mse: 11.1032\n",
      "Epoch 42/200\n",
      "8/8 [==============================] - 0s 5ms/step - loss: 11.9815 - mae: 2.5719 - mse: 11.9815 - val_loss: 10.8826 - val_mae: 2.4530 - val_mse: 10.8826\n",
      "Epoch 43/200\n",
      "8/8 [==============================] - 0s 5ms/step - loss: 11.8363 - mae: 2.5449 - mse: 11.8363 - val_loss: 10.7287 - val_mae: 2.4476 - val_mse: 10.7287\n",
      "Epoch 44/200\n",
      "8/8 [==============================] - 0s 5ms/step - loss: 11.6316 - mae: 2.5148 - mse: 11.6316 - val_loss: 10.5802 - val_mae: 2.4292 - val_mse: 10.5802\n",
      "Epoch 45/200\n",
      "8/8 [==============================] - 0s 5ms/step - loss: 11.5289 - mae: 2.4993 - mse: 11.5289 - val_loss: 10.3979 - val_mae: 2.4016 - val_mse: 10.3979\n",
      "Epoch 46/200\n",
      "8/8 [==============================] - 0s 5ms/step - loss: 11.4038 - mae: 2.4832 - mse: 11.4038 - val_loss: 10.2817 - val_mae: 2.3970 - val_mse: 10.2817\n",
      "Epoch 47/200\n",
      "8/8 [==============================] - 0s 5ms/step - loss: 11.2696 - mae: 2.4644 - mse: 11.2696 - val_loss: 10.1704 - val_mae: 2.3867 - val_mse: 10.1704\n",
      "Epoch 48/200\n",
      "8/8 [==============================] - 0s 5ms/step - loss: 11.1447 - mae: 2.4512 - mse: 11.1447 - val_loss: 9.9885 - val_mae: 2.3618 - val_mse: 9.9885\n",
      "Epoch 49/200\n",
      "8/8 [==============================] - 0s 5ms/step - loss: 11.0239 - mae: 2.4361 - mse: 11.0239 - val_loss: 9.8543 - val_mae: 2.3400 - val_mse: 9.8543\n",
      "Epoch 50/200\n"
     ]
    },
    {
     "name": "stdout",
     "output_type": "stream",
     "text": [
      "8/8 [==============================] - 0s 5ms/step - loss: 10.9361 - mae: 2.4226 - mse: 10.9361 - val_loss: 9.6996 - val_mae: 2.3187 - val_mse: 9.6996\n",
      "Epoch 51/200\n",
      "8/8 [==============================] - 0s 5ms/step - loss: 10.8211 - mae: 2.4086 - mse: 10.8211 - val_loss: 9.5731 - val_mae: 2.3001 - val_mse: 9.5731\n",
      "Epoch 52/200\n",
      "8/8 [==============================] - 0s 5ms/step - loss: 10.7361 - mae: 2.3989 - mse: 10.7361 - val_loss: 9.5546 - val_mae: 2.3072 - val_mse: 9.5546\n",
      "Epoch 53/200\n",
      "8/8 [==============================] - 0s 5ms/step - loss: 10.6419 - mae: 2.3826 - mse: 10.6419 - val_loss: 9.4234 - val_mae: 2.2844 - val_mse: 9.4234\n",
      "Epoch 54/200\n",
      "8/8 [==============================] - 0s 5ms/step - loss: 10.5554 - mae: 2.3745 - mse: 10.5554 - val_loss: 9.2330 - val_mae: 2.2619 - val_mse: 9.2330\n",
      "Epoch 55/200\n",
      "8/8 [==============================] - 0s 5ms/step - loss: 10.4704 - mae: 2.3586 - mse: 10.4704 - val_loss: 9.1559 - val_mae: 2.2538 - val_mse: 9.1559\n",
      "Epoch 56/200\n",
      "8/8 [==============================] - 0s 5ms/step - loss: 10.3896 - mae: 2.3534 - mse: 10.3896 - val_loss: 9.0671 - val_mae: 2.2317 - val_mse: 9.0671\n",
      "Epoch 57/200\n",
      "8/8 [==============================] - 0s 5ms/step - loss: 10.2831 - mae: 2.3318 - mse: 10.2831 - val_loss: 9.0535 - val_mae: 2.2340 - val_mse: 9.0535\n",
      "Epoch 58/200\n",
      "8/8 [==============================] - 0s 5ms/step - loss: 10.2251 - mae: 2.3244 - mse: 10.2251 - val_loss: 8.9748 - val_mae: 2.2288 - val_mse: 8.9748\n",
      "Epoch 59/200\n",
      "8/8 [==============================] - 0s 5ms/step - loss: 10.1063 - mae: 2.3092 - mse: 10.1063 - val_loss: 8.8445 - val_mae: 2.2050 - val_mse: 8.8445\n",
      "Epoch 60/200\n",
      "8/8 [==============================] - 0s 5ms/step - loss: 10.0414 - mae: 2.3077 - mse: 10.0414 - val_loss: 8.7113 - val_mae: 2.1879 - val_mse: 8.7113\n",
      "Epoch 61/200\n",
      "8/8 [==============================] - 0s 5ms/step - loss: 10.0180 - mae: 2.2995 - mse: 10.0180 - val_loss: 8.7559 - val_mae: 2.1943 - val_mse: 8.7559\n",
      "Epoch 62/200\n",
      "8/8 [==============================] - 0s 5ms/step - loss: 9.8773 - mae: 2.2799 - mse: 9.8773 - val_loss: 8.6614 - val_mae: 2.1842 - val_mse: 8.6614\n",
      "Epoch 63/200\n",
      "8/8 [==============================] - 0s 5ms/step - loss: 9.8197 - mae: 2.2691 - mse: 9.8197 - val_loss: 8.5716 - val_mae: 2.1738 - val_mse: 8.5716\n",
      "Epoch 64/200\n",
      "8/8 [==============================] - 0s 5ms/step - loss: 9.7508 - mae: 2.2569 - mse: 9.7508 - val_loss: 8.4951 - val_mae: 2.1601 - val_mse: 8.4951\n",
      "Epoch 65/200\n",
      "8/8 [==============================] - 0s 5ms/step - loss: 9.6996 - mae: 2.2558 - mse: 9.6996 - val_loss: 8.3878 - val_mae: 2.1510 - val_mse: 8.3878\n",
      "Epoch 66/200\n",
      "8/8 [==============================] - 0s 5ms/step - loss: 9.6541 - mae: 2.2479 - mse: 9.6541 - val_loss: 8.4185 - val_mae: 2.1511 - val_mse: 8.4185\n",
      "Epoch 67/200\n",
      "8/8 [==============================] - 0s 5ms/step - loss: 9.5627 - mae: 2.2332 - mse: 9.5627 - val_loss: 8.3322 - val_mae: 2.1442 - val_mse: 8.3322\n",
      "Epoch 68/200\n",
      "8/8 [==============================] - 0s 5ms/step - loss: 9.5097 - mae: 2.2264 - mse: 9.5097 - val_loss: 8.3075 - val_mae: 2.1373 - val_mse: 8.3075\n",
      "Epoch 69/200\n",
      "8/8 [==============================] - 0s 5ms/step - loss: 9.4647 - mae: 2.2224 - mse: 9.4647 - val_loss: 8.2426 - val_mae: 2.1276 - val_mse: 8.2426\n",
      "Epoch 70/200\n",
      "8/8 [==============================] - 0s 5ms/step - loss: 9.4262 - mae: 2.2133 - mse: 9.4262 - val_loss: 8.3187 - val_mae: 2.1414 - val_mse: 8.3187\n",
      "Epoch 71/200\n",
      "8/8 [==============================] - 0s 5ms/step - loss: 9.3478 - mae: 2.2128 - mse: 9.3478 - val_loss: 8.0655 - val_mae: 2.0977 - val_mse: 8.0655\n",
      "Epoch 72/200\n",
      "8/8 [==============================] - 0s 5ms/step - loss: 9.2840 - mae: 2.2014 - mse: 9.2840 - val_loss: 8.0248 - val_mae: 2.0973 - val_mse: 8.0248\n",
      "Epoch 73/200\n",
      "8/8 [==============================] - 0s 5ms/step - loss: 9.2275 - mae: 2.1962 - mse: 9.2275 - val_loss: 8.0326 - val_mae: 2.0993 - val_mse: 8.0326\n",
      "Epoch 74/200\n",
      "8/8 [==============================] - 0s 5ms/step - loss: 9.1696 - mae: 2.1820 - mse: 9.1696 - val_loss: 8.2294 - val_mae: 2.1341 - val_mse: 8.2294\n",
      "Epoch 75/200\n",
      "8/8 [==============================] - 0s 5ms/step - loss: 9.1308 - mae: 2.1766 - mse: 9.1308 - val_loss: 8.0484 - val_mae: 2.1029 - val_mse: 8.0484\n",
      "Epoch 76/200\n",
      "8/8 [==============================] - 0s 5ms/step - loss: 9.0820 - mae: 2.1718 - mse: 9.0820 - val_loss: 8.0176 - val_mae: 2.0951 - val_mse: 8.0176\n",
      "Epoch 77/200\n",
      "8/8 [==============================] - 0s 5ms/step - loss: 9.0169 - mae: 2.1695 - mse: 9.0169 - val_loss: 7.8759 - val_mae: 2.0731 - val_mse: 7.8759\n",
      "Epoch 78/200\n",
      "8/8 [==============================] - 0s 5ms/step - loss: 8.9475 - mae: 2.1567 - mse: 8.9475 - val_loss: 7.8948 - val_mae: 2.0786 - val_mse: 7.8948\n",
      "Epoch 79/200\n",
      "8/8 [==============================] - 0s 5ms/step - loss: 8.9132 - mae: 2.1522 - mse: 8.9132 - val_loss: 7.9242 - val_mae: 2.0847 - val_mse: 7.9242\n",
      "Epoch 80/200\n",
      "8/8 [==============================] - 0s 5ms/step - loss: 8.8348 - mae: 2.1414 - mse: 8.8348 - val_loss: 7.8157 - val_mae: 2.0637 - val_mse: 7.8157\n",
      "Epoch 81/200\n",
      "8/8 [==============================] - 0s 5ms/step - loss: 8.8121 - mae: 2.1366 - mse: 8.8121 - val_loss: 7.6632 - val_mae: 2.0389 - val_mse: 7.6632\n",
      "Epoch 82/200\n",
      "8/8 [==============================] - 0s 5ms/step - loss: 8.7884 - mae: 2.1318 - mse: 8.7884 - val_loss: 7.7493 - val_mae: 2.0565 - val_mse: 7.7493\n",
      "Epoch 83/200\n",
      "8/8 [==============================] - 0s 5ms/step - loss: 8.7998 - mae: 2.1302 - mse: 8.7998 - val_loss: 7.6489 - val_mae: 2.0422 - val_mse: 7.6489\n",
      "Epoch 84/200\n",
      "8/8 [==============================] - 0s 5ms/step - loss: 8.6597 - mae: 2.1187 - mse: 8.6597 - val_loss: 7.7479 - val_mae: 2.0567 - val_mse: 7.7479\n",
      "Epoch 85/200\n",
      "8/8 [==============================] - 0s 5ms/step - loss: 8.7002 - mae: 2.1161 - mse: 8.7002 - val_loss: 7.7654 - val_mae: 2.0576 - val_mse: 7.7654\n",
      "Epoch 86/200\n",
      "8/8 [==============================] - 0s 5ms/step - loss: 8.5988 - mae: 2.1042 - mse: 8.5988 - val_loss: 7.5813 - val_mae: 2.0249 - val_mse: 7.5813\n",
      "Epoch 87/200\n",
      "8/8 [==============================] - 0s 5ms/step - loss: 8.5355 - mae: 2.0951 - mse: 8.5355 - val_loss: 7.6422 - val_mae: 2.0371 - val_mse: 7.6422\n",
      "Epoch 88/200\n",
      "8/8 [==============================] - 0s 5ms/step - loss: 8.5627 - mae: 2.0937 - mse: 8.5627 - val_loss: 7.6559 - val_mae: 2.0396 - val_mse: 7.6559\n",
      "Epoch 89/200\n",
      "8/8 [==============================] - 0s 5ms/step - loss: 8.4375 - mae: 2.0838 - mse: 8.4375 - val_loss: 7.5672 - val_mae: 2.0262 - val_mse: 7.5672\n",
      "Epoch 90/200\n",
      "8/8 [==============================] - 0s 5ms/step - loss: 8.4684 - mae: 2.0929 - mse: 8.4684 - val_loss: 7.4781 - val_mae: 2.0140 - val_mse: 7.4781\n",
      "Epoch 91/200\n",
      "8/8 [==============================] - 0s 5ms/step - loss: 8.3525 - mae: 2.0797 - mse: 8.3525 - val_loss: 7.4681 - val_mae: 2.0119 - val_mse: 7.4681\n",
      "Epoch 92/200\n",
      "8/8 [==============================] - 0s 5ms/step - loss: 8.3146 - mae: 2.0622 - mse: 8.3146 - val_loss: 7.4982 - val_mae: 2.0183 - val_mse: 7.4982\n",
      "Epoch 93/200\n",
      "8/8 [==============================] - 0s 5ms/step - loss: 8.2865 - mae: 2.0530 - mse: 8.2865 - val_loss: 7.5962 - val_mae: 2.0400 - val_mse: 7.5962\n",
      "Epoch 94/200\n",
      "8/8 [==============================] - 0s 5ms/step - loss: 8.2459 - mae: 2.0476 - mse: 8.2459 - val_loss: 7.4525 - val_mae: 2.0120 - val_mse: 7.4525\n",
      "Epoch 95/200\n",
      "8/8 [==============================] - 0s 5ms/step - loss: 8.2022 - mae: 2.0465 - mse: 8.2022 - val_loss: 7.3937 - val_mae: 2.0020 - val_mse: 7.3937\n",
      "Epoch 96/200\n",
      "8/8 [==============================] - 0s 5ms/step - loss: 8.1595 - mae: 2.0431 - mse: 8.1595 - val_loss: 7.3555 - val_mae: 1.9996 - val_mse: 7.3555\n",
      "Epoch 97/200\n",
      "8/8 [==============================] - 0s 5ms/step - loss: 8.1667 - mae: 2.0536 - mse: 8.1667 - val_loss: 7.3107 - val_mae: 1.9886 - val_mse: 7.3107\n",
      "Epoch 98/200\n",
      "8/8 [==============================] - 0s 5ms/step - loss: 8.0681 - mae: 2.0305 - mse: 8.0681 - val_loss: 7.4379 - val_mae: 2.0161 - val_mse: 7.4379\n",
      "Epoch 99/200\n",
      "8/8 [==============================] - 0s 5ms/step - loss: 8.0873 - mae: 2.0223 - mse: 8.0873 - val_loss: 7.4089 - val_mae: 2.0082 - val_mse: 7.4089\n",
      "Epoch 100/200\n"
     ]
    },
    {
     "name": "stdout",
     "output_type": "stream",
     "text": [
      "8/8 [==============================] - 0s 5ms/step - loss: 8.0388 - mae: 2.0220 - mse: 8.0388 - val_loss: 7.3330 - val_mae: 1.9974 - val_mse: 7.3330\n",
      "Epoch 101/200\n",
      "8/8 [==============================] - 0s 5ms/step - loss: 7.9977 - mae: 2.0150 - mse: 7.9977 - val_loss: 7.3665 - val_mae: 2.0074 - val_mse: 7.3665\n",
      "Epoch 102/200\n",
      "8/8 [==============================] - 0s 5ms/step - loss: 8.0247 - mae: 2.0169 - mse: 8.0247 - val_loss: 7.4166 - val_mae: 2.0168 - val_mse: 7.4166\n",
      "Epoch 103/200\n",
      "8/8 [==============================] - 0s 5ms/step - loss: 7.9604 - mae: 2.0102 - mse: 7.9604 - val_loss: 7.1792 - val_mae: 1.9669 - val_mse: 7.1792\n",
      "Epoch 104/200\n",
      "8/8 [==============================] - 0s 4ms/step - loss: 7.9129 - mae: 2.0158 - mse: 7.9129 - val_loss: 7.1543 - val_mae: 1.9655 - val_mse: 7.1543\n",
      "Epoch 105/200\n",
      "8/8 [==============================] - 0s 5ms/step - loss: 7.8535 - mae: 2.0005 - mse: 7.8535 - val_loss: 7.3838 - val_mae: 2.0162 - val_mse: 7.3838\n",
      "Epoch 106/200\n",
      "8/8 [==============================] - 0s 5ms/step - loss: 7.8228 - mae: 1.9846 - mse: 7.8228 - val_loss: 7.4683 - val_mae: 2.0292 - val_mse: 7.4683\n",
      "Epoch 107/200\n",
      "8/8 [==============================] - 0s 5ms/step - loss: 7.7703 - mae: 1.9849 - mse: 7.7703 - val_loss: 7.2270 - val_mae: 1.9835 - val_mse: 7.2270\n",
      "Epoch 108/200\n",
      "8/8 [==============================] - 0s 5ms/step - loss: 7.7395 - mae: 1.9833 - mse: 7.7395 - val_loss: 7.1324 - val_mae: 1.9630 - val_mse: 7.1324\n",
      "Epoch 109/200\n",
      "8/8 [==============================] - 0s 5ms/step - loss: 7.7121 - mae: 1.9762 - mse: 7.7121 - val_loss: 7.1382 - val_mae: 1.9668 - val_mse: 7.1382\n",
      "Epoch 110/200\n",
      "8/8 [==============================] - 0s 5ms/step - loss: 7.6802 - mae: 1.9650 - mse: 7.6802 - val_loss: 7.2560 - val_mae: 1.9903 - val_mse: 7.2560\n",
      "Epoch 111/200\n",
      "8/8 [==============================] - 0s 5ms/step - loss: 7.6551 - mae: 1.9701 - mse: 7.6551 - val_loss: 7.1108 - val_mae: 1.9576 - val_mse: 7.1108\n",
      "Epoch 112/200\n",
      "8/8 [==============================] - 0s 5ms/step - loss: 7.5965 - mae: 1.9637 - mse: 7.5965 - val_loss: 7.2672 - val_mae: 1.9942 - val_mse: 7.2672\n",
      "Epoch 113/200\n",
      "8/8 [==============================] - 0s 5ms/step - loss: 7.5902 - mae: 1.9563 - mse: 7.5902 - val_loss: 7.2702 - val_mae: 1.9965 - val_mse: 7.2702\n",
      "Epoch 114/200\n",
      "8/8 [==============================] - 0s 5ms/step - loss: 7.6600 - mae: 1.9729 - mse: 7.6600 - val_loss: 7.1567 - val_mae: 1.9726 - val_mse: 7.1567\n",
      "Epoch 115/200\n",
      "8/8 [==============================] - 0s 5ms/step - loss: 7.4786 - mae: 1.9435 - mse: 7.4786 - val_loss: 7.3351 - val_mae: 2.0090 - val_mse: 7.3351\n",
      "Epoch 116/200\n",
      "8/8 [==============================] - 0s 5ms/step - loss: 7.5070 - mae: 1.9407 - mse: 7.5070 - val_loss: 7.2979 - val_mae: 2.0039 - val_mse: 7.2979\n",
      "Epoch 117/200\n",
      "8/8 [==============================] - 0s 5ms/step - loss: 7.5084 - mae: 1.9366 - mse: 7.5084 - val_loss: 7.4063 - val_mae: 2.0227 - val_mse: 7.4063\n",
      "Epoch 118/200\n",
      "8/8 [==============================] - 0s 5ms/step - loss: 7.4242 - mae: 1.9256 - mse: 7.4242 - val_loss: 7.2177 - val_mae: 1.9848 - val_mse: 7.2177\n",
      "Epoch 119/200\n",
      "8/8 [==============================] - 0s 5ms/step - loss: 7.4228 - mae: 1.9355 - mse: 7.4228 - val_loss: 7.1438 - val_mae: 1.9747 - val_mse: 7.1438\n",
      "Epoch 120/200\n",
      "8/8 [==============================] - 0s 5ms/step - loss: 7.4019 - mae: 1.9427 - mse: 7.4019 - val_loss: 7.0950 - val_mae: 1.9605 - val_mse: 7.0950\n",
      "Epoch 121/200\n",
      "8/8 [==============================] - 0s 5ms/step - loss: 7.4445 - mae: 1.9306 - mse: 7.4445 - val_loss: 7.3463 - val_mae: 2.0183 - val_mse: 7.3463\n",
      "Epoch 122/200\n",
      "8/8 [==============================] - 0s 5ms/step - loss: 7.4362 - mae: 1.9352 - mse: 7.4362 - val_loss: 7.0137 - val_mae: 1.9494 - val_mse: 7.0137\n",
      "Epoch 123/200\n",
      "8/8 [==============================] - 0s 5ms/step - loss: 7.4169 - mae: 1.9259 - mse: 7.4169 - val_loss: 7.2657 - val_mae: 2.0027 - val_mse: 7.2657\n",
      "Epoch 124/200\n",
      "8/8 [==============================] - 0s 5ms/step - loss: 7.3043 - mae: 1.9136 - mse: 7.3043 - val_loss: 7.1215 - val_mae: 1.9703 - val_mse: 7.1215\n",
      "Epoch 125/200\n",
      "8/8 [==============================] - 0s 5ms/step - loss: 7.2827 - mae: 1.9193 - mse: 7.2827 - val_loss: 6.9921 - val_mae: 1.9409 - val_mse: 6.9921\n",
      "Epoch 126/200\n",
      "8/8 [==============================] - 0s 5ms/step - loss: 7.2242 - mae: 1.9066 - mse: 7.2242 - val_loss: 7.1760 - val_mae: 1.9852 - val_mse: 7.1760\n",
      "Epoch 127/200\n",
      "8/8 [==============================] - 0s 5ms/step - loss: 7.2045 - mae: 1.8983 - mse: 7.2045 - val_loss: 7.2129 - val_mae: 1.9976 - val_mse: 7.2129\n",
      "Epoch 128/200\n",
      "8/8 [==============================] - 0s 5ms/step - loss: 7.2293 - mae: 1.8948 - mse: 7.2293 - val_loss: 7.2687 - val_mae: 2.0081 - val_mse: 7.2687\n",
      "Epoch 129/200\n",
      "8/8 [==============================] - 0s 5ms/step - loss: 7.2079 - mae: 1.9063 - mse: 7.2079 - val_loss: 6.9935 - val_mae: 1.9494 - val_mse: 6.9935\n",
      "Epoch 130/200\n",
      "8/8 [==============================] - 0s 5ms/step - loss: 7.1606 - mae: 1.8984 - mse: 7.1606 - val_loss: 7.1811 - val_mae: 1.9882 - val_mse: 7.1811\n",
      "Epoch 131/200\n",
      "8/8 [==============================] - 0s 5ms/step - loss: 7.1292 - mae: 1.8895 - mse: 7.1292 - val_loss: 7.1902 - val_mae: 1.9887 - val_mse: 7.1902\n",
      "Epoch 132/200\n",
      "8/8 [==============================] - 0s 5ms/step - loss: 7.0812 - mae: 1.8788 - mse: 7.0812 - val_loss: 7.1604 - val_mae: 1.9786 - val_mse: 7.1604\n",
      "Epoch 133/200\n",
      "8/8 [==============================] - 0s 5ms/step - loss: 7.1068 - mae: 1.8934 - mse: 7.1068 - val_loss: 6.9708 - val_mae: 1.9455 - val_mse: 6.9708\n",
      "Epoch 134/200\n",
      "8/8 [==============================] - 0s 5ms/step - loss: 7.0436 - mae: 1.8824 - mse: 7.0436 - val_loss: 7.2036 - val_mae: 1.9991 - val_mse: 7.2036\n",
      "Epoch 135/200\n",
      "8/8 [==============================] - 0s 5ms/step - loss: 7.0130 - mae: 1.8662 - mse: 7.0130 - val_loss: 7.1838 - val_mae: 1.9905 - val_mse: 7.1838\n",
      "Epoch 136/200\n",
      "8/8 [==============================] - 0s 5ms/step - loss: 6.9788 - mae: 1.8683 - mse: 6.9788 - val_loss: 7.1391 - val_mae: 1.9789 - val_mse: 7.1391\n",
      "Epoch 137/200\n",
      "8/8 [==============================] - 0s 5ms/step - loss: 6.9544 - mae: 1.8622 - mse: 6.9544 - val_loss: 7.1001 - val_mae: 1.9747 - val_mse: 7.1001\n",
      "Epoch 138/200\n",
      "8/8 [==============================] - 0s 5ms/step - loss: 6.9804 - mae: 1.8755 - mse: 6.9804 - val_loss: 6.9253 - val_mae: 1.9369 - val_mse: 6.9253\n",
      "Epoch 139/200\n",
      "8/8 [==============================] - 0s 5ms/step - loss: 6.9408 - mae: 1.8604 - mse: 6.9408 - val_loss: 7.1353 - val_mae: 1.9872 - val_mse: 7.1353\n",
      "Epoch 140/200\n",
      "8/8 [==============================] - 0s 5ms/step - loss: 6.9041 - mae: 1.8593 - mse: 6.9041 - val_loss: 7.0752 - val_mae: 1.9693 - val_mse: 7.0752\n",
      "Epoch 141/200\n",
      "8/8 [==============================] - 0s 5ms/step - loss: 6.8846 - mae: 1.8579 - mse: 6.8846 - val_loss: 7.1286 - val_mae: 1.9795 - val_mse: 7.1286\n",
      "Epoch 142/200\n",
      "8/8 [==============================] - 0s 5ms/step - loss: 6.8661 - mae: 1.8558 - mse: 6.8661 - val_loss: 7.0253 - val_mae: 1.9549 - val_mse: 7.0253\n",
      "Epoch 143/200\n",
      "8/8 [==============================] - 0s 5ms/step - loss: 6.8785 - mae: 1.8513 - mse: 6.8785 - val_loss: 7.2365 - val_mae: 1.9984 - val_mse: 7.2365\n",
      "Epoch 144/200\n",
      "8/8 [==============================] - 0s 5ms/step - loss: 6.8303 - mae: 1.8446 - mse: 6.8303 - val_loss: 7.0377 - val_mae: 1.9604 - val_mse: 7.0377\n",
      "Epoch 145/200\n",
      "8/8 [==============================] - 0s 5ms/step - loss: 6.8459 - mae: 1.8541 - mse: 6.8459 - val_loss: 7.2248 - val_mae: 1.9990 - val_mse: 7.2248\n",
      "Epoch 146/200\n",
      "8/8 [==============================] - 0s 5ms/step - loss: 6.7747 - mae: 1.8387 - mse: 6.7747 - val_loss: 7.0819 - val_mae: 1.9685 - val_mse: 7.0819\n",
      "Epoch 147/200\n",
      "8/8 [==============================] - 0s 5ms/step - loss: 6.8241 - mae: 1.8498 - mse: 6.8241 - val_loss: 6.8562 - val_mae: 1.9323 - val_mse: 6.8562\n",
      "Epoch 148/200\n",
      "8/8 [==============================] - 0s 5ms/step - loss: 6.7258 - mae: 1.8347 - mse: 6.7258 - val_loss: 7.1762 - val_mae: 1.9921 - val_mse: 7.1762\n",
      "Epoch 149/200\n",
      "8/8 [==============================] - 0s 5ms/step - loss: 6.7159 - mae: 1.8253 - mse: 6.7159 - val_loss: 7.1026 - val_mae: 1.9755 - val_mse: 7.1026\n",
      "Epoch 150/200\n"
     ]
    },
    {
     "name": "stdout",
     "output_type": "stream",
     "text": [
      "8/8 [==============================] - 0s 5ms/step - loss: 6.7323 - mae: 1.8263 - mse: 6.7323 - val_loss: 7.1856 - val_mae: 1.9912 - val_mse: 7.1856\n",
      "Epoch 151/200\n",
      "8/8 [==============================] - 0s 5ms/step - loss: 6.7158 - mae: 1.8429 - mse: 6.7158 - val_loss: 6.9001 - val_mae: 1.9495 - val_mse: 6.9001\n",
      "Epoch 152/200\n",
      "8/8 [==============================] - 0s 5ms/step - loss: 6.7659 - mae: 1.8384 - mse: 6.7659 - val_loss: 7.1926 - val_mae: 1.9925 - val_mse: 7.1926\n",
      "Epoch 153/200\n",
      "8/8 [==============================] - 0s 5ms/step - loss: 6.6576 - mae: 1.8203 - mse: 6.6576 - val_loss: 7.0013 - val_mae: 1.9581 - val_mse: 7.0013\n",
      "Epoch 154/200\n",
      "8/8 [==============================] - 0s 5ms/step - loss: 6.6180 - mae: 1.8162 - mse: 6.6180 - val_loss: 6.9811 - val_mae: 1.9587 - val_mse: 6.9811\n",
      "Epoch 155/200\n",
      "8/8 [==============================] - 0s 5ms/step - loss: 6.6334 - mae: 1.8136 - mse: 6.6334 - val_loss: 7.1714 - val_mae: 2.0007 - val_mse: 7.1714\n",
      "Epoch 156/200\n",
      "8/8 [==============================] - 0s 5ms/step - loss: 6.6347 - mae: 1.8175 - mse: 6.6347 - val_loss: 6.9518 - val_mae: 1.9460 - val_mse: 6.9518\n",
      "Epoch 157/200\n",
      "8/8 [==============================] - 0s 5ms/step - loss: 6.6118 - mae: 1.8141 - mse: 6.6118 - val_loss: 7.1571 - val_mae: 1.9911 - val_mse: 7.1571\n",
      "Epoch 158/200\n",
      "8/8 [==============================] - 0s 5ms/step - loss: 6.5872 - mae: 1.8013 - mse: 6.5872 - val_loss: 6.9671 - val_mae: 1.9670 - val_mse: 6.9671\n",
      "Epoch 159/200\n",
      "8/8 [==============================] - 0s 5ms/step - loss: 6.5441 - mae: 1.8093 - mse: 6.5441 - val_loss: 6.9439 - val_mae: 1.9520 - val_mse: 6.9439\n",
      "Epoch 160/200\n",
      "8/8 [==============================] - 0s 5ms/step - loss: 6.4922 - mae: 1.7948 - mse: 6.4922 - val_loss: 7.1126 - val_mae: 1.9849 - val_mse: 7.1126\n",
      "Epoch 161/200\n",
      "8/8 [==============================] - 0s 6ms/step - loss: 6.4834 - mae: 1.7897 - mse: 6.4834 - val_loss: 7.0666 - val_mae: 1.9836 - val_mse: 7.0666\n",
      "Epoch 162/200\n",
      "8/8 [==============================] - 0s 5ms/step - loss: 6.4953 - mae: 1.7868 - mse: 6.4953 - val_loss: 7.0637 - val_mae: 1.9769 - val_mse: 7.0637\n",
      "Epoch 163/200\n",
      "8/8 [==============================] - 0s 5ms/step - loss: 6.4997 - mae: 1.7860 - mse: 6.4997 - val_loss: 7.0630 - val_mae: 1.9817 - val_mse: 7.0630\n",
      "Epoch 164/200\n",
      "8/8 [==============================] - 0s 5ms/step - loss: 6.5474 - mae: 1.8036 - mse: 6.5474 - val_loss: 6.7400 - val_mae: 1.9265 - val_mse: 6.7400\n",
      "Epoch 165/200\n",
      "8/8 [==============================] - 0s 5ms/step - loss: 6.4908 - mae: 1.7968 - mse: 6.4908 - val_loss: 7.0487 - val_mae: 1.9840 - val_mse: 7.0487\n",
      "Epoch 166/200\n",
      "8/8 [==============================] - 0s 5ms/step - loss: 6.4519 - mae: 1.7821 - mse: 6.4519 - val_loss: 7.1657 - val_mae: 1.9986 - val_mse: 7.1657\n",
      "Epoch 167/200\n",
      "8/8 [==============================] - 0s 5ms/step - loss: 6.4145 - mae: 1.7843 - mse: 6.4145 - val_loss: 6.9174 - val_mae: 1.9479 - val_mse: 6.9174\n",
      "Epoch 168/200\n",
      "8/8 [==============================] - 0s 5ms/step - loss: 6.4026 - mae: 1.7748 - mse: 6.4026 - val_loss: 7.0399 - val_mae: 1.9843 - val_mse: 7.0399\n",
      "Epoch 169/200\n",
      "8/8 [==============================] - 0s 5ms/step - loss: 6.3715 - mae: 1.7744 - mse: 6.3715 - val_loss: 6.7846 - val_mae: 1.9404 - val_mse: 6.7846\n",
      "Epoch 170/200\n",
      "8/8 [==============================] - 0s 5ms/step - loss: 6.3626 - mae: 1.7827 - mse: 6.3626 - val_loss: 6.9477 - val_mae: 1.9645 - val_mse: 6.9477\n",
      "Epoch 171/200\n",
      "8/8 [==============================] - 0s 5ms/step - loss: 6.3628 - mae: 1.7783 - mse: 6.3628 - val_loss: 7.1891 - val_mae: 2.0105 - val_mse: 7.1891\n",
      "Epoch 172/200\n",
      "8/8 [==============================] - 0s 5ms/step - loss: 6.3483 - mae: 1.7639 - mse: 6.3483 - val_loss: 6.9591 - val_mae: 1.9748 - val_mse: 6.9591\n",
      "Epoch 173/200\n",
      "8/8 [==============================] - 0s 5ms/step - loss: 6.3138 - mae: 1.7641 - mse: 6.3138 - val_loss: 6.8527 - val_mae: 1.9536 - val_mse: 6.8527\n",
      "Epoch 174/200\n",
      "8/8 [==============================] - 0s 5ms/step - loss: 6.3268 - mae: 1.7785 - mse: 6.3268 - val_loss: 7.1460 - val_mae: 1.9997 - val_mse: 7.1460\n",
      "Epoch 175/200\n",
      "8/8 [==============================] - 0s 5ms/step - loss: 6.2547 - mae: 1.7535 - mse: 6.2547 - val_loss: 6.8736 - val_mae: 1.9613 - val_mse: 6.8736\n",
      "Epoch 176/200\n",
      "8/8 [==============================] - 0s 5ms/step - loss: 6.2856 - mae: 1.7590 - mse: 6.2856 - val_loss: 7.0555 - val_mae: 1.9870 - val_mse: 7.0555\n",
      "Epoch 177/200\n",
      "8/8 [==============================] - 0s 5ms/step - loss: 6.3523 - mae: 1.7851 - mse: 6.3523 - val_loss: 6.7616 - val_mae: 1.9413 - val_mse: 6.7616\n",
      "Epoch 178/200\n",
      "8/8 [==============================] - 0s 5ms/step - loss: 6.2269 - mae: 1.7522 - mse: 6.2269 - val_loss: 7.0768 - val_mae: 2.0003 - val_mse: 7.0768\n",
      "Epoch 179/200\n",
      "8/8 [==============================] - 0s 5ms/step - loss: 6.2110 - mae: 1.7447 - mse: 6.2110 - val_loss: 7.0348 - val_mae: 1.9862 - val_mse: 7.0348\n",
      "Epoch 180/200\n",
      "8/8 [==============================] - 0s 5ms/step - loss: 6.2259 - mae: 1.7522 - mse: 6.2259 - val_loss: 6.8787 - val_mae: 1.9528 - val_mse: 6.8787\n",
      "Epoch 181/200\n",
      "8/8 [==============================] - 0s 5ms/step - loss: 6.2381 - mae: 1.7582 - mse: 6.2381 - val_loss: 7.0016 - val_mae: 1.9811 - val_mse: 7.0016\n",
      "Epoch 182/200\n",
      "8/8 [==============================] - 0s 5ms/step - loss: 6.1806 - mae: 1.7575 - mse: 6.1806 - val_loss: 7.0448 - val_mae: 1.9793 - val_mse: 7.0448\n",
      "Epoch 183/200\n",
      "8/8 [==============================] - 0s 5ms/step - loss: 6.1462 - mae: 1.7417 - mse: 6.1462 - val_loss: 6.9232 - val_mae: 1.9721 - val_mse: 6.9232\n",
      "Epoch 184/200\n",
      "8/8 [==============================] - 0s 5ms/step - loss: 6.1396 - mae: 1.7426 - mse: 6.1396 - val_loss: 6.8167 - val_mae: 1.9574 - val_mse: 6.8167\n",
      "Epoch 185/200\n",
      "8/8 [==============================] - 0s 5ms/step - loss: 6.1141 - mae: 1.7471 - mse: 6.1141 - val_loss: 7.0508 - val_mae: 1.9960 - val_mse: 7.0508\n",
      "Epoch 186/200\n",
      "8/8 [==============================] - 0s 5ms/step - loss: 6.1447 - mae: 1.7404 - mse: 6.1447 - val_loss: 7.1845 - val_mae: 2.0161 - val_mse: 7.1845\n",
      "Epoch 187/200\n",
      "8/8 [==============================] - 0s 5ms/step - loss: 6.0845 - mae: 1.7359 - mse: 6.0845 - val_loss: 6.8672 - val_mae: 1.9562 - val_mse: 6.8672\n",
      "Epoch 188/200\n",
      "8/8 [==============================] - 0s 5ms/step - loss: 6.1300 - mae: 1.7496 - mse: 6.1300 - val_loss: 6.7416 - val_mae: 1.9389 - val_mse: 6.7416\n",
      "Epoch 189/200\n",
      "8/8 [==============================] - 0s 6ms/step - loss: 6.0848 - mae: 1.7370 - mse: 6.0848 - val_loss: 7.0546 - val_mae: 2.0028 - val_mse: 7.0546\n",
      "Epoch 190/200\n",
      "8/8 [==============================] - 0s 5ms/step - loss: 6.0283 - mae: 1.7233 - mse: 6.0283 - val_loss: 7.0607 - val_mae: 1.9925 - val_mse: 7.0607\n",
      "Epoch 191/200\n",
      "8/8 [==============================] - 0s 5ms/step - loss: 6.0643 - mae: 1.7368 - mse: 6.0643 - val_loss: 6.9248 - val_mae: 1.9709 - val_mse: 6.9248\n",
      "Epoch 192/200\n",
      "8/8 [==============================] - 0s 5ms/step - loss: 6.0214 - mae: 1.7231 - mse: 6.0214 - val_loss: 6.9592 - val_mae: 1.9881 - val_mse: 6.9592\n",
      "Epoch 193/200\n",
      "8/8 [==============================] - 0s 5ms/step - loss: 6.0010 - mae: 1.7257 - mse: 6.0010 - val_loss: 7.0361 - val_mae: 1.9915 - val_mse: 7.0361\n",
      "Epoch 194/200\n",
      "8/8 [==============================] - 0s 5ms/step - loss: 6.0198 - mae: 1.7364 - mse: 6.0198 - val_loss: 6.7790 - val_mae: 1.9563 - val_mse: 6.7790\n",
      "Epoch 195/200\n",
      "8/8 [==============================] - 0s 5ms/step - loss: 6.0198 - mae: 1.7283 - mse: 6.0198 - val_loss: 7.2039 - val_mae: 2.0207 - val_mse: 7.2039\n",
      "Epoch 196/200\n",
      "8/8 [==============================] - 0s 5ms/step - loss: 5.9902 - mae: 1.7244 - mse: 5.9902 - val_loss: 6.9078 - val_mae: 1.9738 - val_mse: 6.9078\n",
      "Epoch 197/200\n",
      "8/8 [==============================] - 0s 5ms/step - loss: 5.9863 - mae: 1.7201 - mse: 5.9863 - val_loss: 6.8626 - val_mae: 1.9719 - val_mse: 6.8626\n",
      "Epoch 198/200\n",
      "8/8 [==============================] - 0s 5ms/step - loss: 5.9970 - mae: 1.7173 - mse: 5.9970 - val_loss: 7.2305 - val_mae: 2.0313 - val_mse: 7.2305\n",
      "Epoch 199/200\n",
      "8/8 [==============================] - 0s 5ms/step - loss: 5.9342 - mae: 1.7104 - mse: 5.9342 - val_loss: 6.8322 - val_mae: 1.9596 - val_mse: 6.8322\n",
      "Epoch 200/200\n"
     ]
    },
    {
     "name": "stdout",
     "output_type": "stream",
     "text": [
      "1/8 [==>...........................] - ETA: 0s - loss: 12.0052 - mae: 2.3543 - mse: 12.0052\b\b\b\b\b\b\b\b\b\b\b\b\b\b\b\b\b\b\b\b\b\b\b\b\b\b\b\b\b\b\b\b\b\b\b\b\b\b\b\b\b\b\b\b\b\b\b\b\b\b\b\b\b\b\b\b\b\b\b\b\b\b\b\b\b\b\b\b\b\b\b\b\b\b\b\b\b\b\b\b\b\b\b\b\b\b\b\b\b\b\b\r",
      "8/8 [==============================] - 0s 5ms/step - loss: 6.0202 - mae: 1.7280 - mse: 6.0202 - val_loss: 6.8049 - val_mae: 1.9770 - val_mse: 6.8049\n"
     ]
    }
   ],
   "source": [
    "EPOCHS = 200\n",
    "BATCH_SIZE = 32\n",
    "history = model.fit(X_train_s, y_train,\n",
    "           epochs=EPOCHS,\n",
    "           batch_size=BATCH_SIZE,\n",
    "           validation_split = 0.2,\n",
    "           verbose=1)"
   ]
  },
  {
   "cell_type": "markdown",
   "id": "45aa0caa",
   "metadata": {},
   "source": [
    "### history 객체"
   ]
  },
  {
   "cell_type": "code",
   "execution_count": 20,
   "id": "8a35183e",
   "metadata": {
    "scrolled": true
   },
   "outputs": [
    {
     "data": {
      "text/plain": [
       "dict_keys(['loss', 'mae', 'mse', 'val_loss', 'val_mae', 'val_mse'])"
      ]
     },
     "execution_count": 20,
     "metadata": {},
     "output_type": "execute_result"
    }
   ],
   "source": [
    "history.history.keys()"
   ]
  },
  {
   "cell_type": "markdown",
   "id": "13915d56",
   "metadata": {},
   "source": [
    "## 성능평가"
   ]
  },
  {
   "cell_type": "markdown",
   "id": "b04fc226",
   "metadata": {},
   "source": [
    "### 학습 곡선"
   ]
  },
  {
   "cell_type": "code",
   "execution_count": 43,
   "id": "c22504c7",
   "metadata": {},
   "outputs": [],
   "source": [
    "import matplotlib.pyplot as plt\n",
    "\n",
    "def plot_history(history):\n",
    "    hist = pd.DataFrame(history.history)\n",
    "    hist['epoch'] = history.epoch\n",
    "    \n",
    "    plt.figure(figsize=(16,8))\n",
    "    plt.subplot(1,2,1)\n",
    "    plt.xlabel('Epoch')\n",
    "    plt.ylabel('Mean Abs Error [MPG]')\n",
    "    plt.plot(hist['epoch'], hist['mae'], label='Train Error')\n",
    "    plt.plot(hist['epoch'], hist['val_mae'], label = 'Val Error')\n",
    "    plt.ylim([0,5])\n",
    "    plt.legend()\n",
    "    \n",
    "    plt.subplot(1,2,2)\n",
    "    plt.xlabel('Epoch')\n",
    "    plt.ylabel('Mean Square Error [$MPG^2$]')\n",
    "    plt.plot(hist['epoch'], hist['mse'], label='Train Error')\n",
    "    plt.plot(hist['epoch'], hist['val_mse'], label = 'Val Error')\n",
    "    plt.ylim([0,20])\n",
    "    plt.legend()\n",
    "    plt.show()"
   ]
  },
  {
   "cell_type": "code",
   "execution_count": 55,
   "id": "c792f23c",
   "metadata": {
    "scrolled": false
   },
   "outputs": [
    {
     "data": {
      "image/png": "[encoded data removed]",
      "text/plain": [
       "<Figure size 1600x800 with 2 Axes>"
      ]
     },
     "metadata": {},
     "output_type": "display_data"
    }
   ],
   "source": [
    "plot_history(history)"
   ]
  },
  {
   "cell_type": "markdown",
   "id": "82f7eb4d",
   "metadata": {},
   "source": [
    "# 테스트"
   ]
  },
  {
   "cell_type": "code",
   "execution_count": 56,
   "id": "8b0b0aa8",
   "metadata": {
    "scrolled": false
   },
   "outputs": [
    {
     "name": "stdout",
     "output_type": "stream",
     "text": [
      "3/3 - 0s - loss: 7.0051 - mae: 1.8208 - mse: 7.0051 - 26ms/epoch - 9ms/step\n"
     ]
    }
   ],
   "source": [
    "loss, mae, mse = model.evaluate(X_test_s, y_test, verbose=2)"
   ]
  },
  {
   "cell_type": "markdown",
   "id": "d82b3192",
   "metadata": {},
   "source": [
    "# 예측"
   ]
  },
  {
   "cell_type": "code",
   "execution_count": 57,
   "id": "dadf04a2",
   "metadata": {
    "scrolled": true
   },
   "outputs": [
    {
     "name": "stdout",
     "output_type": "stream",
     "text": [
      "3/3 [==============================] - 0s 1ms/step\n"
     ]
    },
    {
     "data": {
      "text/plain": [
       "array([[24.846731 ],\n",
       "       [20.75404  ],\n",
       "       [35.166683 ],\n",
       "       [25.104694 ],\n",
       "       [28.400839 ],\n",
       "       [29.247631 ],\n",
       "       [13.348243 ],\n",
       "       [30.798832 ],\n",
       "       [18.97133  ],\n",
       "       [31.058264 ],\n",
       "       [15.24906  ],\n",
       "       [21.538322 ],\n",
       "       [17.170036 ],\n",
       "       [27.93207  ],\n",
       "       [16.07377  ],\n",
       "       [30.176971 ],\n",
       "       [18.59365  ],\n",
       "       [34.281776 ],\n",
       "       [28.413263 ],\n",
       "       [26.767231 ],\n",
       "       [20.071503 ],\n",
       "       [44.514412 ],\n",
       "       [36.985703 ],\n",
       "       [15.66637  ],\n",
       "       [29.729364 ],\n",
       "       [24.626537 ],\n",
       "       [17.740274 ],\n",
       "       [17.143753 ],\n",
       "       [30.085707 ],\n",
       "       [21.05186  ],\n",
       "       [14.738035 ],\n",
       "       [20.324818 ],\n",
       "       [20.09819  ],\n",
       "       [34.151524 ],\n",
       "       [14.3595085],\n",
       "       [38.219902 ],\n",
       "       [14.133631 ],\n",
       "       [24.96569  ],\n",
       "       [13.669203 ],\n",
       "       [11.132079 ],\n",
       "       [14.595952 ],\n",
       "       [27.539974 ],\n",
       "       [34.272972 ],\n",
       "       [26.585144 ],\n",
       "       [14.846685 ],\n",
       "       [12.985447 ],\n",
       "       [17.609371 ],\n",
       "       [31.343979 ],\n",
       "       [21.80612  ],\n",
       "       [30.439842 ],\n",
       "       [13.393328 ],\n",
       "       [23.51732  ],\n",
       "       [22.74081  ],\n",
       "       [34.034523 ],\n",
       "       [25.56701  ],\n",
       "       [15.75852  ],\n",
       "       [18.170559 ],\n",
       "       [18.730547 ],\n",
       "       [21.198715 ],\n",
       "       [24.37761  ],\n",
       "       [12.970247 ],\n",
       "       [18.371513 ],\n",
       "       [24.088896 ],\n",
       "       [20.4684   ],\n",
       "       [26.08818  ],\n",
       "       [25.068626 ],\n",
       "       [25.516497 ],\n",
       "       [30.225693 ],\n",
       "       [20.145206 ],\n",
       "       [13.516039 ],\n",
       "       [21.552956 ],\n",
       "       [12.935261 ],\n",
       "       [23.914772 ],\n",
       "       [27.881804 ],\n",
       "       [25.785069 ],\n",
       "       [27.04503  ],\n",
       "       [14.075632 ],\n",
       "       [15.060166 ],\n",
       "       [25.846565 ]], dtype=float32)"
      ]
     },
     "execution_count": 57,
     "metadata": {},
     "output_type": "execute_result"
    }
   ],
   "source": [
    "y_pred = model.predict(X_test_s)\n",
    "y_pred"
   ]
  },
  {
   "cell_type": "markdown",
   "id": "50d55a52",
   "metadata": {},
   "source": [
    "## 예측 결과 시각화"
   ]
  },
  {
   "cell_type": "code",
   "execution_count": 58,
   "id": "70ca14db",
   "metadata": {
    "scrolled": true
   },
   "outputs": [
    {
     "data": {
      "image/png": "[encoded data removed]",
      "text/plain": [
       "<Figure size 800x600 with 1 Axes>"
      ]
     },
     "metadata": {},
     "output_type": "display_data"
    }
   ],
   "source": [
    "y_pred = y_pred.flatten()\n",
    "\n",
    "plt.figure(figsize=(8,6))\n",
    "plt.scatter(y_test, y_pred)\n",
    "\n",
    "plt.xlabel('True Values [MPG]')\n",
    "plt.ylabel('Predictions [MPG]')\n",
    "\n",
    "plt.xlim([0,plt.xlim()[1]])\n",
    "plt.ylim([0,plt.ylim()[1]])\n",
    "plt.plot([-100, 100], [-100, 100])\n",
    "plt.show()"
   ]
  },
  {
   "cell_type": "markdown",
   "id": "71996a8d",
   "metadata": {},
   "source": [
    "## 오차의 시각화"
   ]
  },
  {
   "cell_type": "code",
   "execution_count": 59,
   "id": "f81fb012",
   "metadata": {
    "scrolled": true
   },
   "outputs": [
    {
     "data": {
      "image/png": "[encoded data removed]",
      "text/plain": [
       "<Figure size 800x600 with 1 Axes>"
      ]
     },
     "metadata": {},
     "output_type": "display_data"
    }
   ],
   "source": [
    "error = y_test - y_pred\n",
    "\n",
    "plt.figure(figsize=(8,6))\n",
    "plt.hist(error, bins = 25)\n",
    "plt.xlabel(\"Prediction Error [MPG]\")\n",
    "plt.ylabel(\"Count\")\n",
    "plt.show()\n",
    "\n",
    "# 양 끝단의 오차 범위를 어디까지 볼 것인가"
   ]
  },
  {
   "cell_type": "markdown",
   "id": "4f671226",
   "metadata": {},
   "source": []
  }
 ],
 "metadata": {
  "kernelspec": {
   "display_name": "Python 3 (ipykernel)",
   "language": "python",
   "name": "python3"
  },
  "language_info": {
   "codemirror_mode": {
    "name": "ipython",
    "version": 3
   },
   "file_extension": ".py",
   "mimetype": "text/x-python",
   "name": "python",
   "nbconvert_exporter": "python",
   "pygments_lexer": "ipython3",
   "version": "3.10.8"
  }
 },
 "nbformat": 4,
 "nbformat_minor": 5
}
