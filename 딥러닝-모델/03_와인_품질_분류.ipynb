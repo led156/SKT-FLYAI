{
  "nbformat": 4,
  "nbformat_minor": 0,
  "metadata": {
    "colab": {
      "provenance": []
    },
    "kernelspec": {
      "name": "python3",
      "display_name": "Python 3"
    },
    "language_info": {
      "name": "python"
    }
  },
  "cells": [
    {
      "cell_type": "code",
      "execution_count": null,
      "metadata": {
        "id": "kLVkoJIXbvtN"
      },
      "outputs": [],
      "source": [
        "import pandas as pd\n",
        "import numpy as np\n",
        "import random\n",
        "import tensorflow as tf\n",
        "\n",
        "SEED = 12\n",
        "random.seed(SEED)"
      ]
    },
    {
      "cell_type": "markdown",
      "source": [
        "# 데이터"
      ],
      "metadata": {
        "id": "PmcBnQDLm3kv"
      }
    },
    {
      "cell_type": "code",
      "source": [
        "train = pd.read_csv('./train.csv')\n",
        "test = pd.read_csv('./test.csv')\n",
        "subm = pd.read_csv('./sample_submission.csv')\n",
        "\n",
        "print(train.shape, test.shape, subm.shape)"
      ],
      "metadata": {
        "colab": {
          "base_uri": "https://localhost:8080/"
        },
        "id": "EIiXMwQHms5Y",
        "outputId": "76e2abbe-bfb4-47ad-ea73-4cf0d6043159"
      },
      "execution_count": null,
      "outputs": [
        {
          "output_type": "stream",
          "name": "stdout",
          "text": [
            "(5497, 14) (1000, 13) (1000, 2)\n"
          ]
        }
      ]
    },
    {
      "cell_type": "code",
      "source": [
        "train.head(2)\n",
        "# target : quality"
      ],
      "metadata": {
        "colab": {
          "base_uri": "https://localhost:8080/",
          "height": 211
        },
        "id": "7KZai8rJnW66",
        "outputId": "4f7f8478-ac29-438a-db1d-9664bba61f9e"
      },
      "execution_count": null,
      "outputs": [
        {
          "output_type": "execute_result",
          "data": {
            "text/plain": [
              "   index  quality  fixed acidity  volatile acidity  citric acid  \\\n",
              "0      0        5            5.6             0.695         0.06   \n",
              "1      1        5            8.8             0.610         0.14   \n",
              "\n",
              "   residual sugar  chlorides  free sulfur dioxide  total sulfur dioxide  \\\n",
              "0             6.8      0.042                  9.0                  84.0   \n",
              "1             2.4      0.067                 10.0                  42.0   \n",
              "\n",
              "   density    pH  sulphates  alcohol   type  \n",
              "0  0.99432  3.44       0.44     10.2  white  \n",
              "1  0.99690  3.19       0.59      9.5    red  "
            ],
            "text/html": [
              "\n",
              "  <div id=\"df-29898c85-b8ff-4a9f-9e7d-d68017dc8eca\">\n",
              "    <div class=\"colab-df-container\">\n",
              "      <div>\n",
              "<style scoped>\n",
              "    .dataframe tbody tr th:only-of-type {\n",
              "        vertical-align: middle;\n",
              "    }\n",
              "\n",
              "    .dataframe tbody tr th {\n",
              "        vertical-align: top;\n",
              "    }\n",
              "\n",
              "    .dataframe thead th {\n",
              "        text-align: right;\n",
              "    }\n",
              "</style>\n",
              "<table border=\"1\" class=\"dataframe\">\n",
              "  <thead>\n",
              "    <tr style=\"text-align: right;\">\n",
              "      <th></th>\n",
              "      <th>index</th>\n",
              "      <th>quality</th>\n",
              "      <th>fixed acidity</th>\n",
              "      <th>volatile acidity</th>\n",
              "      <th>citric acid</th>\n",
              "      <th>residual sugar</th>\n",
              "      <th>chlorides</th>\n",
              "      <th>free sulfur dioxide</th>\n",
              "      <th>total sulfur dioxide</th>\n",
              "      <th>density</th>\n",
              "      <th>pH</th>\n",
              "      <th>sulphates</th>\n",
              "      <th>alcohol</th>\n",
              "      <th>type</th>\n",
              "    </tr>\n",
              "  </thead>\n",
              "  <tbody>\n",
              "    <tr>\n",
              "      <th>0</th>\n",
              "      <td>0</td>\n",
              "      <td>5</td>\n",
              "      <td>5.6</td>\n",
              "      <td>0.695</td>\n",
              "      <td>0.06</td>\n",
              "      <td>6.8</td>\n",
              "      <td>0.042</td>\n",
              "      <td>9.0</td>\n",
              "      <td>84.0</td>\n",
              "      <td>0.99432</td>\n",
              "      <td>3.44</td>\n",
              "      <td>0.44</td>\n",
              "      <td>10.2</td>\n",
              "      <td>white</td>\n",
              "    </tr>\n",
              "    <tr>\n",
              "      <th>1</th>\n",
              "      <td>1</td>\n",
              "      <td>5</td>\n",
              "      <td>8.8</td>\n",
              "      <td>0.610</td>\n",
              "      <td>0.14</td>\n",
              "      <td>2.4</td>\n",
              "      <td>0.067</td>\n",
              "      <td>10.0</td>\n",
              "      <td>42.0</td>\n",
              "      <td>0.99690</td>\n",
              "      <td>3.19</td>\n",
              "      <td>0.59</td>\n",
              "      <td>9.5</td>\n",
              "      <td>red</td>\n",
              "    </tr>\n",
              "  </tbody>\n",
              "</table>\n",
              "</div>\n",
              "      <button class=\"colab-df-convert\" onclick=\"convertToInteractive('df-29898c85-b8ff-4a9f-9e7d-d68017dc8eca')\"\n",
              "              title=\"Convert this dataframe to an interactive table.\"\n",
              "              style=\"display:none;\">\n",
              "        \n",
              "  <svg xmlns=\"http://www.w3.org/2000/svg\" height=\"24px\"viewBox=\"0 0 24 24\"\n",
              "       width=\"24px\">\n",
              "    <path d=\"M0 0h24v24H0V0z\" fill=\"none\"/>\n",
              "    <path d=\"M18.56 5.44l.94 2.06.94-2.06 2.06-.94-2.06-.94-.94-2.06-.94 2.06-2.06.94zm-11 1L8.5 8.5l.94-2.06 2.06-.94-2.06-.94L8.5 2.5l-.94 2.06-2.06.94zm10 10l.94 2.06.94-2.06 2.06-.94-2.06-.94-.94-2.06-.94 2.06-2.06.94z\"/><path d=\"M17.41 7.96l-1.37-1.37c-.4-.4-.92-.59-1.43-.59-.52 0-1.04.2-1.43.59L10.3 9.45l-7.72 7.72c-.78.78-.78 2.05 0 2.83L4 21.41c.39.39.9.59 1.41.59.51 0 1.02-.2 1.41-.59l7.78-7.78 2.81-2.81c.8-.78.8-2.07 0-2.86zM5.41 20L4 18.59l7.72-7.72 1.47 1.35L5.41 20z\"/>\n",
              "  </svg>\n",
              "      </button>\n",
              "      \n",
              "  <style>\n",
              "    .colab-df-container {\n",
              "      display:flex;\n",
              "      flex-wrap:wrap;\n",
              "      gap: 12px;\n",
              "    }\n",
              "\n",
              "    .colab-df-convert {\n",
              "      background-color: #E8F0FE;\n",
              "      border: none;\n",
              "      border-radius: 50%;\n",
              "      cursor: pointer;\n",
              "      display: none;\n",
              "      fill: #1967D2;\n",
              "      height: 32px;\n",
              "      padding: 0 0 0 0;\n",
              "      width: 32px;\n",
              "    }\n",
              "\n",
              "    .colab-df-convert:hover {\n",
              "      background-color: #E2EBFA;\n",
              "      box-shadow: 0px 1px 2px rgba(60, 64, 67, 0.3), 0px 1px 3px 1px rgba(60, 64, 67, 0.15);\n",
              "      fill: #174EA6;\n",
              "    }\n",
              "\n",
              "    [theme=dark] .colab-df-convert {\n",
              "      background-color: #3B4455;\n",
              "      fill: #D2E3FC;\n",
              "    }\n",
              "\n",
              "    [theme=dark] .colab-df-convert:hover {\n",
              "      background-color: #434B5C;\n",
              "      box-shadow: 0px 1px 3px 1px rgba(0, 0, 0, 0.15);\n",
              "      filter: drop-shadow(0px 1px 2px rgba(0, 0, 0, 0.3));\n",
              "      fill: #FFFFFF;\n",
              "    }\n",
              "  </style>\n",
              "\n",
              "      <script>\n",
              "        const buttonEl =\n",
              "          document.querySelector('#df-29898c85-b8ff-4a9f-9e7d-d68017dc8eca button.colab-df-convert');\n",
              "        buttonEl.style.display =\n",
              "          google.colab.kernel.accessAllowed ? 'block' : 'none';\n",
              "\n",
              "        async function convertToInteractive(key) {\n",
              "          const element = document.querySelector('#df-29898c85-b8ff-4a9f-9e7d-d68017dc8eca');\n",
              "          const dataTable =\n",
              "            await google.colab.kernel.invokeFunction('convertToInteractive',\n",
              "                                                     [key], {});\n",
              "          if (!dataTable) return;\n",
              "\n",
              "          const docLinkHtml = 'Like what you see? Visit the ' +\n",
              "            '<a target=\"_blank\" href=https://colab.research.google.com/notebooks/data_table.ipynb>data table notebook</a>'\n",
              "            + ' to learn more about interactive tables.';\n",
              "          element.innerHTML = '';\n",
              "          dataTable['output_type'] = 'display_data';\n",
              "          await google.colab.output.renderOutput(dataTable, element);\n",
              "          const docLink = document.createElement('div');\n",
              "          docLink.innerHTML = docLinkHtml;\n",
              "          element.appendChild(docLink);\n",
              "        }\n",
              "      </script>\n",
              "    </div>\n",
              "  </div>\n",
              "  "
            ]
          },
          "metadata": {},
          "execution_count": 38
        }
      ]
    },
    {
      "cell_type": "code",
      "source": [
        "subm.head()"
      ],
      "metadata": {
        "colab": {
          "base_uri": "https://localhost:8080/",
          "height": 206
        },
        "id": "L100r6dynhnb",
        "outputId": "d0303fb1-07f0-4776-c59e-7ab2e023d9e4"
      },
      "execution_count": null,
      "outputs": [
        {
          "output_type": "execute_result",
          "data": {
            "text/plain": [
              "   index  quality\n",
              "0      0        0\n",
              "1      1        0\n",
              "2      2        0\n",
              "3      3        0\n",
              "4      4        0"
            ],
            "text/html": [
              "\n",
              "  <div id=\"df-8d826f5d-4767-4c30-ba8f-71a393d3f670\">\n",
              "    <div class=\"colab-df-container\">\n",
              "      <div>\n",
              "<style scoped>\n",
              "    .dataframe tbody tr th:only-of-type {\n",
              "        vertical-align: middle;\n",
              "    }\n",
              "\n",
              "    .dataframe tbody tr th {\n",
              "        vertical-align: top;\n",
              "    }\n",
              "\n",
              "    .dataframe thead th {\n",
              "        text-align: right;\n",
              "    }\n",
              "</style>\n",
              "<table border=\"1\" class=\"dataframe\">\n",
              "  <thead>\n",
              "    <tr style=\"text-align: right;\">\n",
              "      <th></th>\n",
              "      <th>index</th>\n",
              "      <th>quality</th>\n",
              "    </tr>\n",
              "  </thead>\n",
              "  <tbody>\n",
              "    <tr>\n",
              "      <th>0</th>\n",
              "      <td>0</td>\n",
              "      <td>0</td>\n",
              "    </tr>\n",
              "    <tr>\n",
              "      <th>1</th>\n",
              "      <td>1</td>\n",
              "      <td>0</td>\n",
              "    </tr>\n",
              "    <tr>\n",
              "      <th>2</th>\n",
              "      <td>2</td>\n",
              "      <td>0</td>\n",
              "    </tr>\n",
              "    <tr>\n",
              "      <th>3</th>\n",
              "      <td>3</td>\n",
              "      <td>0</td>\n",
              "    </tr>\n",
              "    <tr>\n",
              "      <th>4</th>\n",
              "      <td>4</td>\n",
              "      <td>0</td>\n",
              "    </tr>\n",
              "  </tbody>\n",
              "</table>\n",
              "</div>\n",
              "      <button class=\"colab-df-convert\" onclick=\"convertToInteractive('df-8d826f5d-4767-4c30-ba8f-71a393d3f670')\"\n",
              "              title=\"Convert this dataframe to an interactive table.\"\n",
              "              style=\"display:none;\">\n",
              "        \n",
              "  <svg xmlns=\"http://www.w3.org/2000/svg\" height=\"24px\"viewBox=\"0 0 24 24\"\n",
              "       width=\"24px\">\n",
              "    <path d=\"M0 0h24v24H0V0z\" fill=\"none\"/>\n",
              "    <path d=\"M18.56 5.44l.94 2.06.94-2.06 2.06-.94-2.06-.94-.94-2.06-.94 2.06-2.06.94zm-11 1L8.5 8.5l.94-2.06 2.06-.94-2.06-.94L8.5 2.5l-.94 2.06-2.06.94zm10 10l.94 2.06.94-2.06 2.06-.94-2.06-.94-.94-2.06-.94 2.06-2.06.94z\"/><path d=\"M17.41 7.96l-1.37-1.37c-.4-.4-.92-.59-1.43-.59-.52 0-1.04.2-1.43.59L10.3 9.45l-7.72 7.72c-.78.78-.78 2.05 0 2.83L4 21.41c.39.39.9.59 1.41.59.51 0 1.02-.2 1.41-.59l7.78-7.78 2.81-2.81c.8-.78.8-2.07 0-2.86zM5.41 20L4 18.59l7.72-7.72 1.47 1.35L5.41 20z\"/>\n",
              "  </svg>\n",
              "      </button>\n",
              "      \n",
              "  <style>\n",
              "    .colab-df-container {\n",
              "      display:flex;\n",
              "      flex-wrap:wrap;\n",
              "      gap: 12px;\n",
              "    }\n",
              "\n",
              "    .colab-df-convert {\n",
              "      background-color: #E8F0FE;\n",
              "      border: none;\n",
              "      border-radius: 50%;\n",
              "      cursor: pointer;\n",
              "      display: none;\n",
              "      fill: #1967D2;\n",
              "      height: 32px;\n",
              "      padding: 0 0 0 0;\n",
              "      width: 32px;\n",
              "    }\n",
              "\n",
              "    .colab-df-convert:hover {\n",
              "      background-color: #E2EBFA;\n",
              "      box-shadow: 0px 1px 2px rgba(60, 64, 67, 0.3), 0px 1px 3px 1px rgba(60, 64, 67, 0.15);\n",
              "      fill: #174EA6;\n",
              "    }\n",
              "\n",
              "    [theme=dark] .colab-df-convert {\n",
              "      background-color: #3B4455;\n",
              "      fill: #D2E3FC;\n",
              "    }\n",
              "\n",
              "    [theme=dark] .colab-df-convert:hover {\n",
              "      background-color: #434B5C;\n",
              "      box-shadow: 0px 1px 3px 1px rgba(0, 0, 0, 0.15);\n",
              "      filter: drop-shadow(0px 1px 2px rgba(0, 0, 0, 0.3));\n",
              "      fill: #FFFFFF;\n",
              "    }\n",
              "  </style>\n",
              "\n",
              "      <script>\n",
              "        const buttonEl =\n",
              "          document.querySelector('#df-8d826f5d-4767-4c30-ba8f-71a393d3f670 button.colab-df-convert');\n",
              "        buttonEl.style.display =\n",
              "          google.colab.kernel.accessAllowed ? 'block' : 'none';\n",
              "\n",
              "        async function convertToInteractive(key) {\n",
              "          const element = document.querySelector('#df-8d826f5d-4767-4c30-ba8f-71a393d3f670');\n",
              "          const dataTable =\n",
              "            await google.colab.kernel.invokeFunction('convertToInteractive',\n",
              "                                                     [key], {});\n",
              "          if (!dataTable) return;\n",
              "\n",
              "          const docLinkHtml = 'Like what you see? Visit the ' +\n",
              "            '<a target=\"_blank\" href=https://colab.research.google.com/notebooks/data_table.ipynb>data table notebook</a>'\n",
              "            + ' to learn more about interactive tables.';\n",
              "          element.innerHTML = '';\n",
              "          dataTable['output_type'] = 'display_data';\n",
              "          await google.colab.output.renderOutput(dataTable, element);\n",
              "          const docLink = document.createElement('div');\n",
              "          docLink.innerHTML = docLinkHtml;\n",
              "          element.appendChild(docLink);\n",
              "        }\n",
              "      </script>\n",
              "    </div>\n",
              "  </div>\n",
              "  "
            ]
          },
          "metadata": {},
          "execution_count": 39
        }
      ]
    },
    {
      "cell_type": "code",
      "source": [
        "train['type'].value_counts()"
      ],
      "metadata": {
        "colab": {
          "base_uri": "https://localhost:8080/"
        },
        "id": "1LKPX5mHno34",
        "outputId": "82d10197-18bd-4ecd-fb81-666e3cf50eac"
      },
      "execution_count": null,
      "outputs": [
        {
          "output_type": "execute_result",
          "data": {
            "text/plain": [
              "white    4159\n",
              "red      1338\n",
              "Name: type, dtype: int64"
            ]
          },
          "metadata": {},
          "execution_count": 40
        }
      ]
    },
    {
      "cell_type": "markdown",
      "source": [
        "### 범주형 데이터 - 숫자형 데이터 변환"
      ],
      "metadata": {
        "id": "gECNkt-Bnv_z"
      }
    },
    {
      "cell_type": "code",
      "source": [
        "train['type'] = np.where(train['type'] == 'white', 1, 0).astype(int)\n",
        "test['type'] = np.where(test['type'] == 'white', 1, 0).astype(int)\n",
        "train['type'].value_counts()"
      ],
      "metadata": {
        "colab": {
          "base_uri": "https://localhost:8080/"
        },
        "id": "FC_5OG1QnsUT",
        "outputId": "b35fc906-e89a-4921-fb3f-b85f7c6018ab"
      },
      "execution_count": null,
      "outputs": [
        {
          "output_type": "execute_result",
          "data": {
            "text/plain": [
              "1    4159\n",
              "0    1338\n",
              "Name: type, dtype: int64"
            ]
          },
          "metadata": {},
          "execution_count": 41
        }
      ]
    },
    {
      "cell_type": "code",
      "source": [
        "train['quality'].value_counts()"
      ],
      "metadata": {
        "colab": {
          "base_uri": "https://localhost:8080/"
        },
        "id": "q4aBXdWeoBOw",
        "outputId": "86253c1e-a89c-4b2e-a70e-5410fb566891"
      },
      "execution_count": null,
      "outputs": [
        {
          "output_type": "execute_result",
          "data": {
            "text/plain": [
              "6    2416\n",
              "5    1788\n",
              "7     924\n",
              "4     186\n",
              "8     152\n",
              "3      26\n",
              "9       5\n",
              "Name: quality, dtype: int64"
            ]
          },
          "metadata": {},
          "execution_count": 42
        }
      ]
    },
    {
      "cell_type": "code",
      "source": [
        "from tensorflow.keras.utils import to_categorical\n",
        "# 와인 등급을 범주형 데이터를 원핫 인코딩 변환\n",
        "y_train = to_categorical(train.loc[:, 'quality'] - 3) # - 3 : 와인 등급을 0~6 으로 바꾼다.\n",
        "y_train"
      ],
      "metadata": {
        "colab": {
          "base_uri": "https://localhost:8080/"
        },
        "id": "E5Coq8KwoGMl",
        "outputId": "58645d01-4d4b-4aa4-f38d-7757f370c0b3"
      },
      "execution_count": null,
      "outputs": [
        {
          "output_type": "execute_result",
          "data": {
            "text/plain": [
              "array([[0., 0., 1., ..., 0., 0., 0.],\n",
              "       [0., 0., 1., ..., 0., 0., 0.],\n",
              "       [0., 0., 1., ..., 0., 0., 0.],\n",
              "       ...,\n",
              "       [0., 0., 0., ..., 1., 0., 0.],\n",
              "       [0., 0., 1., ..., 0., 0., 0.],\n",
              "       [0., 0., 0., ..., 0., 0., 0.]], dtype=float32)"
            ]
          },
          "metadata": {},
          "execution_count": 43
        }
      ]
    },
    {
      "cell_type": "code",
      "source": [
        "# 피처 선택\n",
        "X_train = train.loc[:, 'fixed acidity':]\n",
        "X_test = test.loc[:, 'fixed acidity':]\n",
        "\n",
        "# 피처 스케일링\n",
        "from sklearn.preprocessing import MinMaxScaler\n",
        "scaler = MinMaxScaler()\n",
        "scaler.fit(X_train)\n",
        "X_train_scaled = scaler.fit_transform(X_train)\n",
        "X_test_scaled = scaler.fit_transform(X_test)\n",
        "\n",
        "print(X_train_scaled)\n",
        "print(X_train_scaled.shape, y_train.shape)\n",
        "print(X_test_scaled.shape)"
      ],
      "metadata": {
        "colab": {
          "base_uri": "https://localhost:8080/"
        },
        "id": "De15dUqQoTsR",
        "outputId": "d11e3229-a5a0-41db-f596-6f3bae58fe0c"
      },
      "execution_count": null,
      "outputs": [
        {
          "output_type": "stream",
          "name": "stdout",
          "text": [
            "[[0.14876033 0.41       0.03614458 ... 0.12359551 0.31884058 1.        ]\n",
            " [0.41322314 0.35333333 0.08433735 ... 0.20786517 0.2173913  0.        ]\n",
            " [0.33884298 0.08666667 0.23493976 ... 0.16853933 0.42028986 1.        ]\n",
            " ...\n",
            " [0.33057851 0.04666667 0.20481928 ... 0.28089888 0.47826087 1.        ]\n",
            " [0.23140496 0.22       0.18674699 ... 0.10674157 0.36231884 1.        ]\n",
            " [0.26446281 0.18       0.10240964 ... 0.07865169 0.24637681 1.        ]]\n",
            "(5497, 12) (5497, 7)\n",
            "(1000, 12)\n"
          ]
        }
      ]
    },
    {
      "cell_type": "markdown",
      "source": [
        "### 드랍아웃\n",
        "- 과대적합을 방지하기 위하여, 연결 중 일부를 랜덤으로 제거한 상태에서 학습하는 기법.\n",
        "- 연결된 가중치 수를 줄이는 효과를 얻기 때문에 과대적합을 방지할 수 있음."
      ],
      "metadata": {
        "id": "FDF5FGSvB3TR"
      }
    },
    {
      "cell_type": "code",
      "source": [
        "# 심층 신경망 모델\n",
        "from tensorflow.keras import Sequential\n",
        "from tensorflow.keras.layers import Dense, Dropout\n",
        "\n",
        "def build_model(train_data, train_target) :\n",
        "  model = Sequential()\n",
        "  model.add(Dense(128, activation='tanh', input_dim=train_data.shape[1]))\n",
        "  model.add(Dropout(0.2))\n",
        "  # 0.2 로 설정하면, 20% 확률로 랜덤하게 연결을 제거한다.\n",
        "  # 은닉 레이어의 활성화 함수로 tanh 사용\n",
        "  model.add(Dense(64, activation='tanh'))\n",
        "  model.add(Dropout(0.2))\n",
        "  model.add(Dense(32, activation='tanh'))\n",
        "  # 다중 분류 모델이므로 마지막 활성화 함수는 softmax 적용\n",
        "  model.add(Dense(train_target.shape[1], activation='softmax'))\n",
        "  # 손실 함수 : categorical_crossentropy\n",
        "  model.compile(optimizer='RMSProp', loss='categorical_crossentropy', metrics=['acc', 'mae'])\n",
        "  \n",
        "  return model\n",
        "\n",
        "model = build_model(X_train_scaled, y_train)\n",
        "model.summary()"
      ],
      "metadata": {
        "colab": {
          "base_uri": "https://localhost:8080/"
        },
        "id": "tboBKviYAMmE",
        "outputId": "aba9b6f5-eabf-4a56-b057-a32393dee16b"
      },
      "execution_count": null,
      "outputs": [
        {
          "output_type": "stream",
          "name": "stdout",
          "text": [
            "Model: \"sequential_2\"\n",
            "_________________________________________________________________\n",
            " Layer (type)                Output Shape              Param #   \n",
            "=================================================================\n",
            " dense_8 (Dense)             (None, 128)               1664      \n",
            "                                                                 \n",
            " dropout_4 (Dropout)         (None, 128)               0         \n",
            "                                                                 \n",
            " dense_9 (Dense)             (None, 64)                8256      \n",
            "                                                                 \n",
            " dropout_5 (Dropout)         (None, 64)                0         \n",
            "                                                                 \n",
            " dense_10 (Dense)            (None, 32)                2080      \n",
            "                                                                 \n",
            " dense_11 (Dense)            (None, 7)                 231       \n",
            "                                                                 \n",
            "=================================================================\n",
            "Total params: 12,231\n",
            "Trainable params: 12,231\n",
            "Non-trainable params: 0\n",
            "_________________________________________________________________\n"
          ]
        }
      ]
    },
    {
      "cell_type": "code",
      "source": [
        "###\n",
        "# Early Stopping 기법\n",
        "from sklearn.model_selection import train_test_split\n",
        "from tensorflow.keras.callbacks import EarlyStopping\n",
        "\n",
        "###\n",
        "# 피처 선택\n",
        "X_train = train.loc[:, 'fixed acidity':]\n",
        "X_test = test.loc[:, 'fixed acidity':]\n",
        "\n",
        "X_tr, X_val, y_tr, y_val = train_test_split(X_train, y_train, test_size=0.15, shuffle=True, random_state=SEED)\n",
        "\n"
      ],
      "metadata": {
        "id": "PAcOU-RmjjS-"
      },
      "execution_count": null,
      "outputs": []
    },
    {
      "cell_type": "code",
      "source": [
        "###\n",
        "# 피처 스케일링\n",
        "from sklearn.preprocessing import MinMaxScaler\n",
        "scaler = MinMaxScaler()\n",
        "scaler.fit(X_tr)\n",
        "X_train_scaled = scaler.fit_transform(X_tr)\n",
        "X_test_scaled = scaler.fit_transform(X_test)\n",
        "\n",
        "print(X_train_scaled)\n",
        "print(X_train_scaled.shape, y_train.shape)\n",
        "print(X_test_scaled.shape)"
      ],
      "metadata": {
        "colab": {
          "base_uri": "https://localhost:8080/"
        },
        "id": "x-XKh6Yejhq0",
        "outputId": "3ad9cc3f-f68b-4386-a562-11c37d1a1fd9"
      },
      "execution_count": null,
      "outputs": [
        {
          "output_type": "stream",
          "name": "stdout",
          "text": [
            "[[0.23140496 0.15333333 0.1686747  ... 0.1011236  0.75362319 1.        ]\n",
            " [0.18181818 0.08       0.15662651 ... 0.26404494 0.20289855 1.        ]\n",
            " [0.33057851 0.27333333 0.29518072 ... 0.06179775 0.28985507 1.        ]\n",
            " ...\n",
            " [0.36363636 0.83333333 0.         ... 0.15168539 0.42028986 0.        ]\n",
            " [0.28099174 0.33333333 0.3253012  ... 0.19662921 0.33333333 0.        ]\n",
            " [0.37190083 0.38333333 0.07228916 ... 0.24719101 0.26086957 0.        ]]\n",
            "(4672, 12) (5497, 7)\n",
            "(1000, 12)\n"
          ]
        }
      ]
    },
    {
      "cell_type": "code",
      "source": [
        "###\n",
        "early_stopping = EarlyStopping(monitor='val_loss', patience=10)\n",
        "history = model.fit(X_train_scaled, y_tr, batch_size=62, epochs=200,\n",
        "                    validation_data=(X_val, y_val),\n",
        "                    callbacks=[early_stopping],\n",
        "                    verbose=2)"
      ],
      "metadata": {
        "colab": {
          "base_uri": "https://localhost:8080/"
        },
        "id": "g2ScKLddjnFa",
        "outputId": "c2cec722-a8fe-482c-bcd2-f06f5c2450a7"
      },
      "execution_count": null,
      "outputs": [
        {
          "output_type": "stream",
          "name": "stdout",
          "text": [
            "Epoch 1/200\n",
            "76/76 - 0s - loss: 1.4284 - acc: 0.4343 - mae: 0.1948 - val_loss: 1.1683 - val_acc: 0.5042 - val_mae: 0.1743 - 181ms/epoch - 2ms/step\n",
            "Epoch 2/200\n",
            "76/76 - 0s - loss: 1.1838 - acc: 0.4923 - mae: 0.1803 - val_loss: 1.6500 - val_acc: 0.4000 - val_mae: 0.1980 - 277ms/epoch - 4ms/step\n",
            "Epoch 3/200\n",
            "76/76 - 0s - loss: 1.1489 - acc: 0.5019 - mae: 0.1759 - val_loss: 1.8071 - val_acc: 0.3709 - val_mae: 0.2033 - 274ms/epoch - 4ms/step\n",
            "Epoch 4/200\n",
            "76/76 - 0s - loss: 1.1272 - acc: 0.5171 - mae: 0.1730 - val_loss: 1.8372 - val_acc: 0.3673 - val_mae: 0.2039 - 209ms/epoch - 3ms/step\n",
            "Epoch 5/200\n",
            "76/76 - 0s - loss: 1.1106 - acc: 0.5180 - mae: 0.1712 - val_loss: 1.8490 - val_acc: 0.3697 - val_mae: 0.2045 - 146ms/epoch - 2ms/step\n",
            "Epoch 6/200\n",
            "76/76 - 0s - loss: 1.1126 - acc: 0.5167 - mae: 0.1712 - val_loss: 1.9220 - val_acc: 0.3770 - val_mae: 0.2082 - 140ms/epoch - 2ms/step\n",
            "Epoch 7/200\n",
            "76/76 - 0s - loss: 1.1028 - acc: 0.5225 - mae: 0.1698 - val_loss: 1.8543 - val_acc: 0.3818 - val_mae: 0.2066 - 122ms/epoch - 2ms/step\n",
            "Epoch 8/200\n",
            "76/76 - 0s - loss: 1.0962 - acc: 0.5255 - mae: 0.1699 - val_loss: 1.8458 - val_acc: 0.3891 - val_mae: 0.2060 - 135ms/epoch - 2ms/step\n",
            "Epoch 9/200\n",
            "76/76 - 0s - loss: 1.0923 - acc: 0.5317 - mae: 0.1685 - val_loss: 1.8597 - val_acc: 0.3855 - val_mae: 0.2072 - 137ms/epoch - 2ms/step\n",
            "Epoch 10/200\n",
            "76/76 - 0s - loss: 1.0846 - acc: 0.5351 - mae: 0.1686 - val_loss: 1.8253 - val_acc: 0.3891 - val_mae: 0.2069 - 140ms/epoch - 2ms/step\n",
            "Epoch 11/200\n",
            "76/76 - 0s - loss: 1.0798 - acc: 0.5291 - mae: 0.1680 - val_loss: 1.8257 - val_acc: 0.3794 - val_mae: 0.2077 - 126ms/epoch - 2ms/step\n"
          ]
        }
      ]
    },
    {
      "cell_type": "code",
      "source": [
        "# Early Stopping 기법\n",
        "from sklearn.model_selection import train_test_split\n",
        "from tensorflow.keras.callbacks import EarlyStopping\n",
        "\n",
        "X_tr, X_val, y_tr, y_val = train_test_split(X_train_scaled, y_train, test_size=0.15, shuffle=True, random_state=SEED)\n",
        "\n",
        "early_stopping = EarlyStopping(monitor='val_loss', patience=10)\n",
        "history = model.fit(X_tr, y_tr, batch_size=62, epochs=200,\n",
        "                    validation_data=(X_val, y_val),\n",
        "                    callbacks=[early_stopping],\n",
        "                    verbose=2)"
      ],
      "metadata": {
        "colab": {
          "base_uri": "https://localhost:8080/"
        },
        "id": "B7EWfEEcDbbn",
        "outputId": "203815ae-1259-4d70-849d-f34a5583b42a"
      },
      "execution_count": null,
      "outputs": [
        {
          "output_type": "stream",
          "name": "stdout",
          "text": [
            "Epoch 1/200\n",
            "76/76 - 1s - loss: 1.2840 - acc: 0.4623 - mae: 0.1914 - val_loss: 1.1684 - val_acc: 0.4800 - val_mae: 0.1841 - 863ms/epoch - 11ms/step\n",
            "Epoch 2/200\n",
            "76/76 - 0s - loss: 1.1637 - acc: 0.5019 - mae: 0.1772 - val_loss: 1.0941 - val_acc: 0.5273 - val_mae: 0.1716 - 128ms/epoch - 2ms/step\n",
            "Epoch 3/200\n",
            "76/76 - 0s - loss: 1.1429 - acc: 0.5105 - mae: 0.1739 - val_loss: 1.0779 - val_acc: 0.5527 - val_mae: 0.1677 - 127ms/epoch - 2ms/step\n",
            "Epoch 4/200\n",
            "76/76 - 0s - loss: 1.1229 - acc: 0.5173 - mae: 0.1715 - val_loss: 1.0675 - val_acc: 0.5382 - val_mae: 0.1686 - 157ms/epoch - 2ms/step\n",
            "Epoch 5/200\n",
            "76/76 - 0s - loss: 1.1158 - acc: 0.5274 - mae: 0.1710 - val_loss: 1.0689 - val_acc: 0.5527 - val_mae: 0.1674 - 127ms/epoch - 2ms/step\n",
            "Epoch 6/200\n",
            "76/76 - 0s - loss: 1.1044 - acc: 0.5257 - mae: 0.1700 - val_loss: 1.0654 - val_acc: 0.5321 - val_mae: 0.1694 - 137ms/epoch - 2ms/step\n",
            "Epoch 7/200\n",
            "76/76 - 0s - loss: 1.1019 - acc: 0.5255 - mae: 0.1693 - val_loss: 1.0700 - val_acc: 0.5491 - val_mae: 0.1693 - 140ms/epoch - 2ms/step\n",
            "Epoch 8/200\n",
            "76/76 - 0s - loss: 1.0998 - acc: 0.5302 - mae: 0.1699 - val_loss: 1.0664 - val_acc: 0.5127 - val_mae: 0.1687 - 118ms/epoch - 2ms/step\n",
            "Epoch 9/200\n",
            "76/76 - 0s - loss: 1.0960 - acc: 0.5268 - mae: 0.1692 - val_loss: 1.0843 - val_acc: 0.5370 - val_mae: 0.1700 - 134ms/epoch - 2ms/step\n",
            "Epoch 10/200\n",
            "76/76 - 0s - loss: 1.0944 - acc: 0.5283 - mae: 0.1692 - val_loss: 1.0475 - val_acc: 0.5491 - val_mae: 0.1639 - 133ms/epoch - 2ms/step\n",
            "Epoch 11/200\n",
            "76/76 - 0s - loss: 1.0906 - acc: 0.5319 - mae: 0.1682 - val_loss: 1.0535 - val_acc: 0.5552 - val_mae: 0.1666 - 138ms/epoch - 2ms/step\n",
            "Epoch 12/200\n",
            "76/76 - 0s - loss: 1.0863 - acc: 0.5362 - mae: 0.1683 - val_loss: 1.0467 - val_acc: 0.5539 - val_mae: 0.1636 - 130ms/epoch - 2ms/step\n",
            "Epoch 13/200\n",
            "76/76 - 0s - loss: 1.0851 - acc: 0.5396 - mae: 0.1684 - val_loss: 1.0655 - val_acc: 0.5248 - val_mae: 0.1641 - 140ms/epoch - 2ms/step\n",
            "Epoch 14/200\n",
            "76/76 - 0s - loss: 1.0823 - acc: 0.5415 - mae: 0.1676 - val_loss: 1.0693 - val_acc: 0.5455 - val_mae: 0.1645 - 134ms/epoch - 2ms/step\n",
            "Epoch 15/200\n",
            "76/76 - 0s - loss: 1.0818 - acc: 0.5400 - mae: 0.1677 - val_loss: 1.0447 - val_acc: 0.5576 - val_mae: 0.1638 - 126ms/epoch - 2ms/step\n",
            "Epoch 16/200\n",
            "76/76 - 0s - loss: 1.0800 - acc: 0.5340 - mae: 0.1677 - val_loss: 1.0555 - val_acc: 0.5382 - val_mae: 0.1669 - 118ms/epoch - 2ms/step\n",
            "Epoch 17/200\n",
            "76/76 - 0s - loss: 1.0793 - acc: 0.5308 - mae: 0.1677 - val_loss: 1.0531 - val_acc: 0.5515 - val_mae: 0.1662 - 150ms/epoch - 2ms/step\n",
            "Epoch 18/200\n",
            "76/76 - 0s - loss: 1.0724 - acc: 0.5377 - mae: 0.1673 - val_loss: 1.0408 - val_acc: 0.5515 - val_mae: 0.1665 - 129ms/epoch - 2ms/step\n",
            "Epoch 19/200\n",
            "76/76 - 0s - loss: 1.0790 - acc: 0.5334 - mae: 0.1679 - val_loss: 1.0474 - val_acc: 0.5503 - val_mae: 0.1678 - 129ms/epoch - 2ms/step\n",
            "Epoch 20/200\n",
            "76/76 - 0s - loss: 1.0738 - acc: 0.5426 - mae: 0.1671 - val_loss: 1.0641 - val_acc: 0.5321 - val_mae: 0.1686 - 119ms/epoch - 2ms/step\n",
            "Epoch 21/200\n",
            "76/76 - 0s - loss: 1.0679 - acc: 0.5381 - mae: 0.1664 - val_loss: 1.0405 - val_acc: 0.5564 - val_mae: 0.1624 - 205ms/epoch - 3ms/step\n",
            "Epoch 22/200\n",
            "76/76 - 0s - loss: 1.0700 - acc: 0.5351 - mae: 0.1668 - val_loss: 1.0360 - val_acc: 0.5576 - val_mae: 0.1631 - 122ms/epoch - 2ms/step\n",
            "Epoch 23/200\n",
            "76/76 - 0s - loss: 1.0625 - acc: 0.5454 - mae: 0.1663 - val_loss: 1.0344 - val_acc: 0.5600 - val_mae: 0.1639 - 124ms/epoch - 2ms/step\n",
            "Epoch 24/200\n",
            "76/76 - 0s - loss: 1.0671 - acc: 0.5415 - mae: 0.1661 - val_loss: 1.0487 - val_acc: 0.5673 - val_mae: 0.1623 - 127ms/epoch - 2ms/step\n",
            "Epoch 25/200\n",
            "76/76 - 0s - loss: 1.0653 - acc: 0.5494 - mae: 0.1664 - val_loss: 1.0305 - val_acc: 0.5564 - val_mae: 0.1620 - 130ms/epoch - 2ms/step\n",
            "Epoch 26/200\n",
            "76/76 - 0s - loss: 1.0589 - acc: 0.5445 - mae: 0.1656 - val_loss: 1.0357 - val_acc: 0.5576 - val_mae: 0.1645 - 129ms/epoch - 2ms/step\n",
            "Epoch 27/200\n",
            "76/76 - 0s - loss: 1.0564 - acc: 0.5424 - mae: 0.1657 - val_loss: 1.0334 - val_acc: 0.5648 - val_mae: 0.1620 - 149ms/epoch - 2ms/step\n",
            "Epoch 28/200\n",
            "76/76 - 0s - loss: 1.0589 - acc: 0.5494 - mae: 0.1648 - val_loss: 1.0343 - val_acc: 0.5370 - val_mae: 0.1650 - 142ms/epoch - 2ms/step\n",
            "Epoch 29/200\n",
            "76/76 - 0s - loss: 1.0530 - acc: 0.5469 - mae: 0.1656 - val_loss: 1.0298 - val_acc: 0.5685 - val_mae: 0.1634 - 126ms/epoch - 2ms/step\n",
            "Epoch 30/200\n",
            "76/76 - 0s - loss: 1.0519 - acc: 0.5490 - mae: 0.1652 - val_loss: 1.0446 - val_acc: 0.5697 - val_mae: 0.1632 - 131ms/epoch - 2ms/step\n",
            "Epoch 31/200\n",
            "76/76 - 0s - loss: 1.0522 - acc: 0.5535 - mae: 0.1649 - val_loss: 1.0284 - val_acc: 0.5745 - val_mae: 0.1605 - 136ms/epoch - 2ms/step\n",
            "Epoch 32/200\n",
            "76/76 - 0s - loss: 1.0466 - acc: 0.5456 - mae: 0.1644 - val_loss: 1.0599 - val_acc: 0.5612 - val_mae: 0.1676 - 123ms/epoch - 2ms/step\n",
            "Epoch 33/200\n",
            "76/76 - 0s - loss: 1.0474 - acc: 0.5503 - mae: 0.1644 - val_loss: 1.0343 - val_acc: 0.5600 - val_mae: 0.1633 - 132ms/epoch - 2ms/step\n",
            "Epoch 34/200\n",
            "76/76 - 0s - loss: 1.0464 - acc: 0.5492 - mae: 0.1643 - val_loss: 1.0474 - val_acc: 0.5430 - val_mae: 0.1651 - 123ms/epoch - 2ms/step\n",
            "Epoch 35/200\n",
            "76/76 - 0s - loss: 1.0476 - acc: 0.5529 - mae: 0.1640 - val_loss: 1.0384 - val_acc: 0.5588 - val_mae: 0.1639 - 124ms/epoch - 2ms/step\n",
            "Epoch 36/200\n",
            "76/76 - 0s - loss: 1.0481 - acc: 0.5494 - mae: 0.1640 - val_loss: 1.0472 - val_acc: 0.5430 - val_mae: 0.1673 - 140ms/epoch - 2ms/step\n",
            "Epoch 37/200\n",
            "76/76 - 0s - loss: 1.0469 - acc: 0.5479 - mae: 0.1648 - val_loss: 1.0372 - val_acc: 0.5758 - val_mae: 0.1608 - 125ms/epoch - 2ms/step\n",
            "Epoch 38/200\n",
            "76/76 - 0s - loss: 1.0431 - acc: 0.5486 - mae: 0.1640 - val_loss: 1.0305 - val_acc: 0.5624 - val_mae: 0.1624 - 136ms/epoch - 2ms/step\n",
            "Epoch 39/200\n",
            "76/76 - 0s - loss: 1.0486 - acc: 0.5524 - mae: 0.1643 - val_loss: 1.0318 - val_acc: 0.5491 - val_mae: 0.1624 - 124ms/epoch - 2ms/step\n",
            "Epoch 40/200\n",
            "76/76 - 0s - loss: 1.0393 - acc: 0.5439 - mae: 0.1637 - val_loss: 1.0403 - val_acc: 0.5612 - val_mae: 0.1626 - 124ms/epoch - 2ms/step\n",
            "Epoch 41/200\n",
            "76/76 - 0s - loss: 1.0420 - acc: 0.5458 - mae: 0.1640 - val_loss: 1.0340 - val_acc: 0.5576 - val_mae: 0.1626 - 130ms/epoch - 2ms/step\n"
          ]
        }
      ]
    },
    {
      "cell_type": "code",
      "source": [
        "import matplotlib.pyplot as plt\n",
        "\n",
        "def plot_loss_curve(total_epoch=10, start=1) :\n",
        "  plt.figure(figsize=(5, 5))\n",
        "  plt.plot(range(start, total_epoch+1),\n",
        "           history.history['loss'][start-1 : total_epoch],\n",
        "           label='Train')\n",
        "  plt.plot(range(start, total_epoch+1),\n",
        "           history.history['val_loss'][start-1 : total_epoch],\n",
        "           label='Validation')\n",
        "  plt.xlabel('Epochs')\n",
        "  plt.ylabel('mse')\n",
        "  plt.legend()\n",
        "  plt.show()\n",
        "\n",
        "plot_loss_curve(total_epoch=40, start=1)"
      ],
      "metadata": {
        "colab": {
          "base_uri": "https://localhost:8080/",
          "height": 334
        },
        "id": "CLbJ8MoDEIvf",
        "outputId": "74682cb1-e76b-4848-8caf-159be8c7f16d"
      },
      "execution_count": null,
      "outputs": [
        {
          "output_type": "display_data",
          "data": {
            "text/plain": [
              "<Figure size 360x360 with 1 Axes>"
            ],
            "image/png": "[encoded data removed]"
          },
          "metadata": {
            "needs_background": "light"
          }
        }
      ]
    },
    {
      "cell_type": "code",
      "source": [
        "model.evaluate(X_val, y_val)"
      ],
      "metadata": {
        "colab": {
          "base_uri": "https://localhost:8080/"
        },
        "id": "N1gWwt44ERf8",
        "outputId": "cacc0818-3de0-43bf-f3de-f887158cbab4"
      },
      "execution_count": null,
      "outputs": [
        {
          "output_type": "stream",
          "name": "stdout",
          "text": [
            "26/26 [==============================] - 0s 1ms/step - loss: 1.0340 - acc: 0.5576 - mae: 0.1626\n"
          ]
        },
        {
          "output_type": "execute_result",
          "data": {
            "text/plain": [
              "[1.0340144634246826, 0.5575757622718811, 0.16263556480407715]"
            ]
          },
          "metadata": {},
          "execution_count": 55
        }
      ]
    },
    {
      "cell_type": "code",
      "source": [
        "# test 데이터에 대한 예측값 정리\n",
        "y_pred_proba = model.predict(X_test)\n",
        "y_pred_proba[:5]"
      ],
      "metadata": {
        "colab": {
          "base_uri": "https://localhost:8080/"
        },
        "id": "20RF7NnBE_9v",
        "outputId": "62d7ce62-1f08-4228-99ba-acc7af3b0d90"
      },
      "execution_count": null,
      "outputs": [
        {
          "output_type": "stream",
          "name": "stdout",
          "text": [
            "32/32 [==============================] - 0s 943us/step\n"
          ]
        },
        {
          "output_type": "execute_result",
          "data": {
            "text/plain": [
              "array([[0.56669647, 0.01449465, 0.07589876, 0.09573483, 0.04248961,\n",
              "        0.09964306, 0.10504255],\n",
              "       [0.40615833, 0.00390374, 0.02418812, 0.04954151, 0.03880212,\n",
              "        0.1782267 , 0.2991795 ],\n",
              "       [0.54721254, 0.02009227, 0.09227871, 0.10072718, 0.04949555,\n",
              "        0.09092066, 0.09927299],\n",
              "       [0.51970774, 0.04605883, 0.14394656, 0.10612269, 0.05036254,\n",
              "        0.0785709 , 0.05523082],\n",
              "       [0.56338537, 0.01224285, 0.06977345, 0.08882631, 0.04561283,\n",
              "        0.10292958, 0.1172296 ]], dtype=float32)"
            ]
          },
          "metadata": {},
          "execution_count": 56
        }
      ]
    },
    {
      "cell_type": "code",
      "source": [
        "y_pred_label = np.argmax(y_pred_proba, axis=-1) + 3 # 데이터 전처리시, 3을 감소시켰기 때문에 3을 더해서 복원.\n",
        "y_pred_label[:5]"
      ],
      "metadata": {
        "colab": {
          "base_uri": "https://localhost:8080/"
        },
        "id": "oV42Z46GFGOo",
        "outputId": "ab2fbc62-a3e9-4e51-f641-c294f82ab346"
      },
      "execution_count": null,
      "outputs": [
        {
          "output_type": "execute_result",
          "data": {
            "text/plain": [
              "array([3, 3, 3, 3, 3])"
            ]
          },
          "metadata": {},
          "execution_count": 57
        }
      ]
    },
    {
      "cell_type": "code",
      "source": [
        "# 제출 양식에 맞게 정리\n",
        "subm['quality'] = y_pred_label.astype(int)\n",
        "subm.head()\n",
        "\n",
        "# 제출 파일 저장\n",
        "subm.to_csv('wine_dnn_.csv', index=False)"
      ],
      "metadata": {
        "id": "wRJc82HlFLVu"
      },
      "execution_count": null,
      "outputs": []
    },
    {
      "cell_type": "code",
      "source": [],
      "metadata": {
        "id": "h4xJT7yTFjrt"
      },
      "execution_count": null,
      "outputs": []
    }
  ]
}