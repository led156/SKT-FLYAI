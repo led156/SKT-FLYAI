{
  "nbformat": 4,
  "nbformat_minor": 0,
  "metadata": {
    "colab": {
      "provenance": []
    },
    "kernelspec": {
      "name": "python3",
      "display_name": "Python 3"
    },
    "language_info": {
      "name": "python"
    }
  },
  "cells": [
    {
      "cell_type": "code",
      "execution_count": null,
      "metadata": {
        "id": "nTiDdpWiBbKA"
      },
      "outputs": [],
      "source": [
        "import tensorflow as tf\n",
        "import pandas as pd\n",
        "import numpy as np"
      ]
    },
    {
      "cell_type": "markdown",
      "source": [
        "# 데이터"
      ],
      "metadata": {
        "id": "wcGGcE-GGZVj"
      }
    },
    {
      "cell_type": "code",
      "source": [
        "x = [-3, 31, -11, 4, 0, 22, -2, -5, -25, -14]\n",
        "y = [-2, 32, -10, 5, 1, 23, -1, -4, -24, -13]"
      ],
      "metadata": {
        "id": "_oIs3f3_FvUO"
      },
      "execution_count": null,
      "outputs": []
    },
    {
      "cell_type": "code",
      "source": [
        "X_train = np.array(x).reshape(-1, 1)\n",
        "y_train = np.array(y)\n",
        "\n",
        "print(X_train.shape, y_train.shape)"
      ],
      "metadata": {
        "colab": {
          "base_uri": "https://localhost:8080/"
        },
        "id": "qxLk-jPlF9cZ",
        "outputId": "87d497fb-8f90-4bc3-8cc2-a8160d9422ad"
      },
      "execution_count": null,
      "outputs": [
        {
          "output_type": "stream",
          "name": "stdout",
          "text": [
            "(10, 1) (10,)\n"
          ]
        }
      ]
    },
    {
      "cell_type": "markdown",
      "source": [
        "# 모델"
      ],
      "metadata": {
        "id": "eO-C7w2ZGXc_"
      }
    },
    {
      "cell_type": "code",
      "source": [
        "from tensorflow.keras import Sequential\n",
        "from tensorflow.keras.layers import Dense\n",
        "\n",
        "model = Sequential()\n",
        "# 한 개의 연속형 수치(주택 가격)를 예측하는 회귀 문제\n",
        "# 따라서 유닛 개수는 1. 활성화 함수로는 'linear' 지정\n",
        "model.add(Dense(units=1, activation='linear', input_dim=1))\n",
        "model.summary()"
      ],
      "metadata": {
        "colab": {
          "base_uri": "https://localhost:8080/"
        },
        "id": "OeuQGIUqGR9V",
        "outputId": "6d87a74f-78ec-4470-ceee-67a79358a022"
      },
      "execution_count": null,
      "outputs": [
        {
          "output_type": "stream",
          "name": "stdout",
          "text": [
            "Model: \"sequential\"\n",
            "_________________________________________________________________\n",
            " Layer (type)                Output Shape              Param #   \n",
            "=================================================================\n",
            " dense (Dense)               (None, 1)                 2         \n",
            "                                                                 \n",
            "=================================================================\n",
            "Total params: 2\n",
            "Trainable params: 2\n",
            "Non-trainable params: 0\n",
            "_________________________________________________________________\n"
          ]
        }
      ]
    },
    {
      "cell_type": "markdown",
      "source": [
        "## 모델 컴파일"
      ],
      "metadata": {
        "id": "7foZnnicH9QJ"
      }
    },
    {
      "cell_type": "code",
      "source": [
        "model.compile(optimizer='adam', loss='mse', metrics=['mae'])"
      ],
      "metadata": {
        "id": "ykFIfhIIGsvE"
      },
      "execution_count": null,
      "outputs": []
    },
    {
      "cell_type": "markdown",
      "source": [
        "## 모델 학습 및 예측"
      ],
      "metadata": {
        "id": "MeRQwkcqIHs1"
      }
    },
    {
      "cell_type": "code",
      "source": [
        "model.fit(X_train, y_train, epochs=3000, verbose=0)\n",
        "# epoch : 몇 번 학습할 것인지.\n",
        "# verbose=0 : silent, 훈련과정을 화면 출력하지 않음.\n",
        "#         1 : progress bar.\n",
        "#         2 : one line per epoch."
      ],
      "metadata": {
        "colab": {
          "base_uri": "https://localhost:8080/"
        },
        "id": "883hr7dnIDhR",
        "outputId": "fb3887f0-18fb-4052-c875-2805cecd7add"
      },
      "execution_count": null,
      "outputs": [
        {
          "output_type": "execute_result",
          "data": {
            "text/plain": [
              "<keras.callbacks.History at 0x7f9d21486190>"
            ]
          },
          "metadata": {},
          "execution_count": 10
        }
      ]
    },
    {
      "cell_type": "code",
      "source": [
        "model.weights # 학습을 마친 모델의 가중치 확인"
      ],
      "metadata": {
        "colab": {
          "base_uri": "https://localhost:8080/"
        },
        "id": "owbG-lGkIGKj",
        "outputId": "024829ef-3781-4af1-d456-57420ca0f0bc"
      },
      "execution_count": null,
      "outputs": [
        {
          "output_type": "execute_result",
          "data": {
            "text/plain": [
              "[<tf.Variable 'dense/kernel:0' shape=(1, 1) dtype=float32, numpy=array([[0.9998829]], dtype=float32)>,\n",
              " <tf.Variable 'dense/bias:0' shape=(1,) dtype=float32, numpy=array([0.99985325], dtype=float32)>]"
            ]
          },
          "metadata": {},
          "execution_count": 11
        }
      ]
    },
    {
      "cell_type": "code",
      "source": [
        "model.predict([[11], [12], [13]])"
      ],
      "metadata": {
        "colab": {
          "base_uri": "https://localhost:8080/"
        },
        "id": "QX5QYuWZIzJ8",
        "outputId": "89a8171e-6321-47d5-ecfa-bbee405471ca"
      },
      "execution_count": null,
      "outputs": [
        {
          "output_type": "stream",
          "name": "stdout",
          "text": [
            "1/1 [==============================] - 0s 74ms/step\n"
          ]
        },
        {
          "output_type": "execute_result",
          "data": {
            "text/plain": [
              "array([[11.998565],\n",
              "       [12.998447],\n",
              "       [13.99833 ]], dtype=float32)"
            ]
          },
          "metadata": {},
          "execution_count": 12
        }
      ]
    }
  ]
}